{
 "cells": [
  {
   "cell_type": "code",
   "execution_count": 1,
   "id": "6bbf386c",
   "metadata": {},
   "outputs": [],
   "source": [
    "import pandas as pd"
   ]
  },
  {
   "cell_type": "code",
   "execution_count": 2,
   "id": "cefbce58",
   "metadata": {},
   "outputs": [],
   "source": [
    "fao_fbs = pd.read_csv(r\"..\\data\\FAOSTAT\\raw\\FoodBalanceSheets_E_All_Data_(Normalized).csv\")\n",
    "fao_fs = pd.read_csv(r\"..\\data\\FAOSTAT\\raw\\Food_Security_Data_E_All_Data_(Normalized).csv\")\n",
    "fao_emissions = pd.read_csv(r\"..\\data\\FAOSTAT\\raw\\Climate_change_Emissions_indicators_E_All_Data_(Normalized).csv\")\n",
    "fao_cpi = pd.read_csv(r\"..\\data\\FAOSTAT\\raw\\ConsumerPriceIndices_E_All_Data_(Normalized).csv\")\n",
    "fao_population = pd.read_csv(r\"..\\data\\FAOSTAT\\raw\\Population_E_All_Data_(Normalized).csv\")\n",
    "fao_prices = pd.read_csv(r\"..\\data\\FAOSTAT\\raw\\Prices_E_All_Data_(Normalized).csv\")\n",
    "fao_production_indices = pd.read_csv(r\"..\\data\\FAOSTAT\\raw\\Production_Indices_E_All_Data_(Normalized).csv\")"
   ]
  },
  {
   "cell_type": "code",
   "execution_count": 3,
   "id": "aa31c0ca",
   "metadata": {},
   "outputs": [],
   "source": [
    "# Create a dictionary to hold the DataFrames\n",
    "dfs = {\n",
    "    \"fao_fbs\": fao_fbs,\n",
    "    \"fao_fs\": fao_fs,\n",
    "    \"fao_emissions\": fao_emissions,\n",
    "    \"fao_cpi\": fao_cpi,\n",
    "    \"fao_population\": fao_population,\n",
    "    \"fao_prices\": fao_prices,\n",
    "    \"fao_production_indices\": fao_production_indices\n",
    "}"
   ]
  },
  {
   "cell_type": "markdown",
   "id": "0eef4632",
   "metadata": {},
   "source": [
    "## Relevant Columns"
   ]
  },
  {
   "cell_type": "code",
   "execution_count": 4,
   "id": "3da7a282",
   "metadata": {},
   "outputs": [
    {
     "name": "stdout",
     "output_type": "stream",
     "text": [
      "fao_fbs: ['Area Code', 'Area Code (M49)', 'Area', 'Item Code', 'Item Code (FBS)', 'Item', 'Element Code', 'Element', 'Year Code', 'Year', 'Unit', 'Value', 'Flag', 'Note']\n",
      "fao_fs: ['Area Code', 'Area Code (M49)', 'Area', 'Item Code', 'Item', 'Element Code', 'Element', 'Year Code', 'Year', 'Unit', 'Value', 'Flag', 'Note']\n",
      "fao_emissions: ['Area Code', 'Area Code (M49)', 'Area', 'Item Code', 'Item', 'Element Code', 'Element', 'Year Code', 'Year', 'Unit', 'Value', 'Flag']\n",
      "fao_cpi: ['Area Code', 'Area Code (M49)', 'Area', 'Item Code', 'Item', 'Element Code', 'Element', 'Months Code', 'Months', 'Year Code', 'Year', 'Unit', 'Value', 'Flag', 'Note']\n",
      "fao_population: ['Area Code', 'Area Code (M49)', 'Area', 'Item Code', 'Item', 'Element Code', 'Element', 'Year Code', 'Year', 'Unit', 'Value', 'Flag', 'Note']\n",
      "fao_prices: ['Area Code', 'Area Code (M49)', 'Area', 'Item Code', 'Item Code (CPC)', 'Item', 'Element Code', 'Element', 'Year Code', 'Year', 'Months Code', 'Months', 'Unit', 'Value', 'Flag']\n",
      "fao_production_indices: ['Area Code', 'Area Code (M49)', 'Area', 'Item Code', 'Item Code (CPC)', 'Item', 'Element Code', 'Element', 'Year Code', 'Year', 'Unit', 'Value', 'Flag']\n"
     ]
    }
   ],
   "source": [
    "# Print column names for each dataframe\n",
    "for name, df in dfs.items():\n",
    "    print(f\"{name}: {df.columns.to_list()}\")"
   ]
  },
  {
   "cell_type": "code",
   "execution_count": 5,
   "id": "c2180522",
   "metadata": {},
   "outputs": [
    {
     "name": "stdout",
     "output_type": "stream",
     "text": [
      "fao_fbs: ['Area', 'Item', 'Element', 'Year', 'Unit', 'Value', 'Flag']\n",
      "fao_fs: ['Area', 'Item', 'Element', 'Year', 'Unit', 'Value', 'Flag']\n",
      "fao_emissions: ['Area', 'Item', 'Element', 'Year', 'Unit', 'Value', 'Flag']\n",
      "fao_cpi: ['Area', 'Item', 'Element', 'Months', 'Year', 'Unit', 'Value', 'Flag']\n",
      "fao_population: ['Area', 'Item', 'Element', 'Year', 'Unit', 'Value', 'Flag']\n",
      "fao_prices: ['Area', 'Item', 'Element', 'Year', 'Months', 'Unit', 'Value', 'Flag']\n",
      "fao_production_indices: ['Area', 'Item', 'Element', 'Year', 'Unit', 'Value', 'Flag']\n"
     ]
    }
   ],
   "source": [
    "# Drop unnecessary columns\n",
    "# Create new dataframes with dropped columns and store in a new dictionary\n",
    "dfs_relevant = {}\n",
    "for name, df in dfs.items():\n",
    "    cols_to_drop = [col for col in df.columns if any(x in col.lower() for x in ['code', 'note'])]\n",
    "    dfs_relevant[name] = df.drop(columns=cols_to_drop)\n",
    "\n",
    "# Print column names for each dataframe\n",
    "for name, df in dfs_relevant.items():\n",
    "    print(f\"{name}: {df.columns.to_list()}\")"
   ]
  },
  {
   "cell_type": "code",
   "execution_count": 6,
   "id": "d6821a66",
   "metadata": {},
   "outputs": [
    {
     "name": "stdout",
     "output_type": "stream",
     "text": [
      "\n",
      "=== fao_fbs ===\n",
      "Area        object\n",
      "Item        object\n",
      "Element     object\n",
      "Year         int64\n",
      "Unit        object\n",
      "Value      float64\n",
      "Flag        object\n",
      "dtype: object\n",
      "\n",
      "=== fao_fs ===\n",
      "Area       object\n",
      "Item       object\n",
      "Element    object\n",
      "Year       object\n",
      "Unit       object\n",
      "Value      object\n",
      "Flag       object\n",
      "dtype: object\n",
      "\n",
      "=== fao_emissions ===\n",
      "Area        object\n",
      "Item        object\n",
      "Element     object\n",
      "Year         int64\n",
      "Unit        object\n",
      "Value      float64\n",
      "Flag        object\n",
      "dtype: object\n",
      "\n",
      "=== fao_cpi ===\n",
      "Area        object\n",
      "Item        object\n",
      "Element     object\n",
      "Months      object\n",
      "Year         int64\n",
      "Unit        object\n",
      "Value      float64\n",
      "Flag        object\n",
      "dtype: object\n",
      "\n",
      "=== fao_population ===\n",
      "Area        object\n",
      "Item        object\n",
      "Element     object\n",
      "Year         int64\n",
      "Unit        object\n",
      "Value      float64\n",
      "Flag        object\n",
      "dtype: object\n",
      "\n",
      "=== fao_prices ===\n",
      "Area        object\n",
      "Item        object\n",
      "Element     object\n",
      "Year         int64\n",
      "Months      object\n",
      "Unit        object\n",
      "Value      float64\n",
      "Flag        object\n",
      "dtype: object\n",
      "\n",
      "=== fao_production_indices ===\n",
      "Area        object\n",
      "Item        object\n",
      "Element     object\n",
      "Year         int64\n",
      "Unit       float64\n",
      "Value      float64\n",
      "Flag        object\n",
      "dtype: object\n"
     ]
    }
   ],
   "source": [
    "# Print dtypes for each dataframe\n",
    "for name, df in dfs_relevant.items():\n",
    "    print(f\"\\n=== {name} ===\")\n",
    "    print(df.dtypes)"
   ]
  },
  {
   "cell_type": "markdown",
   "id": "61ab4b7e",
   "metadata": {},
   "source": [
    "## Items and Elements Overview"
   ]
  },
  {
   "cell_type": "code",
   "execution_count": 7,
   "id": "874cd416",
   "metadata": {},
   "outputs": [
    {
     "name": "stdout",
     "output_type": "stream",
     "text": [
      "\n",
      "=== fao_fbs ===\n",
      "Items:\n",
      "  - Alcohol, Non-Food\n",
      "  - Alcoholic Beverages\n",
      "  - Animal Products\n",
      "  - Animal fats\n",
      "  - Apples and products\n",
      "Elements:\n",
      "  - Domestic supply quantity\n",
      "  - Export quantity\n",
      "  - Fat supply quantity (g/capita/day)\n",
      "  - Fat supply quantity (t)\n",
      "  - Feed\n",
      "\n",
      "=== fao_fs ===\n",
      "Items:\n",
      "  - Average dietary energy requirement (kcal/cap/day)\n",
      "  - Average dietary energy supply adequacy (percent) (3-year average)\n",
      "  - Average fat supply (g/cap/day) (3-year average)\n",
      "  - Average protein supply (g/cap/day) (3-year average)\n",
      "  - Average supply of protein of animal origin (g/cap/day) (3-year average)\n",
      "Elements:\n",
      "  - Confidence interval: Lower bound\n",
      "  - Confidence interval: Upper bound\n",
      "  - Value\n",
      "\n",
      "=== fao_emissions ===\n",
      "Items:\n",
      "  - AFOLU\n",
      "  - Agrifood systems\n",
      "  - All sectors with LULUCF\n",
      "  - All sectors without LULUCF\n",
      "  - Emissions from crops\n",
      "Elements:\n",
      "  - Emissions Share (CH4)\n",
      "  - Emissions Share (CO2)\n",
      "  - Emissions Share (CO2eq) (AR5)\n",
      "  - Emissions Share (CO2eq) (AR5) (F-gases)\n",
      "  - Emissions Share (N2O)\n",
      "\n",
      "=== fao_cpi ===\n",
      "Items:\n",
      "  - Consumer Prices, Food Indices (2015 = 100)\n",
      "  - Consumer Prices, Food Indices (2015 = 100), median\n",
      "  - Consumer Prices, Food Indices (2015 = 100), weighted average\n",
      "  - Consumer Prices, General Indices (2015 = 100)\n",
      "  - Consumer Prices, General Indices (2015 = 100), median\n",
      "Elements:\n",
      "  - Value\n",
      "\n",
      "=== fao_population ===\n",
      "Items:\n",
      "  - Population - Est. & Proj.\n",
      "Elements:\n",
      "  - Rural population\n",
      "  - Total Population - Both sexes\n",
      "  - Total Population - Female\n",
      "  - Total Population - Male\n",
      "  - Urban population\n",
      "\n",
      "=== fao_prices ===\n",
      "Items:\n",
      "  - Abaca, manila hemp, raw\n",
      "  - Agave fibres, raw, n.e.c.\n",
      "  - Agriculture\n",
      "  - Almonds, in shell\n",
      "  - Anise, badian, coriander, cumin, caraway, fennel and juniper berries, raw\n",
      "Elements:\n",
      "  - Producer Price (LCU/tonne)\n",
      "  - Producer Price (SLC/tonne)\n",
      "  - Producer Price (USD/tonne)\n",
      "  - Producer Price Index (2014-2016 = 100)\n",
      "\n",
      "=== fao_production_indices ===\n",
      "Items:\n",
      "  - Abaca, manila hemp, raw\n",
      "  - Agave fibres, raw, n.e.c.\n",
      "  - Agriculture\n",
      "  - Almonds, in shell\n",
      "  - Anise, badian, coriander, cumin, caraway, fennel and juniper berries, raw\n",
      "Elements:\n",
      "  - Gross Production Index Number (2014-2016 = 100)\n",
      "  - Gross per capita Production Index Number (2014-2016 = 100)\n"
     ]
    }
   ],
   "source": [
    "# Print all unique Item and Element values from each dataframe\n",
    "for name, df in dfs_relevant.items():\n",
    "    print(f\"\\n=== {name} ===\")\n",
    "    items = sorted(df['Item'].dropna().unique())[:5]\n",
    "    elements = sorted(df['Element'].dropna().unique())[:5]\n",
    "    print(\"Items:\")\n",
    "    for item in items:\n",
    "        print(f\"  - {item}\")\n",
    "    print(\"Elements:\")\n",
    "    for element in elements:\n",
    "        print(f\"  - {element}\")"
   ]
  },
  {
   "cell_type": "markdown",
   "id": "a8789c12",
   "metadata": {},
   "source": [
    "## Year"
   ]
  },
  {
   "cell_type": "code",
   "execution_count": 8,
   "id": "df8ad702",
   "metadata": {},
   "outputs": [
    {
     "name": "stdout",
     "output_type": "stream",
     "text": [
      "\n",
      "=== fao_fbs ===\n",
      "Unique Years:\n",
      "[2010, 2011, 2012, 2013, 2014, 2015, 2016, 2017, 2018, 2019, 2020, 2021, 2022]\n",
      "\n",
      "=== fao_fs ===\n",
      "Unique Years:\n",
      "['2000', '2000-2002', '2001', '2001-2003', '2002', '2002-2004', '2003', '2003-2005', '2004', '2004-2006', '2005', '2005-2007', '2006', '2006-2008', '2007', '2007-2009', '2008', '2008-2010', '2009', '2009-2011', '2010', '2010-2012', '2011', '2011-2013', '2012', '2012-2014', '2013', '2013-2015', '2014', '2014-2016', '2015', '2015-2017', '2016', '2016-2018', '2017', '2017-2019', '2018', '2018-2020', '2019', '2019-2021', '2020', '2020-2022', '2021', '2021-2023', '2022', '2023']\n",
      "\n",
      "=== fao_emissions ===\n",
      "Unique Years:\n",
      "[1990, 1991, 1992, 1993, 1994, 1995, 1996, 1997, 1998, 1999, 2000, 2001, 2002, 2003, 2004, 2005, 2006, 2007, 2008, 2009, 2010, 2011, 2012, 2013, 2014, 2015, 2016, 2017, 2018, 2019, 2020, 2021, 2022]\n",
      "\n",
      "=== fao_cpi ===\n",
      "Unique Years:\n",
      "[2000, 2001, 2002, 2003, 2004, 2005, 2006, 2007, 2008, 2009, 2010, 2011, 2012, 2013, 2014, 2015, 2016, 2017, 2018, 2019, 2020, 2021, 2022, 2023, 2024]\n",
      "\n",
      "=== fao_population ===\n",
      "Unique Years:\n",
      "[1950, 1951, 1952, 1953, 1954, 1955, 1956, 1957, 1958, 1959, 1960, 1961, 1962, 1963, 1964, 1965, 1966, 1967, 1968, 1969, 1970, 1971, 1972, 1973, 1974, 1975, 1976, 1977, 1978, 1979, 1980, 1981, 1982, 1983, 1984, 1985, 1986, 1987, 1988, 1989, 1990, 1991, 1992, 1993, 1994, 1995, 1996, 1997, 1998, 1999, 2000, 2001, 2002, 2003, 2004, 2005, 2006, 2007, 2008, 2009, 2010, 2011, 2012, 2013, 2014, 2015, 2016, 2017, 2018, 2019, 2020, 2021, 2022, 2023, 2024, 2025, 2026, 2027, 2028, 2029, 2030, 2031, 2032, 2033, 2034, 2035, 2036, 2037, 2038, 2039, 2040, 2041, 2042, 2043, 2044, 2045, 2046, 2047, 2048, 2049, 2050, 2051, 2052, 2053, 2054, 2055, 2056, 2057, 2058, 2059, 2060, 2061, 2062, 2063, 2064, 2065, 2066, 2067, 2068, 2069, 2070, 2071, 2072, 2073, 2074, 2075, 2076, 2077, 2078, 2079, 2080, 2081, 2082, 2083, 2084, 2085, 2086, 2087, 2088, 2089, 2090, 2091, 2092, 2093, 2094, 2095, 2096, 2097, 2098, 2099, 2100]\n",
      "\n",
      "=== fao_prices ===\n",
      "Unique Years:\n",
      "[1991, 1992, 1993, 1994, 1995, 1996, 1997, 1998, 1999, 2000, 2001, 2002, 2003, 2004, 2005, 2006, 2007, 2008, 2009, 2010, 2011, 2012, 2013, 2014, 2015, 2016, 2017, 2018, 2019, 2020, 2021, 2022, 2023, 2024]\n",
      "\n",
      "=== fao_production_indices ===\n",
      "Unique Years:\n",
      "[1961, 1962, 1963, 1964, 1965, 1966, 1967, 1968, 1969, 1970, 1971, 1972, 1973, 1974, 1975, 1976, 1977, 1978, 1979, 1980, 1981, 1982, 1983, 1984, 1985, 1986, 1987, 1988, 1989, 1990, 1991, 1992, 1993, 1994, 1995, 1996, 1997, 1998, 1999, 2000, 2001, 2002, 2003, 2004, 2005, 2006, 2007, 2008, 2009, 2010, 2011, 2012, 2013, 2014, 2015, 2016, 2017, 2018, 2019, 2020, 2021, 2022, 2023]\n"
     ]
    }
   ],
   "source": [
    "# Find unique value for 'Year' in each dataframe\n",
    "for name, df in dfs_relevant.items():\n",
    "    print(f\"\\n=== {name} ===\")\n",
    "    unique_years = sorted(df['Year'].dropna().unique())\n",
    "    print(\"Unique Years:\")\n",
    "    print(unique_years)"
   ]
  },
  {
   "cell_type": "code",
   "execution_count": 9,
   "id": "4c3301e8",
   "metadata": {},
   "outputs": [
    {
     "data": {
      "application/vnd.microsoft.datawrangler.viewer.v0+json": {
       "columns": [
        {
         "name": "index",
         "rawType": "int64",
         "type": "integer"
        },
        {
         "name": "Area",
         "rawType": "object",
         "type": "string"
        },
        {
         "name": "Item",
         "rawType": "object",
         "type": "string"
        },
        {
         "name": "Element",
         "rawType": "object",
         "type": "string"
        },
        {
         "name": "Year",
         "rawType": "object",
         "type": "string"
        },
        {
         "name": "Unit",
         "rawType": "object",
         "type": "unknown"
        },
        {
         "name": "Value",
         "rawType": "object",
         "type": "unknown"
        },
        {
         "name": "Flag",
         "rawType": "object",
         "type": "string"
        }
       ],
       "ref": "2ff8fd82-a713-4101-a68b-b03e1d4423a0",
       "rows": [
        [
         "0",
         "Afghanistan",
         "Average dietary energy supply adequacy (percent) (3-year average)",
         "Value",
         "2000-2002",
         "%",
         "87",
         "E"
        ],
        [
         "1",
         "Afghanistan",
         "Average dietary energy supply adequacy (percent) (3-year average)",
         "Value",
         "2001-2003",
         "%",
         "88",
         "E"
        ],
        [
         "2",
         "Afghanistan",
         "Average dietary energy supply adequacy (percent) (3-year average)",
         "Value",
         "2002-2004",
         "%",
         "91",
         "E"
        ],
        [
         "3",
         "Afghanistan",
         "Average dietary energy supply adequacy (percent) (3-year average)",
         "Value",
         "2003-2005",
         "%",
         "92",
         "E"
        ],
        [
         "4",
         "Afghanistan",
         "Average dietary energy supply adequacy (percent) (3-year average)",
         "Value",
         "2004-2006",
         "%",
         "93",
         "E"
        ],
        [
         "5",
         "Afghanistan",
         "Average dietary energy supply adequacy (percent) (3-year average)",
         "Value",
         "2005-2007",
         "%",
         "94",
         "E"
        ],
        [
         "6",
         "Afghanistan",
         "Average dietary energy supply adequacy (percent) (3-year average)",
         "Value",
         "2006-2008",
         "%",
         "96",
         "E"
        ],
        [
         "7",
         "Afghanistan",
         "Average dietary energy supply adequacy (percent) (3-year average)",
         "Value",
         "2007-2009",
         "%",
         "97",
         "E"
        ],
        [
         "8",
         "Afghanistan",
         "Average dietary energy supply adequacy (percent) (3-year average)",
         "Value",
         "2008-2010",
         "%",
         "100",
         "E"
        ],
        [
         "9",
         "Afghanistan",
         "Average dietary energy supply adequacy (percent) (3-year average)",
         "Value",
         "2009-2011",
         "%",
         "103",
         "E"
        ],
        [
         "10",
         "Afghanistan",
         "Average dietary energy supply adequacy (percent) (3-year average)",
         "Value",
         "2010-2012",
         "%",
         "105",
         "E"
        ],
        [
         "11",
         "Afghanistan",
         "Average dietary energy supply adequacy (percent) (3-year average)",
         "Value",
         "2011-2013",
         "%",
         "105",
         "E"
        ],
        [
         "12",
         "Afghanistan",
         "Average dietary energy supply adequacy (percent) (3-year average)",
         "Value",
         "2012-2014",
         "%",
         "106",
         "E"
        ],
        [
         "13",
         "Afghanistan",
         "Average dietary energy supply adequacy (percent) (3-year average)",
         "Value",
         "2013-2015",
         "%",
         "107",
         "E"
        ],
        [
         "14",
         "Afghanistan",
         "Average dietary energy supply adequacy (percent) (3-year average)",
         "Value",
         "2014-2016",
         "%",
         "107",
         "E"
        ],
        [
         "15",
         "Afghanistan",
         "Average dietary energy supply adequacy (percent) (3-year average)",
         "Value",
         "2015-2017",
         "%",
         "107",
         "E"
        ],
        [
         "16",
         "Afghanistan",
         "Average dietary energy supply adequacy (percent) (3-year average)",
         "Value",
         "2016-2018",
         "%",
         "107",
         "E"
        ],
        [
         "17",
         "Afghanistan",
         "Average dietary energy supply adequacy (percent) (3-year average)",
         "Value",
         "2017-2019",
         "%",
         "107",
         "E"
        ],
        [
         "18",
         "Afghanistan",
         "Average dietary energy supply adequacy (percent) (3-year average)",
         "Value",
         "2018-2020",
         "%",
         "106",
         "E"
        ],
        [
         "19",
         "Afghanistan",
         "Average dietary energy supply adequacy (percent) (3-year average)",
         "Value",
         "2019-2021",
         "%",
         "105",
         "E"
        ],
        [
         "20",
         "Afghanistan",
         "Average dietary energy supply adequacy (percent) (3-year average)",
         "Value",
         "2020-2022",
         "%",
         "105",
         "E"
        ],
        [
         "21",
         "Afghanistan",
         "Average dietary energy supply adequacy (percent) (3-year average)",
         "Value",
         "2021-2023",
         "%",
         "105",
         "E"
        ],
        [
         "22",
         "Afghanistan",
         "Dietary energy supply used in the estimation of the prevalence of undernourishment (kcal/cap/day)",
         "Value",
         "2000",
         "kcal/cap/d",
         "1774",
         "E"
        ],
        [
         "23",
         "Afghanistan",
         "Dietary energy supply used in the estimation of the prevalence of undernourishment (kcal/cap/day)",
         "Value",
         "2001",
         "kcal/cap/d",
         "1716",
         "E"
        ],
        [
         "24",
         "Afghanistan",
         "Dietary energy supply used in the estimation of the prevalence of undernourishment (kcal/cap/day)",
         "Value",
         "2002",
         "kcal/cap/d",
         "1794",
         "E"
        ],
        [
         "25",
         "Afghanistan",
         "Dietary energy supply used in the estimation of the prevalence of undernourishment (kcal/cap/day)",
         "Value",
         "2003",
         "kcal/cap/d",
         "1847",
         "E"
        ],
        [
         "26",
         "Afghanistan",
         "Dietary energy supply used in the estimation of the prevalence of undernourishment (kcal/cap/day)",
         "Value",
         "2004",
         "kcal/cap/d",
         "1911",
         "E"
        ],
        [
         "27",
         "Afghanistan",
         "Dietary energy supply used in the estimation of the prevalence of undernourishment (kcal/cap/day)",
         "Value",
         "2005",
         "kcal/cap/d",
         "1888",
         "E"
        ],
        [
         "28",
         "Afghanistan",
         "Dietary energy supply used in the estimation of the prevalence of undernourishment (kcal/cap/day)",
         "Value",
         "2006",
         "kcal/cap/d",
         "1906",
         "E"
        ],
        [
         "29",
         "Afghanistan",
         "Dietary energy supply used in the estimation of the prevalence of undernourishment (kcal/cap/day)",
         "Value",
         "2007",
         "kcal/cap/d",
         "1989",
         "E"
        ],
        [
         "30",
         "Afghanistan",
         "Dietary energy supply used in the estimation of the prevalence of undernourishment (kcal/cap/day)",
         "Value",
         "2008",
         "kcal/cap/d",
         "1990",
         "E"
        ],
        [
         "31",
         "Afghanistan",
         "Dietary energy supply used in the estimation of the prevalence of undernourishment (kcal/cap/day)",
         "Value",
         "2009",
         "kcal/cap/d",
         "2031",
         "E"
        ],
        [
         "32",
         "Afghanistan",
         "Dietary energy supply used in the estimation of the prevalence of undernourishment (kcal/cap/day)",
         "Value",
         "2010",
         "kcal/cap/d",
         "2208",
         "E"
        ],
        [
         "33",
         "Afghanistan",
         "Dietary energy supply used in the estimation of the prevalence of undernourishment (kcal/cap/day)",
         "Value",
         "2011",
         "kcal/cap/d",
         "2179",
         "E"
        ],
        [
         "34",
         "Afghanistan",
         "Dietary energy supply used in the estimation of the prevalence of undernourishment (kcal/cap/day)",
         "Value",
         "2012",
         "kcal/cap/d",
         "2173",
         "E"
        ],
        [
         "35",
         "Afghanistan",
         "Dietary energy supply used in the estimation of the prevalence of undernourishment (kcal/cap/day)",
         "Value",
         "2013",
         "kcal/cap/d",
         "2211",
         "E"
        ],
        [
         "36",
         "Afghanistan",
         "Dietary energy supply used in the estimation of the prevalence of undernourishment (kcal/cap/day)",
         "Value",
         "2014",
         "kcal/cap/d",
         "2276",
         "E"
        ],
        [
         "37",
         "Afghanistan",
         "Dietary energy supply used in the estimation of the prevalence of undernourishment (kcal/cap/day)",
         "Value",
         "2015",
         "kcal/cap/d",
         "2257",
         "E"
        ],
        [
         "38",
         "Afghanistan",
         "Dietary energy supply used in the estimation of the prevalence of undernourishment (kcal/cap/day)",
         "Value",
         "2016",
         "kcal/cap/d",
         "2245",
         "E"
        ],
        [
         "39",
         "Afghanistan",
         "Dietary energy supply used in the estimation of the prevalence of undernourishment (kcal/cap/day)",
         "Value",
         "2017",
         "kcal/cap/d",
         "2311",
         "E"
        ],
        [
         "40",
         "Afghanistan",
         "Dietary energy supply used in the estimation of the prevalence of undernourishment (kcal/cap/day)",
         "Value",
         "2018",
         "kcal/cap/d",
         "2265",
         "E"
        ],
        [
         "41",
         "Afghanistan",
         "Dietary energy supply used in the estimation of the prevalence of undernourishment (kcal/cap/day)",
         "Value",
         "2019",
         "kcal/cap/d",
         "2228",
         "E"
        ],
        [
         "42",
         "Afghanistan",
         "Dietary energy supply used in the estimation of the prevalence of undernourishment (kcal/cap/day)",
         "Value",
         "2020",
         "kcal/cap/d",
         "2266",
         "E"
        ],
        [
         "43",
         "Afghanistan",
         "Dietary energy supply used in the estimation of the prevalence of undernourishment (kcal/cap/day)",
         "Value",
         "2021",
         "kcal/cap/d",
         "2240",
         "E"
        ],
        [
         "44",
         "Afghanistan",
         "Dietary energy supply used in the estimation of the prevalence of undernourishment (kcal/cap/day)",
         "Value",
         "2022",
         "kcal/cap/d",
         "2244",
         "E"
        ],
        [
         "45",
         "Afghanistan",
         "Dietary energy supply used in the estimation of the prevalence of undernourishment (kcal/cap/day)",
         "Value",
         "2023",
         "kcal/cap/d",
         "2242",
         "E"
        ],
        [
         "46",
         "Afghanistan",
         "Dietary energy supply used in the estimation of the prevalence of undernourishment (kcal/cap/day) (3-year average)",
         "Value",
         "2000-2002",
         "kcal/cap/d",
         "1762",
         "E"
        ],
        [
         "47",
         "Afghanistan",
         "Dietary energy supply used in the estimation of the prevalence of undernourishment (kcal/cap/day) (3-year average)",
         "Value",
         "2001-2003",
         "kcal/cap/d",
         "1789",
         "E"
        ],
        [
         "48",
         "Afghanistan",
         "Dietary energy supply used in the estimation of the prevalence of undernourishment (kcal/cap/day) (3-year average)",
         "Value",
         "2002-2004",
         "kcal/cap/d",
         "1853",
         "E"
        ],
        [
         "49",
         "Afghanistan",
         "Dietary energy supply used in the estimation of the prevalence of undernourishment (kcal/cap/day) (3-year average)",
         "Value",
         "2003-2005",
         "kcal/cap/d",
         "1883",
         "E"
        ]
       ],
       "shape": {
        "columns": 7,
        "rows": 283880
       }
      },
      "text/html": [
       "<div>\n",
       "<style scoped>\n",
       "    .dataframe tbody tr th:only-of-type {\n",
       "        vertical-align: middle;\n",
       "    }\n",
       "\n",
       "    .dataframe tbody tr th {\n",
       "        vertical-align: top;\n",
       "    }\n",
       "\n",
       "    .dataframe thead th {\n",
       "        text-align: right;\n",
       "    }\n",
       "</style>\n",
       "<table border=\"1\" class=\"dataframe\">\n",
       "  <thead>\n",
       "    <tr style=\"text-align: right;\">\n",
       "      <th></th>\n",
       "      <th>Area</th>\n",
       "      <th>Item</th>\n",
       "      <th>Element</th>\n",
       "      <th>Year</th>\n",
       "      <th>Unit</th>\n",
       "      <th>Value</th>\n",
       "      <th>Flag</th>\n",
       "    </tr>\n",
       "  </thead>\n",
       "  <tbody>\n",
       "    <tr>\n",
       "      <th>0</th>\n",
       "      <td>Afghanistan</td>\n",
       "      <td>Average dietary energy supply adequacy (percen...</td>\n",
       "      <td>Value</td>\n",
       "      <td>2000-2002</td>\n",
       "      <td>%</td>\n",
       "      <td>87</td>\n",
       "      <td>E</td>\n",
       "    </tr>\n",
       "    <tr>\n",
       "      <th>1</th>\n",
       "      <td>Afghanistan</td>\n",
       "      <td>Average dietary energy supply adequacy (percen...</td>\n",
       "      <td>Value</td>\n",
       "      <td>2001-2003</td>\n",
       "      <td>%</td>\n",
       "      <td>88</td>\n",
       "      <td>E</td>\n",
       "    </tr>\n",
       "    <tr>\n",
       "      <th>2</th>\n",
       "      <td>Afghanistan</td>\n",
       "      <td>Average dietary energy supply adequacy (percen...</td>\n",
       "      <td>Value</td>\n",
       "      <td>2002-2004</td>\n",
       "      <td>%</td>\n",
       "      <td>91</td>\n",
       "      <td>E</td>\n",
       "    </tr>\n",
       "    <tr>\n",
       "      <th>3</th>\n",
       "      <td>Afghanistan</td>\n",
       "      <td>Average dietary energy supply adequacy (percen...</td>\n",
       "      <td>Value</td>\n",
       "      <td>2003-2005</td>\n",
       "      <td>%</td>\n",
       "      <td>92</td>\n",
       "      <td>E</td>\n",
       "    </tr>\n",
       "    <tr>\n",
       "      <th>4</th>\n",
       "      <td>Afghanistan</td>\n",
       "      <td>Average dietary energy supply adequacy (percen...</td>\n",
       "      <td>Value</td>\n",
       "      <td>2004-2006</td>\n",
       "      <td>%</td>\n",
       "      <td>93</td>\n",
       "      <td>E</td>\n",
       "    </tr>\n",
       "    <tr>\n",
       "      <th>...</th>\n",
       "      <td>...</td>\n",
       "      <td>...</td>\n",
       "      <td>...</td>\n",
       "      <td>...</td>\n",
       "      <td>...</td>\n",
       "      <td>...</td>\n",
       "      <td>...</td>\n",
       "    </tr>\n",
       "    <tr>\n",
       "      <th>283875</th>\n",
       "      <td>Upper-middle-income economies</td>\n",
       "      <td>Average fat supply (g/cap/day) (3-year average)</td>\n",
       "      <td>Value</td>\n",
       "      <td>2016-2018</td>\n",
       "      <td>g/cap/d</td>\n",
       "      <td>90.8</td>\n",
       "      <td>E</td>\n",
       "    </tr>\n",
       "    <tr>\n",
       "      <th>283876</th>\n",
       "      <td>Upper-middle-income economies</td>\n",
       "      <td>Average fat supply (g/cap/day) (3-year average)</td>\n",
       "      <td>Value</td>\n",
       "      <td>2017-2019</td>\n",
       "      <td>g/cap/d</td>\n",
       "      <td>92.5</td>\n",
       "      <td>E</td>\n",
       "    </tr>\n",
       "    <tr>\n",
       "      <th>283877</th>\n",
       "      <td>Upper-middle-income economies</td>\n",
       "      <td>Average fat supply (g/cap/day) (3-year average)</td>\n",
       "      <td>Value</td>\n",
       "      <td>2018-2020</td>\n",
       "      <td>g/cap/d</td>\n",
       "      <td>94.2</td>\n",
       "      <td>E</td>\n",
       "    </tr>\n",
       "    <tr>\n",
       "      <th>283878</th>\n",
       "      <td>Upper-middle-income economies</td>\n",
       "      <td>Average fat supply (g/cap/day) (3-year average)</td>\n",
       "      <td>Value</td>\n",
       "      <td>2019-2021</td>\n",
       "      <td>g/cap/d</td>\n",
       "      <td>96.7</td>\n",
       "      <td>E</td>\n",
       "    </tr>\n",
       "    <tr>\n",
       "      <th>283879</th>\n",
       "      <td>Upper-middle-income economies</td>\n",
       "      <td>Average fat supply (g/cap/day) (3-year average)</td>\n",
       "      <td>Value</td>\n",
       "      <td>2020-2022</td>\n",
       "      <td>g/cap/d</td>\n",
       "      <td>98.3</td>\n",
       "      <td>E</td>\n",
       "    </tr>\n",
       "  </tbody>\n",
       "</table>\n",
       "<p>283880 rows × 7 columns</p>\n",
       "</div>"
      ],
      "text/plain": [
       "                                 Area  \\\n",
       "0                         Afghanistan   \n",
       "1                         Afghanistan   \n",
       "2                         Afghanistan   \n",
       "3                         Afghanistan   \n",
       "4                         Afghanistan   \n",
       "...                               ...   \n",
       "283875  Upper-middle-income economies   \n",
       "283876  Upper-middle-income economies   \n",
       "283877  Upper-middle-income economies   \n",
       "283878  Upper-middle-income economies   \n",
       "283879  Upper-middle-income economies   \n",
       "\n",
       "                                                     Item Element       Year  \\\n",
       "0       Average dietary energy supply adequacy (percen...   Value  2000-2002   \n",
       "1       Average dietary energy supply adequacy (percen...   Value  2001-2003   \n",
       "2       Average dietary energy supply adequacy (percen...   Value  2002-2004   \n",
       "3       Average dietary energy supply adequacy (percen...   Value  2003-2005   \n",
       "4       Average dietary energy supply adequacy (percen...   Value  2004-2006   \n",
       "...                                                   ...     ...        ...   \n",
       "283875    Average fat supply (g/cap/day) (3-year average)   Value  2016-2018   \n",
       "283876    Average fat supply (g/cap/day) (3-year average)   Value  2017-2019   \n",
       "283877    Average fat supply (g/cap/day) (3-year average)   Value  2018-2020   \n",
       "283878    Average fat supply (g/cap/day) (3-year average)   Value  2019-2021   \n",
       "283879    Average fat supply (g/cap/day) (3-year average)   Value  2020-2022   \n",
       "\n",
       "           Unit Value Flag  \n",
       "0             %    87    E  \n",
       "1             %    88    E  \n",
       "2             %    91    E  \n",
       "3             %    92    E  \n",
       "4             %    93    E  \n",
       "...         ...   ...  ...  \n",
       "283875  g/cap/d  90.8    E  \n",
       "283876  g/cap/d  92.5    E  \n",
       "283877  g/cap/d  94.2    E  \n",
       "283878  g/cap/d  96.7    E  \n",
       "283879  g/cap/d  98.3    E  \n",
       "\n",
       "[283880 rows x 7 columns]"
      ]
     },
     "execution_count": 9,
     "metadata": {},
     "output_type": "execute_result"
    }
   ],
   "source": [
    "fao_fs_relevant = dfs_relevant['fao_fs']\n",
    "fao_fs_relevant"
   ]
  },
  {
   "cell_type": "code",
   "execution_count": 15,
   "id": "19a69b2a",
   "metadata": {},
   "outputs": [
    {
     "data": {
      "text/plain": [
       "array(['Average dietary energy supply adequacy (percent) (3-year average)',\n",
       "       'Dietary energy supply used in the estimation of the prevalence of undernourishment (kcal/cap/day) (3-year average)',\n",
       "       'Share of dietary energy supply derived from cereals, roots and tubers (percent) (3-year average)',\n",
       "       'Average protein supply (g/cap/day) (3-year average)',\n",
       "       'Average supply of protein of animal origin (g/cap/day) (3-year average)',\n",
       "       'Prevalence of undernourishment (percent) (3-year average)',\n",
       "       'Number of people undernourished (million) (3-year average)',\n",
       "       'Prevalence of severe food insecurity in the total population (percent) (3-year average)',\n",
       "       'Prevalence of severe food insecurity in the male adult population (percent) (3-year average)',\n",
       "       'Prevalence of severe food insecurity in the female adult population (percent) (3-year average)',\n",
       "       'Prevalence of moderate or severe food insecurity in the total population (percent) (3-year average)',\n",
       "       'Prevalence of moderate or severe food insecurity in the male adult population (percent) (3-year average)',\n",
       "       'Prevalence of moderate or severe food insecurity in the female adult population (percent) (3-year average)',\n",
       "       'Number of severely food insecure people (million) (3-year average)',\n",
       "       'Number of severely food insecure male adults (million) (3-year average)',\n",
       "       'Number of severely food insecure female adults (million) (3-year average)',\n",
       "       'Number of moderately or severely food insecure people (million) (3-year average)',\n",
       "       'Number of moderately or severely food insecure male adults (million) (3-year average)',\n",
       "       'Number of moderately or severely food insecure female adults (million) (3-year average)',\n",
       "       'Cereal import dependency ratio (percent) (3-year average)',\n",
       "       'Percent of arable land equipped for irrigation (percent) (3-year average)',\n",
       "       'Value of food imports in total merchandise exports (percent) (3-year average)',\n",
       "       'Average fat supply (g/cap/day) (3-year average)'], dtype=object)"
      ]
     },
     "execution_count": 15,
     "metadata": {},
     "output_type": "execute_result"
    }
   ],
   "source": [
    "# Show unique Item values where the 'Year' column contains a dash (i.e., is a range like '2000-2002')\n",
    "fao_fs_relevant[fao_fs_relevant['Year'].str.contains('-')]['Item'].unique()"
   ]
  },
  {
   "cell_type": "code",
   "execution_count": 25,
   "id": "76bf7ef5",
   "metadata": {},
   "outputs": [],
   "source": [
    "items_with_avg = fao_fs_relevant['Item'][fao_fs_relevant['Item'].str.contains(r'\\(3-year average\\)', regex=True)].unique()\n",
    "items_no_avg = fao_fs_relevant['Item'][~fao_fs_relevant['Item'].str.contains(r'\\(3-year average\\)', regex=True)].unique()"
   ]
  },
  {
   "cell_type": "code",
   "execution_count": 22,
   "id": "70fa7fc4",
   "metadata": {},
   "outputs": [
    {
     "data": {
      "text/plain": [
       "array(['Average dietary energy supply adequacy (percent) (3-year average)',\n",
       "       'Dietary energy supply used in the estimation of the prevalence of undernourishment (kcal/cap/day) (3-year average)',\n",
       "       'Share of dietary energy supply derived from cereals, roots and tubers (percent) (3-year average)',\n",
       "       'Average protein supply (g/cap/day) (3-year average)',\n",
       "       'Average supply of protein of animal origin (g/cap/day) (3-year average)',\n",
       "       'Prevalence of undernourishment (percent) (3-year average)',\n",
       "       'Number of people undernourished (million) (3-year average)',\n",
       "       'Prevalence of severe food insecurity in the total population (percent) (3-year average)',\n",
       "       'Prevalence of severe food insecurity in the male adult population (percent) (3-year average)',\n",
       "       'Prevalence of severe food insecurity in the female adult population (percent) (3-year average)',\n",
       "       'Prevalence of moderate or severe food insecurity in the total population (percent) (3-year average)',\n",
       "       'Prevalence of moderate or severe food insecurity in the male adult population (percent) (3-year average)',\n",
       "       'Prevalence of moderate or severe food insecurity in the female adult population (percent) (3-year average)',\n",
       "       'Number of severely food insecure people (million) (3-year average)',\n",
       "       'Number of severely food insecure male adults (million) (3-year average)',\n",
       "       'Number of severely food insecure female adults (million) (3-year average)',\n",
       "       'Number of moderately or severely food insecure people (million) (3-year average)',\n",
       "       'Number of moderately or severely food insecure male adults (million) (3-year average)',\n",
       "       'Number of moderately or severely food insecure female adults (million) (3-year average)',\n",
       "       'Cereal import dependency ratio (percent) (3-year average)',\n",
       "       'Percent of arable land equipped for irrigation (percent) (3-year average)',\n",
       "       'Value of food imports in total merchandise exports (percent) (3-year average)',\n",
       "       'Average fat supply (g/cap/day) (3-year average)'], dtype=object)"
      ]
     },
     "execution_count": 22,
     "metadata": {},
     "output_type": "execute_result"
    }
   ],
   "source": [
    "items_with_avg"
   ]
  },
  {
   "cell_type": "code",
   "execution_count": 23,
   "id": "38ff93cc",
   "metadata": {},
   "outputs": [
    {
     "data": {
      "text/plain": [
       "array(['Dietary energy supply used in the estimation of the prevalence of undernourishment (kcal/cap/day)',\n",
       "       'Gross domestic product per capita, PPP, (constant 2017 international $)',\n",
       "       'Political stability and absence of violence/terrorism (index)',\n",
       "       'Per capita food supply variability (kcal/cap/day)',\n",
       "       'Percentage of population using safely managed drinking water services (percent)',\n",
       "       'Percentage of population using at least basic drinking water services (percent)',\n",
       "       'Percentage of population using at least basic sanitation services (percent)',\n",
       "       'Percentage of children under 5 years affected by wasting (percent)',\n",
       "       'Number of children under 5 years affected by wasting (million)',\n",
       "       'Percentage of children under 5 years of age who are stunted (modelled estimates) (percent)',\n",
       "       'Number of children under 5 years of age who are stunted (modeled estimates) (million)',\n",
       "       'Percentage of children under 5 years of age who are overweight (modelled estimates) (percent)',\n",
       "       'Number of children under 5 years of age who are overweight (modeled estimates) (million)',\n",
       "       'Prevalence of obesity in the adult population (18 years and older) (percent)',\n",
       "       'Number of obese adults (18 years and older) (million)',\n",
       "       'Prevalence of anemia among women of reproductive age (15-49 years) (percent)',\n",
       "       'Number of women of reproductive age (15-49 years) affected by anemia (million)',\n",
       "       'Prevalence of exclusive breastfeeding among infants 0-5 months of age (percent)',\n",
       "       'Prevalence of low birthweight (percent)',\n",
       "       'Number of newborns with low birthweight (million)',\n",
       "       'Minimum dietary energy requirement  (kcal/cap/day)',\n",
       "       'Average dietary energy requirement (kcal/cap/day)',\n",
       "       'Coefficient of variation of habitual caloric consumption distribution (real number)',\n",
       "       'Incidence of caloric losses at retail distribution level (percent)',\n",
       "       'Rail lines density (total route in km per 100 square km of land area)',\n",
       "       'Percentage of population using safely managed sanitation services (percent)',\n",
       "       'Prevalence of undernourishment (percent) (annual value)',\n",
       "       'Number of people undernourished (million) (annual value)',\n",
       "       'Prevalence of severe food insecurity in the rural adult population (percent) (annual value)',\n",
       "       'Prevalence of severe food insecurity in the total population (percent) (annual value)',\n",
       "       'Prevalence of severe food insecurity in the town and semi-dense area adult population (percent) (annual value)',\n",
       "       'Prevalence of severe food insecurity in the urban adult population (percent) (annual value)',\n",
       "       'Prevalence of severe food insecurity in the male adult population (percent) (annual value)',\n",
       "       'Prevalence of severe food insecurity in the female adult population (percent) (annual value)',\n",
       "       'Prevalence of moderate or severe food insecurity in the rural adult population (percent) (annual value)',\n",
       "       'Prevalence of moderate or severe food insecurity in the total population (percent) (annual value)',\n",
       "       'Prevalence of moderate or severe food insecurity in the town and semi-dense area adult population (percent) (annual value)',\n",
       "       'Prevalence of moderate or severe food insecurity in the urban adult population (percent) (annual value)',\n",
       "       'Prevalence of moderate or severe food insecurity in the male adult population (percent) (annual value)',\n",
       "       'Prevalence of moderate or severe food insecurity in the female adult population (percent) (annual value)',\n",
       "       'Number of severely food insecure people (million) (annual value)',\n",
       "       'Number of severely food insecure male adults (million) (annual value)',\n",
       "       'Number of severely food insecure female adults (million) (annual value)',\n",
       "       'Number of moderately or severely food insecure people (million) (annual value)',\n",
       "       'Number of moderately or severely food insecure male adults (million) (annual value)',\n",
       "       'Number of moderately or severely food insecure female adults (million) (annual value)'],\n",
       "      dtype=object)"
      ]
     },
     "execution_count": 23,
     "metadata": {},
     "output_type": "execute_result"
    }
   ],
   "source": [
    "items_no_avg"
   ]
  },
  {
   "cell_type": "code",
   "execution_count": 28,
   "id": "d8e1a71f",
   "metadata": {},
   "outputs": [
    {
     "name": "stdout",
     "output_type": "stream",
     "text": [
      "Items with '(3-year average)' and their matching non-average alternatives (by prefix):\n",
      "- (no non-average alternative found) 'Average dietary energy supply adequacy (percent) (3-year average)'\n",
      "- 'Dietary energy supply used in the estimation of the prevalence of undernourishment (kcal/cap/day)' → 'Dietary energy supply used in the estimation of the prevalence of undernourishment (kcal/cap/day) (3-year average)'\n",
      "- (no non-average alternative found) 'Share of dietary energy supply derived from cereals, roots and tubers (percent) (3-year average)'\n",
      "- (no non-average alternative found) 'Average protein supply (g/cap/day) (3-year average)'\n",
      "- (no non-average alternative found) 'Average supply of protein of animal origin (g/cap/day) (3-year average)'\n",
      "- 'Prevalence of undernourishment (percent) (annual value)' → 'Prevalence of undernourishment (percent) (3-year average)'\n",
      "- 'Number of people undernourished (million) (annual value)' → 'Number of people undernourished (million) (3-year average)'\n",
      "- 'Prevalence of severe food insecurity in the total population (percent) (annual value)' → 'Prevalence of severe food insecurity in the total population (percent) (3-year average)'\n",
      "- 'Prevalence of severe food insecurity in the male adult population (percent) (annual value)' → 'Prevalence of severe food insecurity in the male adult population (percent) (3-year average)'\n",
      "- 'Prevalence of severe food insecurity in the female adult population (percent) (annual value)' → 'Prevalence of severe food insecurity in the female adult population (percent) (3-year average)'\n",
      "- 'Prevalence of moderate or severe food insecurity in the total population (percent) (annual value)' → 'Prevalence of moderate or severe food insecurity in the total population (percent) (3-year average)'\n",
      "- 'Prevalence of moderate or severe food insecurity in the male adult population (percent) (annual value)' → 'Prevalence of moderate or severe food insecurity in the male adult population (percent) (3-year average)'\n",
      "- 'Prevalence of moderate or severe food insecurity in the female adult population (percent) (annual value)' → 'Prevalence of moderate or severe food insecurity in the female adult population (percent) (3-year average)'\n",
      "- 'Number of severely food insecure people (million) (annual value)' → 'Number of severely food insecure people (million) (3-year average)'\n",
      "- 'Number of severely food insecure male adults (million) (annual value)' → 'Number of severely food insecure male adults (million) (3-year average)'\n",
      "- 'Number of severely food insecure female adults (million) (annual value)' → 'Number of severely food insecure female adults (million) (3-year average)'\n",
      "- 'Number of moderately or severely food insecure people (million) (annual value)' → 'Number of moderately or severely food insecure people (million) (3-year average)'\n",
      "- 'Number of moderately or severely food insecure male adults (million) (annual value)' → 'Number of moderately or severely food insecure male adults (million) (3-year average)'\n",
      "- 'Number of moderately or severely food insecure female adults (million) (annual value)' → 'Number of moderately or severely food insecure female adults (million) (3-year average)'\n",
      "- (no non-average alternative found) 'Cereal import dependency ratio (percent) (3-year average)'\n",
      "- (no non-average alternative found) 'Percent of arable land equipped for irrigation (percent) (3-year average)'\n",
      "- (no non-average alternative found) 'Value of food imports in total merchandise exports (percent) (3-year average)'\n",
      "- (no non-average alternative found) 'Average fat supply (g/cap/day) (3-year average)'\n"
     ]
    }
   ],
   "source": [
    "# For each item with '(3-year average)', remove the suffix and find matching items_no_avg that start with the base name\n",
    "print(\"Items with '(3-year average)' and their matching non-average alternatives (by prefix):\")\n",
    "for item in items_with_avg:\n",
    "    base_item = item.replace(' (3-year average)', '')\n",
    "    matches = [i for i in items_no_avg if i.startswith(base_item)]\n",
    "    if matches:\n",
    "        for match in matches:\n",
    "            print(f\"- '{match}' → '{item}'\")\n",
    "    else:\n",
    "        print(f\"- (no non-average alternative found) '{item}'\")"
   ]
  },
  {
   "cell_type": "markdown",
   "id": "355d2712",
   "metadata": {},
   "source": [
    "## Months"
   ]
  },
  {
   "cell_type": "code",
   "execution_count": 11,
   "id": "e3e31e58",
   "metadata": {},
   "outputs": [
    {
     "name": "stdout",
     "output_type": "stream",
     "text": [
      "\n",
      "=== fao_fbs ===\n",
      "No 'Months' column in this dataframe.\n",
      "\n",
      "=== fao_fs ===\n",
      "No 'Months' column in this dataframe.\n",
      "\n",
      "=== fao_emissions ===\n",
      "No 'Months' column in this dataframe.\n",
      "\n",
      "=== fao_cpi ===\n",
      "Unique Months:\n",
      "['April', 'August', 'December', 'February', 'January', 'July', 'June', 'March', 'May', 'November', 'October', 'September']\n",
      "\n",
      "=== fao_population ===\n",
      "No 'Months' column in this dataframe.\n",
      "\n",
      "=== fao_prices ===\n",
      "Unique Months:\n",
      "['Annual value', 'April', 'August', 'December', 'February', 'January', 'July', 'June', 'March', 'May', 'November', 'October', 'September']\n",
      "\n",
      "=== fao_production_indices ===\n",
      "No 'Months' column in this dataframe.\n"
     ]
    }
   ],
   "source": [
    "# Find unique value for 'Months' in each dataframe\n",
    "for name, df in dfs_relevant.items():\n",
    "    print(f\"\\n=== {name} ===\")\n",
    "    if 'Months' in df.columns:\n",
    "        unique_months = sorted(df['Months'].dropna().unique())\n",
    "        print(\"Unique Months:\")\n",
    "        print(unique_months)\n",
    "    else:\n",
    "        print(\"No 'Months' column in this dataframe.\")"
   ]
  },
  {
   "cell_type": "markdown",
   "id": "73fa43b3",
   "metadata": {},
   "source": [
    "## Flag"
   ]
  },
  {
   "cell_type": "code",
   "execution_count": 12,
   "id": "5e8da543",
   "metadata": {},
   "outputs": [
    {
     "name": "stdout",
     "output_type": "stream",
     "text": [
      "\n",
      "=== fao_fbs ===\n",
      "Unique Flags:\n",
      "['A', 'E', 'I', 'X']\n",
      "\n",
      "=== fao_fs ===\n",
      "Unique Flags:\n",
      "['A', 'E', 'O', 'Q', 'X']\n",
      "\n",
      "=== fao_emissions ===\n",
      "Unique Flags:\n",
      "['E']\n",
      "\n",
      "=== fao_cpi ===\n",
      "Unique Flags:\n",
      "['A', 'E', 'I', 'X', 'x']\n",
      "\n",
      "=== fao_population ===\n",
      "Unique Flags:\n",
      "['E', 'X']\n",
      "\n",
      "=== fao_prices ===\n",
      "Unique Flags:\n",
      "['A', 'I', 'X']\n",
      "\n",
      "=== fao_production_indices ===\n",
      "Unique Flags:\n",
      "['E']\n"
     ]
    }
   ],
   "source": [
    "# Find unique value for 'Flag' in each dataframe\n",
    "for name, df in dfs_relevant.items():\n",
    "    print(f\"\\n=== {name} ===\")\n",
    "    unique_flags = sorted(df['Flag'].dropna().unique())\n",
    "    print(\"Unique Flags:\")\n",
    "    print(unique_flags)"
   ]
  },
  {
   "cell_type": "markdown",
   "id": "15dcf362",
   "metadata": {},
   "source": [
    "```python\n",
    "flag_mapping = {\n",
    "    \"A\": \"Official figure\",\n",
    "    \"E\": \"Estimated value\",\n",
    "    \"I\": \"Imputed value\",\n",
    "    \"O\": \"Missing value\",\n",
    "    \"Q\": \"Missing value; suppressed\",\n",
    "    \"X\": \"Figure from international organization\",\n",
    "}\n",
    "```"
   ]
  },
  {
   "cell_type": "code",
   "execution_count": 13,
   "id": "5d253ebf",
   "metadata": {},
   "outputs": [],
   "source": [
    "# # Mapping flag codes to their meanings\n",
    "# flag_mapping = {\n",
    "#     \"A\": \"Official figure\",\n",
    "#     \"E\": \"Estimated value\",\n",
    "#     \"I\": \"Imputed value\",\n",
    "#     \"O\": \"Missing value\",\n",
    "#     \"Q\": \"Missing value; suppressed\",\n",
    "#     \"X\": \"Figure from international organization\",\n",
    "# }\n",
    "\n",
    "# # Replace flag codes with their meanings in each dataframe\n",
    "# for name, df in dfs_relevant.items():\n",
    "#     if 'Flag' in df.columns:\n",
    "#         df['Flag'] = df['Flag'].str.upper().map(flag_mapping).fillna(df['Flag'])\n",
    "#         print(f\"\\n=== {name} ===\")\n",
    "#         print(df['Flag'].unique())\n",
    "#     else:\n",
    "#         print(f\"\\n=== {name} ===\")\n",
    "#         print(\"No 'Flag' column in this dataframe.\")"
   ]
  }
 ],
 "metadata": {
  "kernelspec": {
   "display_name": "Python 3",
   "language": "python",
   "name": "python3"
  },
  "language_info": {
   "codemirror_mode": {
    "name": "ipython",
    "version": 3
   },
   "file_extension": ".py",
   "mimetype": "text/x-python",
   "name": "python",
   "nbconvert_exporter": "python",
   "pygments_lexer": "ipython3",
   "version": "3.12.9"
  }
 },
 "nbformat": 4,
 "nbformat_minor": 5
}
