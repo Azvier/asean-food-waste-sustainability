{
 "cells": [
  {
   "cell_type": "code",
   "execution_count": 1,
   "id": "479301b5",
   "metadata": {},
   "outputs": [],
   "source": [
    "import pandas as pd"
   ]
  },
  {
   "cell_type": "code",
   "execution_count": 2,
   "id": "04c83529",
   "metadata": {},
   "outputs": [],
   "source": [
    "# FAO Data\n",
    "fao_fbs = pd.read_csv(r\"..\\data\\FAOSTAT\\processed\\fao_fbs_relevant.csv\")\n",
    "fao_fs = pd.read_csv(r\"..\\data\\FAOSTAT\\processed\\fao_fs_relevant.csv\")\n",
    "fao_emissions = pd.read_csv(r\"..\\data\\FAOSTAT\\processed\\fao_emissions_relevant.csv\")\n",
    "fao_cpi = pd.read_csv(r\"..\\data\\FAOSTAT\\processed\\fao_cpi_relevant.csv\")\n",
    "fao_population = pd.read_csv(r\"..\\data\\FAOSTAT\\processed\\fao_population_relevant.csv\")\n",
    "fao_prices = pd.read_csv(r\"..\\data\\FAOSTAT\\processed\\fao_prices_relevant.csv\")\n",
    "fao_production_indices = pd.read_csv(r\"..\\data\\FAOSTAT\\processed\\fao_production_indices_relevant.csv\")"
   ]
  },
  {
   "cell_type": "code",
   "execution_count": 3,
   "id": "ad9d9a41",
   "metadata": {},
   "outputs": [],
   "source": [
    "# Other Data\n",
    "f_waste = pd.read_excel(r\"../data/Food Waste Estimation UNEP 2024.xlsx\")\n",
    "fsi_data = pd.read_csv(r\"../data/processed/fsi_data_melted.csv\")\n",
    "asean_sdg = pd.read_excel(r\"../data/SDG From ASEANstats.xlsx\")\n",
    "un_sdg = pd.read_excel(r\"../data/SDG From UNSDG (2, 11, 12, 13).xlsx\")\n",
    "gfsi_data = pd.read_csv(r\"../data/processed/gfsi_data_melted.csv\")\n",
    "fsi_score = pd.read_csv(r\"../data/processed/fsi_score_melted.csv\")\n",
    "gfsi_score = pd.read_csv(r\"../data/processed/gfsi_score_melted.csv\")"
   ]
  },
  {
   "cell_type": "code",
   "execution_count": 10,
   "id": "510b17cc",
   "metadata": {},
   "outputs": [
    {
     "data": {
      "application/vnd.microsoft.datawrangler.viewer.v0+json": {
       "columns": [
        {
         "name": "index",
         "rawType": "int64",
         "type": "integer"
        },
        {
         "name": "Year",
         "rawType": "object",
         "type": "string"
        }
       ],
       "ref": "e725433a-f9d1-4e20-a1f1-daf5d90be224",
       "rows": [
        [
         "0",
         "2000-2002"
        ],
        [
         "1",
         "2001-2003"
        ],
        [
         "2",
         "2002-2004"
        ],
        [
         "3",
         "2003-2005"
        ],
        [
         "4",
         "2004-2006"
        ],
        [
         "5",
         "2005-2007"
        ],
        [
         "6",
         "2006-2008"
        ],
        [
         "7",
         "2007-2009"
        ],
        [
         "8",
         "2008-2010"
        ],
        [
         "9",
         "2009-2011"
        ],
        [
         "10",
         "2010-2012"
        ],
        [
         "11",
         "2011-2013"
        ],
        [
         "12",
         "2012-2014"
        ],
        [
         "13",
         "2013-2015"
        ],
        [
         "14",
         "2014-2016"
        ],
        [
         "15",
         "2015-2017"
        ],
        [
         "16",
         "2016-2018"
        ],
        [
         "17",
         "2017-2019"
        ],
        [
         "18",
         "2018-2020"
        ],
        [
         "19",
         "2019-2021"
        ],
        [
         "20",
         "2020-2022"
        ],
        [
         "21",
         "2021-2023"
        ],
        [
         "22",
         "2000"
        ],
        [
         "23",
         "2001"
        ],
        [
         "24",
         "2002"
        ],
        [
         "25",
         "2003"
        ],
        [
         "26",
         "2004"
        ],
        [
         "27",
         "2005"
        ],
        [
         "28",
         "2006"
        ],
        [
         "29",
         "2007"
        ],
        [
         "30",
         "2008"
        ],
        [
         "31",
         "2009"
        ],
        [
         "32",
         "2010"
        ],
        [
         "33",
         "2011"
        ],
        [
         "34",
         "2012"
        ],
        [
         "35",
         "2013"
        ],
        [
         "36",
         "2014"
        ],
        [
         "37",
         "2015"
        ],
        [
         "38",
         "2016"
        ],
        [
         "39",
         "2017"
        ],
        [
         "40",
         "2018"
        ],
        [
         "41",
         "2019"
        ],
        [
         "42",
         "2020"
        ],
        [
         "43",
         "2021"
        ],
        [
         "44",
         "2022"
        ],
        [
         "45",
         "2023"
        ],
        [
         "46",
         "2000-2002"
        ],
        [
         "47",
         "2001-2003"
        ],
        [
         "48",
         "2002-2004"
        ],
        [
         "49",
         "2003-2005"
        ]
       ],
       "shape": {
        "columns": 1,
        "rows": 283880
       }
      },
      "text/plain": [
       "0         2000-2002\n",
       "1         2001-2003\n",
       "2         2002-2004\n",
       "3         2003-2005\n",
       "4         2004-2006\n",
       "            ...    \n",
       "283875    2016-2018\n",
       "283876    2017-2019\n",
       "283877    2018-2020\n",
       "283878    2019-2021\n",
       "283879    2020-2022\n",
       "Name: Year, Length: 283880, dtype: object"
      ]
     },
     "execution_count": 10,
     "metadata": {},
     "output_type": "execute_result"
    }
   ],
   "source": [
    "fao_fs['Year']"
   ]
  },
  {
   "cell_type": "code",
   "execution_count": 15,
   "id": "215d92f2",
   "metadata": {},
   "outputs": [],
   "source": [
    "# Replace all Lao People's Dem. Rep. with Lao People's Democratic Republic\n",
    "f_waste['Country'] = f_waste['Country'].replace('Lao People\\'s Dem. Rep.', 'Lao People\\'s Democratic Republic')"
   ]
  },
  {
   "cell_type": "code",
   "execution_count": 16,
   "id": "15d04206",
   "metadata": {},
   "outputs": [
    {
     "name": "stdout",
     "output_type": "stream",
     "text": [
      "--- Urban Paradox Data Ready for Visualization ---\n"
     ]
    },
    {
     "data": {
      "application/vnd.microsoft.datawrangler.viewer.v0+json": {
       "columns": [
        {
         "name": "index",
         "rawType": "int64",
         "type": "integer"
        },
        {
         "name": "Country",
         "rawType": "object",
         "type": "string"
        },
        {
         "name": "Population Year",
         "rawType": "int64",
         "type": "integer"
        },
        {
         "name": "Urban Population",
         "rawType": "float64",
         "type": "float"
        },
        {
         "name": "FS Year",
         "rawType": "object",
         "type": "string"
        },
        {
         "name": "Urban Food Insecurity (%)",
         "rawType": "object",
         "type": "unknown"
        },
        {
         "name": "Household Waste (kg/capita/yr)",
         "rawType": "int64",
         "type": "integer"
        },
        {
         "name": "Total Household Waste (tonnes/yr)",
         "rawType": "float64",
         "type": "float"
        }
       ],
       "ref": "b6ab573a-d0cb-4ec5-9f1d-f321783ba543",
       "rows": [
        [
         "0",
         "Brunei Darussalam",
         "2023",
         "363647.0",
         "2021-2023",
         null,
         "76",
         "27637.172"
        ],
        [
         "1",
         "Cambodia",
         "2023",
         "4445360.0",
         "2021-2023",
         "56.7",
         "85",
         "377855.6"
        ],
        [
         "2",
         "Indonesia",
         "2023",
         "163963233.0",
         "2021-2023",
         "5.4",
         "53",
         "8690051.349"
        ],
        [
         "3",
         "Lao People's Democratic Republic",
         "2023",
         "2849332.0",
         "2021-2023",
         "39.5",
         "89",
         "253590.548"
        ],
        [
         "4",
         "Malaysia",
         "2023",
         "26866688.0",
         "2021-2023",
         "12.1",
         "81",
         "2176201.728"
        ],
        [
         "5",
         "Myanmar",
         "2023",
         "18032802.0",
         "2021-2023",
         "37",
         "78",
         "1406558.556"
        ],
        [
         "6",
         "Philippines",
         "2023",
         "55287662.0",
         "2021-2023",
         "42.7",
         "26",
         "1437479.212"
        ],
        [
         "7",
         "Singapore",
         "2023",
         "6080859.0",
         "2021-2023",
         "7.4",
         "68",
         "413498.412"
        ],
        [
         "8",
         "Thailand",
         "2023",
         "37322064.0",
         "2021-2023",
         "7.1",
         "86",
         "3209697.504"
        ],
        [
         "9",
         "Viet Nam",
         "2023",
         "39908501.0",
         "2021-2023",
         "14.1",
         "72",
         "2873412.072"
        ]
       ],
       "shape": {
        "columns": 7,
        "rows": 10
       }
      },
      "text/html": [
       "<div>\n",
       "<style scoped>\n",
       "    .dataframe tbody tr th:only-of-type {\n",
       "        vertical-align: middle;\n",
       "    }\n",
       "\n",
       "    .dataframe tbody tr th {\n",
       "        vertical-align: top;\n",
       "    }\n",
       "\n",
       "    .dataframe thead th {\n",
       "        text-align: right;\n",
       "    }\n",
       "</style>\n",
       "<table border=\"1\" class=\"dataframe\">\n",
       "  <thead>\n",
       "    <tr style=\"text-align: right;\">\n",
       "      <th></th>\n",
       "      <th>Country</th>\n",
       "      <th>Population Year</th>\n",
       "      <th>Urban Population</th>\n",
       "      <th>FS Year</th>\n",
       "      <th>Urban Food Insecurity (%)</th>\n",
       "      <th>Household Waste (kg/capita/yr)</th>\n",
       "      <th>Total Household Waste (tonnes/yr)</th>\n",
       "    </tr>\n",
       "  </thead>\n",
       "  <tbody>\n",
       "    <tr>\n",
       "      <th>0</th>\n",
       "      <td>Brunei Darussalam</td>\n",
       "      <td>2023</td>\n",
       "      <td>363647.0</td>\n",
       "      <td>2021-2023</td>\n",
       "      <td>NaN</td>\n",
       "      <td>76</td>\n",
       "      <td>27637.172</td>\n",
       "    </tr>\n",
       "    <tr>\n",
       "      <th>1</th>\n",
       "      <td>Cambodia</td>\n",
       "      <td>2023</td>\n",
       "      <td>4445360.0</td>\n",
       "      <td>2021-2023</td>\n",
       "      <td>56.7</td>\n",
       "      <td>85</td>\n",
       "      <td>377855.600</td>\n",
       "    </tr>\n",
       "    <tr>\n",
       "      <th>2</th>\n",
       "      <td>Indonesia</td>\n",
       "      <td>2023</td>\n",
       "      <td>163963233.0</td>\n",
       "      <td>2021-2023</td>\n",
       "      <td>5.4</td>\n",
       "      <td>53</td>\n",
       "      <td>8690051.349</td>\n",
       "    </tr>\n",
       "    <tr>\n",
       "      <th>3</th>\n",
       "      <td>Lao People's Democratic Republic</td>\n",
       "      <td>2023</td>\n",
       "      <td>2849332.0</td>\n",
       "      <td>2021-2023</td>\n",
       "      <td>39.5</td>\n",
       "      <td>89</td>\n",
       "      <td>253590.548</td>\n",
       "    </tr>\n",
       "    <tr>\n",
       "      <th>4</th>\n",
       "      <td>Malaysia</td>\n",
       "      <td>2023</td>\n",
       "      <td>26866688.0</td>\n",
       "      <td>2021-2023</td>\n",
       "      <td>12.1</td>\n",
       "      <td>81</td>\n",
       "      <td>2176201.728</td>\n",
       "    </tr>\n",
       "    <tr>\n",
       "      <th>5</th>\n",
       "      <td>Myanmar</td>\n",
       "      <td>2023</td>\n",
       "      <td>18032802.0</td>\n",
       "      <td>2021-2023</td>\n",
       "      <td>37</td>\n",
       "      <td>78</td>\n",
       "      <td>1406558.556</td>\n",
       "    </tr>\n",
       "    <tr>\n",
       "      <th>6</th>\n",
       "      <td>Philippines</td>\n",
       "      <td>2023</td>\n",
       "      <td>55287662.0</td>\n",
       "      <td>2021-2023</td>\n",
       "      <td>42.7</td>\n",
       "      <td>26</td>\n",
       "      <td>1437479.212</td>\n",
       "    </tr>\n",
       "    <tr>\n",
       "      <th>7</th>\n",
       "      <td>Singapore</td>\n",
       "      <td>2023</td>\n",
       "      <td>6080859.0</td>\n",
       "      <td>2021-2023</td>\n",
       "      <td>7.4</td>\n",
       "      <td>68</td>\n",
       "      <td>413498.412</td>\n",
       "    </tr>\n",
       "    <tr>\n",
       "      <th>8</th>\n",
       "      <td>Thailand</td>\n",
       "      <td>2023</td>\n",
       "      <td>37322064.0</td>\n",
       "      <td>2021-2023</td>\n",
       "      <td>7.1</td>\n",
       "      <td>86</td>\n",
       "      <td>3209697.504</td>\n",
       "    </tr>\n",
       "    <tr>\n",
       "      <th>9</th>\n",
       "      <td>Viet Nam</td>\n",
       "      <td>2023</td>\n",
       "      <td>39908501.0</td>\n",
       "      <td>2021-2023</td>\n",
       "      <td>14.1</td>\n",
       "      <td>72</td>\n",
       "      <td>2873412.072</td>\n",
       "    </tr>\n",
       "  </tbody>\n",
       "</table>\n",
       "</div>"
      ],
      "text/plain": [
       "                            Country  Population Year  Urban Population  \\\n",
       "0                 Brunei Darussalam             2023          363647.0   \n",
       "1                          Cambodia             2023         4445360.0   \n",
       "2                         Indonesia             2023       163963233.0   \n",
       "3  Lao People's Democratic Republic             2023         2849332.0   \n",
       "4                          Malaysia             2023        26866688.0   \n",
       "5                           Myanmar             2023        18032802.0   \n",
       "6                       Philippines             2023        55287662.0   \n",
       "7                         Singapore             2023         6080859.0   \n",
       "8                          Thailand             2023        37322064.0   \n",
       "9                          Viet Nam             2023        39908501.0   \n",
       "\n",
       "     FS Year Urban Food Insecurity (%)  Household Waste (kg/capita/yr)  \\\n",
       "0  2021-2023                       NaN                              76   \n",
       "1  2021-2023                      56.7                              85   \n",
       "2  2021-2023                       5.4                              53   \n",
       "3  2021-2023                      39.5                              89   \n",
       "4  2021-2023                      12.1                              81   \n",
       "5  2021-2023                        37                              78   \n",
       "6  2021-2023                      42.7                              26   \n",
       "7  2021-2023                       7.4                              68   \n",
       "8  2021-2023                       7.1                              86   \n",
       "9  2021-2023                      14.1                              72   \n",
       "\n",
       "   Total Household Waste (tonnes/yr)  \n",
       "0                          27637.172  \n",
       "1                         377855.600  \n",
       "2                        8690051.349  \n",
       "3                         253590.548  \n",
       "4                        2176201.728  \n",
       "5                        1406558.556  \n",
       "6                        1437479.212  \n",
       "7                         413498.412  \n",
       "8                        3209697.504  \n",
       "9                        2873412.072  "
      ]
     },
     "execution_count": 16,
     "metadata": {},
     "output_type": "execute_result"
    }
   ],
   "source": [
    "# Define the list of ASEAN countries for consistent filtering across all datasets.\n",
    "asean_countries = [\n",
    "    'Brunei Darussalam', 'Cambodia', 'Indonesia', 'Lao People\\'s Democratic Republic',\n",
    "    'Malaysia', 'Myanmar', 'Philippines', 'Singapore', 'Thailand', 'Viet Nam'\n",
    "]\n",
    "\n",
    "# --- 1. Process Urban Population Data ---\n",
    "# Use the latest available year up to 2023 (not a future projection)\n",
    "max_actual_year = fao_population[fao_population['Year'] <= 2023]['Year'].max()\n",
    "population_urban = fao_population[\n",
    "    (fao_population['Area'].isin(asean_countries)) &\n",
    "    (fao_population['Element'] == 'Urban population') &\n",
    "    (fao_population['Year'] == max_actual_year)\n",
    "].copy()\n",
    "population_urban['Value'] = population_urban['Value'] * 1000  # Convert from '1000 persons' to persons\n",
    "population_urban = population_urban[['Area', 'Year', 'Value']].rename(columns={\n",
    "    'Area': 'Country',\n",
    "    'Year': 'Population Year',\n",
    "    'Value': 'Urban Population'\n",
    "})\n",
    "\n",
    "# --- 2. Process Urban Food Insecurity Data ---\n",
    "# Use the latest available year up to 2023 for each country\n",
    "fs_urban_insecurity = fao_fs[\n",
    "    (fao_fs['Area'].isin(asean_countries)) &\n",
    "    (fao_fs['Item'] == 'Prevalence of moderate or severe food insecurity in the female adult population (percent) (3-year average)') &\n",
    "    (fao_fs['Year'].astype(str).str.contains('2021|2022|2023|2024'))\n",
    "].copy()\n",
    "fs_urban_insecurity = fs_urban_insecurity.sort_values('Year').drop_duplicates('Area', keep='last')\n",
    "fs_urban_insecurity = fs_urban_insecurity[['Area', 'Year', 'Value']].rename(columns={\n",
    "    'Area': 'Country',\n",
    "    'Year': 'FS Year',\n",
    "    'Value': 'Urban Food Insecurity (%)'\n",
    "})\n",
    "\n",
    "# --- 3. Process Food Waste Data ---\n",
    "# Load the UNEP food waste report data. We will focus on the 'Household' sector as it's\n",
    "# the largest contributor and directly related to the urban population.\n",
    "waste_household = f_waste[f_waste['Country'].isin(asean_countries)].copy()\n",
    "waste_household = waste_household[['Country', 'Household estimate (kg/capita/year)']].rename(\n",
    "    columns={'Household estimate (kg/capita/year)': 'Household Waste (kg/capita/yr)'}\n",
    ")\n",
    "\n",
    "# --- 4. Merge Datasets to Create the Urban Paradox DataFrame ---\n",
    "# Sequentially merge the processed dataframes to create a single, comprehensive view.\n",
    "# This unified dataset will be the foundation for our first storyboard visualization.\n",
    "urban_paradox_df = pd.merge(population_urban, fs_urban_insecurity, on='Country', how='left')\n",
    "urban_paradox_df = pd.merge(urban_paradox_df, waste_household, on='Country', how='left')\n",
    "\n",
    "# Calculate the total household waste in tonnes for each country to show the scale.\n",
    "urban_paradox_df['Total Household Waste (tonnes/yr)'] = (urban_paradox_df['Urban Population'] * urban_paradox_df['Household Waste (kg/capita/yr)']) / 1000\n",
    "\n",
    "print(\"--- Urban Paradox Data Ready for Visualization ---\")\n",
    "urban_paradox_df"
   ]
  }
 ],
 "metadata": {
  "kernelspec": {
   "display_name": ".venv",
   "language": "python",
   "name": "python3"
  },
  "language_info": {
   "codemirror_mode": {
    "name": "ipython",
    "version": 3
   },
   "file_extension": ".py",
   "mimetype": "text/x-python",
   "name": "python",
   "nbconvert_exporter": "python",
   "pygments_lexer": "ipython3",
   "version": "3.12.9"
  }
 },
 "nbformat": 4,
 "nbformat_minor": 5
}
