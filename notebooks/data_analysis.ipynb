{
 "cells": [
  {
   "cell_type": "code",
   "execution_count": 199,
   "id": "479301b5",
   "metadata": {},
   "outputs": [],
   "source": [
    "import pandas as pd\n",
    "pd.set_option('future.no_silent_downcasting', True)"
   ]
  },
  {
   "cell_type": "code",
   "execution_count": 42,
   "id": "04c83529",
   "metadata": {},
   "outputs": [],
   "source": [
    "# FAO Data\n",
    "fao_fbs = pd.read_csv(r\"..\\data\\FAOSTAT\\processed\\fao_fbs_relevant.csv\")\n",
    "fao_fs = pd.read_csv(r\"..\\data\\FAOSTAT\\processed\\fao_fs_relevant.csv\")\n",
    "fao_emissions = pd.read_csv(r\"..\\data\\FAOSTAT\\processed\\fao_emissions_relevant.csv\")\n",
    "fao_cpi = pd.read_csv(r\"..\\data\\FAOSTAT\\processed\\fao_cpi_relevant.csv\")\n",
    "fao_population = pd.read_csv(r\"..\\data\\FAOSTAT\\processed\\fao_population_relevant.csv\")\n",
    "fao_prices = pd.read_csv(r\"..\\data\\FAOSTAT\\processed\\fao_prices_relevant.csv\")\n",
    "fao_production_indices = pd.read_csv(r\"..\\data\\FAOSTAT\\processed\\fao_production_indices_relevant.csv\")"
   ]
  },
  {
   "cell_type": "code",
   "execution_count": 43,
   "id": "ad9d9a41",
   "metadata": {},
   "outputs": [],
   "source": [
    "# Other Data\n",
    "f_waste = pd.read_excel(r\"../data/Food Waste Estimation UNEP 2024.xlsx\")\n",
    "fsi_data = pd.read_csv(r\"../data/processed/fsi_data_melted.csv\")\n",
    "asean_sdg = pd.read_excel(r\"../data/SDG From ASEANstats.xlsx\")\n",
    "un_sdg = pd.read_excel(r\"../data/SDG From UNSDG (2, 11, 12, 13).xlsx\")\n",
    "gfsi_data = pd.read_csv(r\"../data/processed/gfsi_data_melted.csv\")\n",
    "fsi_score = pd.read_csv(r\"../data/processed/fsi_score_melted.csv\")\n",
    "gfsi_score = pd.read_csv(r\"../data/processed/gfsi_score_melted.csv\")"
   ]
  },
  {
   "cell_type": "code",
   "execution_count": 44,
   "id": "510b17cc",
   "metadata": {},
   "outputs": [
    {
     "data": {
      "application/vnd.microsoft.datawrangler.viewer.v0+json": {
       "columns": [
        {
         "name": "index",
         "rawType": "int64",
         "type": "integer"
        },
        {
         "name": "Year",
         "rawType": "object",
         "type": "string"
        }
       ],
       "ref": "486dbf90-6912-4633-add3-e85b9a1e2726",
       "rows": [
        [
         "0",
         "2000-2002"
        ],
        [
         "1",
         "2001-2003"
        ],
        [
         "2",
         "2002-2004"
        ],
        [
         "3",
         "2003-2005"
        ],
        [
         "4",
         "2004-2006"
        ],
        [
         "5",
         "2005-2007"
        ],
        [
         "6",
         "2006-2008"
        ],
        [
         "7",
         "2007-2009"
        ],
        [
         "8",
         "2008-2010"
        ],
        [
         "9",
         "2009-2011"
        ],
        [
         "10",
         "2010-2012"
        ],
        [
         "11",
         "2011-2013"
        ],
        [
         "12",
         "2012-2014"
        ],
        [
         "13",
         "2013-2015"
        ],
        [
         "14",
         "2014-2016"
        ],
        [
         "15",
         "2015-2017"
        ],
        [
         "16",
         "2016-2018"
        ],
        [
         "17",
         "2017-2019"
        ],
        [
         "18",
         "2018-2020"
        ],
        [
         "19",
         "2019-2021"
        ],
        [
         "20",
         "2020-2022"
        ],
        [
         "21",
         "2021-2023"
        ],
        [
         "22",
         "2000"
        ],
        [
         "23",
         "2001"
        ],
        [
         "24",
         "2002"
        ],
        [
         "25",
         "2003"
        ],
        [
         "26",
         "2004"
        ],
        [
         "27",
         "2005"
        ],
        [
         "28",
         "2006"
        ],
        [
         "29",
         "2007"
        ],
        [
         "30",
         "2008"
        ],
        [
         "31",
         "2009"
        ],
        [
         "32",
         "2010"
        ],
        [
         "33",
         "2011"
        ],
        [
         "34",
         "2012"
        ],
        [
         "35",
         "2013"
        ],
        [
         "36",
         "2014"
        ],
        [
         "37",
         "2015"
        ],
        [
         "38",
         "2016"
        ],
        [
         "39",
         "2017"
        ],
        [
         "40",
         "2018"
        ],
        [
         "41",
         "2019"
        ],
        [
         "42",
         "2020"
        ],
        [
         "43",
         "2021"
        ],
        [
         "44",
         "2022"
        ],
        [
         "45",
         "2023"
        ],
        [
         "46",
         "2000-2002"
        ],
        [
         "47",
         "2001-2003"
        ],
        [
         "48",
         "2002-2004"
        ],
        [
         "49",
         "2003-2005"
        ]
       ],
       "shape": {
        "columns": 1,
        "rows": 283880
       }
      },
      "text/plain": [
       "0         2000-2002\n",
       "1         2001-2003\n",
       "2         2002-2004\n",
       "3         2003-2005\n",
       "4         2004-2006\n",
       "            ...    \n",
       "283875    2016-2018\n",
       "283876    2017-2019\n",
       "283877    2018-2020\n",
       "283878    2019-2021\n",
       "283879    2020-2022\n",
       "Name: Year, Length: 283880, dtype: object"
      ]
     },
     "execution_count": 44,
     "metadata": {},
     "output_type": "execute_result"
    }
   ],
   "source": [
    "fao_fs['Year']"
   ]
  },
  {
   "cell_type": "code",
   "execution_count": 45,
   "id": "215d92f2",
   "metadata": {},
   "outputs": [],
   "source": [
    "# Replace all Lao People's Dem. Rep. with Lao People's Democratic Republic\n",
    "f_waste['Country'] = f_waste['Country'].replace('Lao People\\'s Dem. Rep.', 'Lao People\\'s Democratic Republic')"
   ]
  },
  {
   "cell_type": "markdown",
   "id": "e2f9fa0d",
   "metadata": {},
   "source": [
    "# Exploratory Data Analysis (EDA)"
   ]
  },
  {
   "cell_type": "markdown",
   "id": "589b54bf",
   "metadata": {},
   "source": [
    "## Urban Paradox"
   ]
  },
  {
   "cell_type": "code",
   "execution_count": 274,
   "id": "15d04206",
   "metadata": {},
   "outputs": [
    {
     "name": "stdout",
     "output_type": "stream",
     "text": [
      "--- Urban Paradox Data Ready for Visualization ---\n"
     ]
    },
    {
     "data": {
      "application/vnd.microsoft.datawrangler.viewer.v0+json": {
       "columns": [
        {
         "name": "index",
         "rawType": "int64",
         "type": "integer"
        },
        {
         "name": "Country",
         "rawType": "object",
         "type": "string"
        },
        {
         "name": "Population Year",
         "rawType": "int64",
         "type": "integer"
        },
        {
         "name": "Urban Population",
         "rawType": "float64",
         "type": "float"
        },
        {
         "name": "FS Year",
         "rawType": "object",
         "type": "string"
        },
        {
         "name": "Urban Food Insecurity (%)",
         "rawType": "object",
         "type": "unknown"
        },
        {
         "name": "Household Waste (kg/capita/yr)",
         "rawType": "int64",
         "type": "integer"
        },
        {
         "name": "Total Household Waste (tonnes/yr)",
         "rawType": "float64",
         "type": "float"
        }
       ],
       "ref": "b50656c0-a6c4-4548-9bae-0a2a9d7c2d9c",
       "rows": [
        [
         "0",
         "Brunei Darussalam",
         "2023",
         "363647.0",
         "2021-2023",
         null,
         "76",
         "27637.172"
        ],
        [
         "1",
         "Cambodia",
         "2023",
         "4445360.0",
         "2021-2023",
         "56.7",
         "85",
         "377855.6"
        ],
        [
         "2",
         "Indonesia",
         "2023",
         "163963233.0",
         "2021-2023",
         "5.4",
         "53",
         "8690051.349"
        ],
        [
         "3",
         "Lao People's Democratic Republic",
         "2023",
         "2849332.0",
         "2021-2023",
         "39.5",
         "89",
         "253590.548"
        ],
        [
         "4",
         "Malaysia",
         "2023",
         "26866688.0",
         "2021-2023",
         "12.1",
         "81",
         "2176201.728"
        ],
        [
         "5",
         "Myanmar",
         "2023",
         "18032802.0",
         "2021-2023",
         "37",
         "78",
         "1406558.556"
        ],
        [
         "6",
         "Philippines",
         "2023",
         "55287662.0",
         "2021-2023",
         "42.7",
         "26",
         "1437479.212"
        ],
        [
         "7",
         "Singapore",
         "2023",
         "6080859.0",
         "2021-2023",
         "7.4",
         "68",
         "413498.412"
        ],
        [
         "8",
         "Thailand",
         "2023",
         "37322064.0",
         "2021-2023",
         "7.1",
         "86",
         "3209697.504"
        ],
        [
         "9",
         "Viet Nam",
         "2023",
         "39908501.0",
         "2021-2023",
         "14.1",
         "72",
         "2873412.072"
        ]
       ],
       "shape": {
        "columns": 7,
        "rows": 10
       }
      },
      "text/html": [
       "<div>\n",
       "<style scoped>\n",
       "    .dataframe tbody tr th:only-of-type {\n",
       "        vertical-align: middle;\n",
       "    }\n",
       "\n",
       "    .dataframe tbody tr th {\n",
       "        vertical-align: top;\n",
       "    }\n",
       "\n",
       "    .dataframe thead th {\n",
       "        text-align: right;\n",
       "    }\n",
       "</style>\n",
       "<table border=\"1\" class=\"dataframe\">\n",
       "  <thead>\n",
       "    <tr style=\"text-align: right;\">\n",
       "      <th></th>\n",
       "      <th>Country</th>\n",
       "      <th>Population Year</th>\n",
       "      <th>Urban Population</th>\n",
       "      <th>FS Year</th>\n",
       "      <th>Urban Food Insecurity (%)</th>\n",
       "      <th>Household Waste (kg/capita/yr)</th>\n",
       "      <th>Total Household Waste (tonnes/yr)</th>\n",
       "    </tr>\n",
       "  </thead>\n",
       "  <tbody>\n",
       "    <tr>\n",
       "      <th>0</th>\n",
       "      <td>Brunei Darussalam</td>\n",
       "      <td>2023</td>\n",
       "      <td>363647.0</td>\n",
       "      <td>2021-2023</td>\n",
       "      <td>NaN</td>\n",
       "      <td>76</td>\n",
       "      <td>27637.172</td>\n",
       "    </tr>\n",
       "    <tr>\n",
       "      <th>1</th>\n",
       "      <td>Cambodia</td>\n",
       "      <td>2023</td>\n",
       "      <td>4445360.0</td>\n",
       "      <td>2021-2023</td>\n",
       "      <td>56.7</td>\n",
       "      <td>85</td>\n",
       "      <td>377855.600</td>\n",
       "    </tr>\n",
       "    <tr>\n",
       "      <th>2</th>\n",
       "      <td>Indonesia</td>\n",
       "      <td>2023</td>\n",
       "      <td>163963233.0</td>\n",
       "      <td>2021-2023</td>\n",
       "      <td>5.4</td>\n",
       "      <td>53</td>\n",
       "      <td>8690051.349</td>\n",
       "    </tr>\n",
       "    <tr>\n",
       "      <th>3</th>\n",
       "      <td>Lao People's Democratic Republic</td>\n",
       "      <td>2023</td>\n",
       "      <td>2849332.0</td>\n",
       "      <td>2021-2023</td>\n",
       "      <td>39.5</td>\n",
       "      <td>89</td>\n",
       "      <td>253590.548</td>\n",
       "    </tr>\n",
       "    <tr>\n",
       "      <th>4</th>\n",
       "      <td>Malaysia</td>\n",
       "      <td>2023</td>\n",
       "      <td>26866688.0</td>\n",
       "      <td>2021-2023</td>\n",
       "      <td>12.1</td>\n",
       "      <td>81</td>\n",
       "      <td>2176201.728</td>\n",
       "    </tr>\n",
       "    <tr>\n",
       "      <th>5</th>\n",
       "      <td>Myanmar</td>\n",
       "      <td>2023</td>\n",
       "      <td>18032802.0</td>\n",
       "      <td>2021-2023</td>\n",
       "      <td>37</td>\n",
       "      <td>78</td>\n",
       "      <td>1406558.556</td>\n",
       "    </tr>\n",
       "    <tr>\n",
       "      <th>6</th>\n",
       "      <td>Philippines</td>\n",
       "      <td>2023</td>\n",
       "      <td>55287662.0</td>\n",
       "      <td>2021-2023</td>\n",
       "      <td>42.7</td>\n",
       "      <td>26</td>\n",
       "      <td>1437479.212</td>\n",
       "    </tr>\n",
       "    <tr>\n",
       "      <th>7</th>\n",
       "      <td>Singapore</td>\n",
       "      <td>2023</td>\n",
       "      <td>6080859.0</td>\n",
       "      <td>2021-2023</td>\n",
       "      <td>7.4</td>\n",
       "      <td>68</td>\n",
       "      <td>413498.412</td>\n",
       "    </tr>\n",
       "    <tr>\n",
       "      <th>8</th>\n",
       "      <td>Thailand</td>\n",
       "      <td>2023</td>\n",
       "      <td>37322064.0</td>\n",
       "      <td>2021-2023</td>\n",
       "      <td>7.1</td>\n",
       "      <td>86</td>\n",
       "      <td>3209697.504</td>\n",
       "    </tr>\n",
       "    <tr>\n",
       "      <th>9</th>\n",
       "      <td>Viet Nam</td>\n",
       "      <td>2023</td>\n",
       "      <td>39908501.0</td>\n",
       "      <td>2021-2023</td>\n",
       "      <td>14.1</td>\n",
       "      <td>72</td>\n",
       "      <td>2873412.072</td>\n",
       "    </tr>\n",
       "  </tbody>\n",
       "</table>\n",
       "</div>"
      ],
      "text/plain": [
       "                            Country  Population Year  Urban Population  \\\n",
       "0                 Brunei Darussalam             2023          363647.0   \n",
       "1                          Cambodia             2023         4445360.0   \n",
       "2                         Indonesia             2023       163963233.0   \n",
       "3  Lao People's Democratic Republic             2023         2849332.0   \n",
       "4                          Malaysia             2023        26866688.0   \n",
       "5                           Myanmar             2023        18032802.0   \n",
       "6                       Philippines             2023        55287662.0   \n",
       "7                         Singapore             2023         6080859.0   \n",
       "8                          Thailand             2023        37322064.0   \n",
       "9                          Viet Nam             2023        39908501.0   \n",
       "\n",
       "     FS Year Urban Food Insecurity (%)  Household Waste (kg/capita/yr)  \\\n",
       "0  2021-2023                       NaN                              76   \n",
       "1  2021-2023                      56.7                              85   \n",
       "2  2021-2023                       5.4                              53   \n",
       "3  2021-2023                      39.5                              89   \n",
       "4  2021-2023                      12.1                              81   \n",
       "5  2021-2023                        37                              78   \n",
       "6  2021-2023                      42.7                              26   \n",
       "7  2021-2023                       7.4                              68   \n",
       "8  2021-2023                       7.1                              86   \n",
       "9  2021-2023                      14.1                              72   \n",
       "\n",
       "   Total Household Waste (tonnes/yr)  \n",
       "0                          27637.172  \n",
       "1                         377855.600  \n",
       "2                        8690051.349  \n",
       "3                         253590.548  \n",
       "4                        2176201.728  \n",
       "5                        1406558.556  \n",
       "6                        1437479.212  \n",
       "7                         413498.412  \n",
       "8                        3209697.504  \n",
       "9                        2873412.072  "
      ]
     },
     "execution_count": 274,
     "metadata": {},
     "output_type": "execute_result"
    }
   ],
   "source": [
    "# Define the list of ASEAN countries for consistent filtering across all datasets.\n",
    "asean_countries = [\n",
    "    'Brunei Darussalam', 'Cambodia', 'Indonesia', 'Lao People\\'s Democratic Republic',\n",
    "    'Malaysia', 'Myanmar', 'Philippines', 'Singapore', 'Thailand', 'Viet Nam'\n",
    "]\n",
    "\n",
    "# Process Urban Population Data\n",
    "max_actual_year = fao_population[fao_population['Year'] <= 2023]['Year'].max()\n",
    "population_urban = fao_population[\n",
    "    (fao_population['Area'].isin(asean_countries)) &\n",
    "    (fao_population['Element'] == 'Urban population') &\n",
    "    (fao_population['Year'] == max_actual_year)\n",
    "].copy()\n",
    "population_urban['Value'] *= 1000  # Convert from '1000 persons' to persons\n",
    "population_urban = population_urban[['Area', 'Year', 'Value']].rename(columns={\n",
    "    'Area': 'Country',\n",
    "    'Year': 'Population Year',\n",
    "    'Value': 'Urban Population'\n",
    "})\n",
    "\n",
    "# Process Urban Food Insecurity Data\n",
    "fs_urban_insecurity = fao_fs[\n",
    "    (fao_fs['Area'].isin(asean_countries)) &\n",
    "    (fao_fs['Item'] == 'Prevalence of moderate or severe food insecurity in the female adult population (percent) (3-year average)') &\n",
    "    (fao_fs['Year'].astype(str).str.contains('2021|2022|2023|2024'))\n",
    "].sort_values('Year').drop_duplicates('Area', keep='last')\n",
    "fs_urban_insecurity = fs_urban_insecurity[['Area', 'Year', 'Value']].rename(columns={\n",
    "    'Area': 'Country',\n",
    "    'Year': 'FS Year',\n",
    "    'Value': 'Urban Food Insecurity (%)'\n",
    "})\n",
    "\n",
    "# Process Food Waste Data\n",
    "waste_household = f_waste[f_waste['Country'].isin(asean_countries)][['Country', 'Household estimate (kg/capita/year)']].rename(\n",
    "    columns={'Household estimate (kg/capita/year)': 'Household Waste (kg/capita/yr)'}\n",
    ")\n",
    "\n",
    "# Merge Datasets to Create the Urban Paradox DataFrame\n",
    "urban_paradox_df = population_urban.merge(fs_urban_insecurity, on='Country', how='left').merge(waste_household, on='Country', how='left')\n",
    "urban_paradox_df['Total Household Waste (tonnes/yr)'] = (urban_paradox_df['Urban Population'] * urban_paradox_df['Household Waste (kg/capita/yr)']) / 1000\n",
    "\n",
    "print(\"--- Urban Paradox Data Ready for Visualization ---\")\n",
    "urban_paradox_df"
   ]
  },
  {
   "cell_type": "markdown",
   "id": "51d08668",
   "metadata": {},
   "source": [
    "## Estimated Financial Loss (Hybrid Price Filling)"
   ]
  },
  {
   "cell_type": "code",
   "execution_count": 154,
   "id": "a9bebb2c",
   "metadata": {},
   "outputs": [
    {
     "name": "stdout",
     "output_type": "stream",
     "text": [
      "--- Comprehensive Financial Loss Data (Hybrid Price Filling) ---\n"
     ]
    },
    {
     "data": {
      "application/vnd.microsoft.datawrangler.viewer.v0+json": {
       "columns": [
        {
         "name": "index",
         "rawType": "int64",
         "type": "integer"
        },
        {
         "name": "Country",
         "rawType": "object",
         "type": "string"
        },
        {
         "name": "Item",
         "rawType": "object",
         "type": "string"
        },
        {
         "name": "Loss Year",
         "rawType": "int64",
         "type": "integer"
        },
        {
         "name": "Final_Price",
         "rawType": "float64",
         "type": "float"
        },
        {
         "name": "Losses (tonnes)",
         "rawType": "float64",
         "type": "float"
        },
        {
         "name": "Financial Loss (USD)",
         "rawType": "float64",
         "type": "float"
        }
       ],
       "ref": "3cd93453-0cea-41a3-9d23-742cce8b368b",
       "rows": [
        [
         "172",
         "Indonesia",
         "Palm kernels",
         "2022",
         "281.4",
         "35611.0",
         "10020935.399999999"
        ],
        [
         "140",
         "Indonesia",
         "Oilcrops",
         "2022",
         "153.7",
         "37250.0",
         "5725325.0"
        ],
        [
         "17",
         "Viet Nam",
         "Cereals - Excluding Beer",
         "2022",
         "1170.472027972028",
         "4412.0",
         "5164122.587412587"
        ],
        [
         "23",
         "Indonesia",
         "Cereals - Excluding Beer",
         "2022",
         "1170.472027972028",
         "3988.0",
         "4667842.447552447"
        ],
        [
         "26",
         "Thailand",
         "Starchy Roots",
         "2022",
         "891.4780487804878",
         "2604.0",
         "2321408.83902439"
        ],
        [
         "18",
         "Thailand",
         "Cereals - Excluding Beer",
         "2022",
         "1170.472027972028",
         "1548.0",
         "1811890.6993006992"
        ],
        [
         "20",
         "Myanmar",
         "Cereals - Excluding Beer",
         "2022",
         "1170.472027972028",
         "1093.0",
         "1279325.9265734265"
        ],
        [
         "382",
         "Viet Nam",
         "Rice and products",
         "2022",
         "326.7",
         "3808.0",
         "1244073.5999999999"
        ],
        [
         "197",
         "Viet Nam",
         "Vegetables",
         "2022",
         "755.525",
         "1624.0",
         "1226972.5999999999"
        ],
        [
         "77",
         "Indonesia",
         "Sugar cane",
         "2022",
         "699.9833333333332",
         "1732.0",
         "1212371.133333333"
        ],
        [
         "191",
         "Viet Nam",
         "Vegetables, other",
         "2022",
         "755.525",
         "1573.0",
         "1188440.825"
        ],
        [
         "11",
         "Indonesia",
         "Rice and products",
         "2022",
         "389.0",
         "3006.0",
         "1169334.0"
        ],
        [
         "85",
         "Myanmar",
         "Sugar cane",
         "2022",
         "699.9833333333332",
         "1306.0",
         "914178.2333333332"
        ],
        [
         "386",
         "Cambodia",
         "Cereals - Excluding Beer",
         "2022",
         "1170.472027972028",
         "762.0",
         "891899.6853146853"
        ],
        [
         "81",
         "Indonesia",
         "Sugar Crops",
         "2022",
         "474.92",
         "1732.0",
         "822561.4400000001"
        ],
        [
         "31",
         "Viet Nam",
         "Starchy Roots",
         "2022",
         "891.4780487804878",
         "907.0",
         "808570.5902439024"
        ],
        [
         "38",
         "Lao People's Democratic Republic",
         "Starchy Roots",
         "2022",
         "891.4780487804878",
         "742.0",
         "661476.7121951219"
        ],
        [
         "61",
         "Myanmar",
         "Sugar Crops",
         "2022",
         "474.92",
         "1306.0",
         "620245.52"
        ],
        [
         "87",
         "Philippines",
         "Sugar Crops",
         "2022",
         "474.92",
         "1262.0",
         "599349.04"
        ],
        [
         "34",
         "Cambodia",
         "Starchy Roots",
         "2022",
         "891.4780487804878",
         "654.0",
         "583026.643902439"
        ],
        [
         "28",
         "Indonesia",
         "Starchy Roots",
         "2022",
         "891.4780487804878",
         "640.0",
         "570545.9512195121"
        ],
        [
         "157",
         "Malaysia",
         "Palm kernels",
         "2022",
         "442.0",
         "1265.0",
         "559130.0"
        ],
        [
         "226",
         "Philippines",
         "Fruits - Excluding Wine",
         "2022",
         "434.25",
         "1213.0",
         "526745.25"
        ],
        [
         "228",
         "Indonesia",
         "Vegetables",
         "2022",
         "755.525",
         "610.0",
         "460870.25"
        ],
        [
         "383",
         "Thailand",
         "Rice and products",
         "2022",
         "335.4",
         "1364.0",
         "457485.6"
        ],
        [
         "237",
         "Indonesia",
         "Vegetables, other",
         "2022",
         "755.525",
         "579.0",
         "437448.975"
        ],
        [
         "233",
         "Indonesia",
         "Fruits - Excluding Wine",
         "2022",
         "434.25",
         "1004.0",
         "435987.0"
        ],
        [
         "247",
         "Thailand",
         "Fruits - Excluding Wine",
         "2022",
         "434.25",
         "987.0",
         "428604.75"
        ],
        [
         "82",
         "Thailand",
         "Sugar Crops",
         "2022",
         "474.92",
         "889.0",
         "422203.88"
        ],
        [
         "384",
         "Myanmar",
         "Rice and products",
         "2022",
         "399.725",
         "966.0",
         "386134.35000000003"
        ],
        [
         "187",
         "Viet Nam",
         "Fruits - Excluding Wine",
         "2022",
         "434.25",
         "841.0",
         "365204.25"
        ],
        [
         "252",
         "Philippines",
         "Plantains",
         "2022",
         "1394.0",
         "261.0",
         "363834.0"
        ],
        [
         "377",
         "Indonesia",
         "Maize and products",
         "2022",
         "351.8",
         "982.0",
         "345467.60000000003"
        ],
        [
         "0",
         "Indonesia",
         "Eggs",
         "2022",
         "1995.7",
         "161.0",
         "321307.7"
        ],
        [
         "21",
         "Malaysia",
         "Cereals - Excluding Beer",
         "2022",
         "1170.472027972028",
         "273.0",
         "319538.86363636365"
        ],
        [
         "335",
         "Viet Nam",
         "Offals",
         "2022",
         "6667.92",
         "47.0",
         "313392.24"
        ],
        [
         "334",
         "Viet Nam",
         "Offals, Edible",
         "2022",
         "6667.92",
         "47.0",
         "313392.24"
        ],
        [
         "307",
         "Indonesia",
         "Fruits, other",
         "2022",
         "434.25",
         "712.0",
         "309186.0"
        ],
        [
         "190",
         "Myanmar",
         "Vegetables",
         "2022",
         "755.525",
         "409.0",
         "309009.725"
        ],
        [
         "19",
         "Philippines",
         "Cereals - Excluding Beer",
         "2022",
         "1170.472027972028",
         "260.0",
         "304322.7272727273"
        ],
        [
         "40",
         "Lao People's Democratic Republic",
         "Roots, Other",
         "2022",
         "891.4780487804878",
         "323.0",
         "287947.4097560976"
        ],
        [
         "66",
         "Viet Nam",
         "Sugar Crops",
         "2022",
         "474.92",
         "596.0",
         "283052.32"
        ],
        [
         "179",
         "Indonesia",
         "Coconuts - Incl Copra",
         "2022",
         "181.2",
         "1553.0",
         "281403.6"
        ],
        [
         "282",
         "Thailand",
         "Fruits, other",
         "2022",
         "434.25",
         "626.0",
         "271840.5"
        ],
        [
         "218",
         "Myanmar",
         "Plantains",
         "2022",
         "1394.0",
         "190.0",
         "264860.0"
        ],
        [
         "254",
         "Viet Nam",
         "Stimulants",
         "2022",
         "1718.1",
         "149.0",
         "255996.9"
        ],
        [
         "212",
         "Myanmar",
         "Vegetables, other",
         "2022",
         "755.525",
         "326.0",
         "246301.15"
        ],
        [
         "134",
         "Malaysia",
         "Oilcrops",
         "2022",
         "170.6",
         "1337.0",
         "228092.19999999998"
        ],
        [
         "348",
         "Philippines",
         "Offals",
         "2022",
         "6667.92",
         "34.0",
         "226709.28"
        ],
        [
         "343",
         "Philippines",
         "Offals, Edible",
         "2022",
         "6667.92",
         "34.0",
         "226709.28"
        ]
       ],
       "shape": {
        "columns": 6,
        "rows": 387
       }
      },
      "text/html": [
       "<div>\n",
       "<style scoped>\n",
       "    .dataframe tbody tr th:only-of-type {\n",
       "        vertical-align: middle;\n",
       "    }\n",
       "\n",
       "    .dataframe tbody tr th {\n",
       "        vertical-align: top;\n",
       "    }\n",
       "\n",
       "    .dataframe thead th {\n",
       "        text-align: right;\n",
       "    }\n",
       "</style>\n",
       "<table border=\"1\" class=\"dataframe\">\n",
       "  <thead>\n",
       "    <tr style=\"text-align: right;\">\n",
       "      <th></th>\n",
       "      <th>Country</th>\n",
       "      <th>Item</th>\n",
       "      <th>Loss Year</th>\n",
       "      <th>Final_Price</th>\n",
       "      <th>Losses (tonnes)</th>\n",
       "      <th>Financial Loss (USD)</th>\n",
       "    </tr>\n",
       "  </thead>\n",
       "  <tbody>\n",
       "    <tr>\n",
       "      <th>172</th>\n",
       "      <td>Indonesia</td>\n",
       "      <td>Palm kernels</td>\n",
       "      <td>2022</td>\n",
       "      <td>281.400000</td>\n",
       "      <td>35611.0</td>\n",
       "      <td>1.002094e+07</td>\n",
       "    </tr>\n",
       "    <tr>\n",
       "      <th>140</th>\n",
       "      <td>Indonesia</td>\n",
       "      <td>Oilcrops</td>\n",
       "      <td>2022</td>\n",
       "      <td>153.700000</td>\n",
       "      <td>37250.0</td>\n",
       "      <td>5.725325e+06</td>\n",
       "    </tr>\n",
       "    <tr>\n",
       "      <th>17</th>\n",
       "      <td>Viet Nam</td>\n",
       "      <td>Cereals - Excluding Beer</td>\n",
       "      <td>2022</td>\n",
       "      <td>1170.472028</td>\n",
       "      <td>4412.0</td>\n",
       "      <td>5.164123e+06</td>\n",
       "    </tr>\n",
       "    <tr>\n",
       "      <th>23</th>\n",
       "      <td>Indonesia</td>\n",
       "      <td>Cereals - Excluding Beer</td>\n",
       "      <td>2022</td>\n",
       "      <td>1170.472028</td>\n",
       "      <td>3988.0</td>\n",
       "      <td>4.667842e+06</td>\n",
       "    </tr>\n",
       "    <tr>\n",
       "      <th>26</th>\n",
       "      <td>Thailand</td>\n",
       "      <td>Starchy Roots</td>\n",
       "      <td>2022</td>\n",
       "      <td>891.478049</td>\n",
       "      <td>2604.0</td>\n",
       "      <td>2.321409e+06</td>\n",
       "    </tr>\n",
       "    <tr>\n",
       "      <th>...</th>\n",
       "      <td>...</td>\n",
       "      <td>...</td>\n",
       "      <td>...</td>\n",
       "      <td>...</td>\n",
       "      <td>...</td>\n",
       "      <td>...</td>\n",
       "    </tr>\n",
       "    <tr>\n",
       "      <th>102</th>\n",
       "      <td>Myanmar</td>\n",
       "      <td>Honey</td>\n",
       "      <td>2022</td>\n",
       "      <td>7135.400000</td>\n",
       "      <td>0.0</td>\n",
       "      <td>0.000000e+00</td>\n",
       "    </tr>\n",
       "    <tr>\n",
       "      <th>110</th>\n",
       "      <td>Cambodia</td>\n",
       "      <td>Treenuts</td>\n",
       "      <td>2022</td>\n",
       "      <td>7483.200000</td>\n",
       "      <td>0.0</td>\n",
       "      <td>0.000000e+00</td>\n",
       "    </tr>\n",
       "    <tr>\n",
       "      <th>120</th>\n",
       "      <td>Malaysia</td>\n",
       "      <td>Groundnuts</td>\n",
       "      <td>2022</td>\n",
       "      <td>1247.016667</td>\n",
       "      <td>0.0</td>\n",
       "      <td>0.000000e+00</td>\n",
       "    </tr>\n",
       "    <tr>\n",
       "      <th>115</th>\n",
       "      <td>Philippines</td>\n",
       "      <td>Peas</td>\n",
       "      <td>2022</td>\n",
       "      <td>531.260575</td>\n",
       "      <td>0.0</td>\n",
       "      <td>0.000000e+00</td>\n",
       "    </tr>\n",
       "    <tr>\n",
       "      <th>116</th>\n",
       "      <td>Malaysia</td>\n",
       "      <td>Treenuts</td>\n",
       "      <td>2022</td>\n",
       "      <td>7483.200000</td>\n",
       "      <td>0.0</td>\n",
       "      <td>0.000000e+00</td>\n",
       "    </tr>\n",
       "  </tbody>\n",
       "</table>\n",
       "<p>387 rows × 6 columns</p>\n",
       "</div>"
      ],
      "text/plain": [
       "         Country                      Item  Loss Year  Final_Price  \\\n",
       "172    Indonesia              Palm kernels       2022   281.400000   \n",
       "140    Indonesia                  Oilcrops       2022   153.700000   \n",
       "17      Viet Nam  Cereals - Excluding Beer       2022  1170.472028   \n",
       "23     Indonesia  Cereals - Excluding Beer       2022  1170.472028   \n",
       "26      Thailand             Starchy Roots       2022   891.478049   \n",
       "..           ...                       ...        ...          ...   \n",
       "102      Myanmar                     Honey       2022  7135.400000   \n",
       "110     Cambodia                  Treenuts       2022  7483.200000   \n",
       "120     Malaysia                Groundnuts       2022  1247.016667   \n",
       "115  Philippines                      Peas       2022   531.260575   \n",
       "116     Malaysia                  Treenuts       2022  7483.200000   \n",
       "\n",
       "     Losses (tonnes)  Financial Loss (USD)  \n",
       "172          35611.0          1.002094e+07  \n",
       "140          37250.0          5.725325e+06  \n",
       "17            4412.0          5.164123e+06  \n",
       "23            3988.0          4.667842e+06  \n",
       "26            2604.0          2.321409e+06  \n",
       "..               ...                   ...  \n",
       "102              0.0          0.000000e+00  \n",
       "110              0.0          0.000000e+00  \n",
       "120              0.0          0.000000e+00  \n",
       "115              0.0          0.000000e+00  \n",
       "116              0.0          0.000000e+00  \n",
       "\n",
       "[387 rows x 6 columns]"
      ]
     },
     "execution_count": 154,
     "metadata": {},
     "output_type": "execute_result"
    }
   ],
   "source": [
    "# Filter the Food Balance Sheets for the 'Losses' element across all commodities\n",
    "# in ASEAN countries. We will keep the 'Year' to be explicit about the timeframe.\n",
    "loss_volume = fao_fbs[\n",
    "    (fao_fbs['Area'].isin(asean_countries)) &\n",
    "    (fao_fbs['Element'] == 'Losses') &\n",
    "    (fao_fbs['Year'] == 2022) &\n",
    "    (~fao_fbs['Item'].str.strip().str.lower().str.contains('total'))\n",
    "].copy()\n",
    "loss_volume = loss_volume.sort_values('Year').drop_duplicates(['Area', 'Item'], keep='last')\n",
    "loss_volume = loss_volume[['Area', 'Item', 'Year', 'Value']].rename(columns={\n",
    "    'Year': 'Loss Year',\n",
    "    'Value': 'Losses (tonnes)'\n",
    "})\n",
    "\n",
    "# Filter the Producer Prices dataset for the USD/tonne value across all commodities\n",
    "# in ASEAN, also keeping the 'Year'.\n",
    "producer_prices = fao_prices[\n",
    "    (fao_prices['Area'].isin(asean_countries)) &\n",
    "    (fao_prices['Element'] == 'Producer Price (USD/tonne)')\n",
    "].copy()\n",
    "# For each (Area, Item), find the latest available price (any year)\n",
    "producer_prices = (\n",
    "    producer_prices\n",
    "    .sort_values(['Area', 'Item', 'Year'], ascending=[True, True, False])\n",
    "    .drop_duplicates(['Area', 'Item'], keep='first')\n",
    "    .loc[:, ['Area', 'Item', 'Year', 'Value']]\n",
    "    .rename(columns={'Year': 'Price Year', 'Value': 'Price (USD/tonne)'})\n",
    ")\n",
    "\n",
    "# Manual mapping from loss_volume items to producer_prices items (standardized, lowercased)\n",
    "item_mapping = {\n",
    "    'eggs': 'hen eggs in shell, fresh',\n",
    "    'milk - excluding butter': 'raw milk of cattle',\n",
    "    'fats, animals, raw': 'palm oil',\n",
    "    'animal fats': 'palm oil',\n",
    "    'rice and products': 'rice',\n",
    "    'wheat and products': 'wheat',\n",
    "    'cereals - excluding beer': 'cereals n.e.c.',\n",
    "    'cassava and products': 'cassava, fresh',\n",
    "    'starchy roots': 'edible roots and tubers with high starch or inulin content, n.e.c., fresh',\n",
    "    'cereals, other': 'cereals n.e.c.',\n",
    "    'sorghum and products': 'sorghum',\n",
    "    'roots, other': 'edible roots and tubers with high starch or inulin content, n.e.c., fresh',\n",
    "    'sweet potatoes': 'sweet potatoes',\n",
    "    'potatoes and products': 'potatoes',\n",
    "    'sugar crops': 'other sugar crops n.e.c.',\n",
    "    'sugar cane': 'sugar cane',\n",
    "    'yams': 'yams',\n",
    "    'pulses': 'other pulses n.e.c.',\n",
    "    'sweeteners, other': 'natural honey',\n",
    "    'honey': 'natural honey',\n",
    "    'sugar & sweeteners': 'sugar cane',\n",
    "    'peas': 'peas, dry',\n",
    "    'beans': 'beans, dry',\n",
    "    'pulses, other and products': 'other pulses n.e.c.',\n",
    "    'oilcrops': 'oil palm fruit',\n",
    "    'treenuts': 'other nuts (excluding wild edible nuts and groundnuts), in shell, n.e.c.',\n",
    "    'nuts and products': 'other nuts (excluding wild edible nuts and groundnuts), in shell, n.e.c.',\n",
    "    'groundnuts': 'groundnuts, excluding shelled',\n",
    "    'soyabeans': 'soya beans',\n",
    "    'sunflower seed': 'sunflower seed',\n",
    "    'coconuts - incl copra': 'coconuts, in shell',\n",
    "    'cottonseed': 'cotton seed',\n",
    "    'rape and mustardseed': 'rape or colza seed',\n",
    "    'sesame seed': 'sesame seed',\n",
    "    'oilcrops, other': 'other oil seeds, n.e.c.',\n",
    "    'palm kernels': 'palm kernels',\n",
    "    'vegetables': 'other vegetables, fresh n.e.c.',\n",
    "    'palmkernel oil': 'palm kernels',\n",
    "    'vegetable oils': 'oil palm fruit',\n",
    "    'bananas': 'bananas',\n",
    "    'onions': 'onions and shallots, dry (excluding dehydrated)',\n",
    "    'fruits - excluding wine': 'other fruits, n.e.c.',\n",
    "    'tomatoes and products': 'tomatoes',\n",
    "    'grapefruit and products': 'pomelos and grapefruits',\n",
    "    'vegetables, other': 'other vegetables, fresh n.e.c.',\n",
    "    'lemons, limes and products': 'lemons and limes',\n",
    "    'oranges, mandarines': 'oranges',\n",
    "    'palm oil': 'palm oil',\n",
    "    'pineapples and products': 'pineapples',\n",
    "    'stimulants': 'other stimulant, spice and aromatic crops, n.e.c.',\n",
    "    'plantains': 'plantains',\n",
    "    'apples and products': 'apples',\n",
    "    'fruits, other': 'other fruits, n.e.c.',\n",
    "    'citrus, other': 'other citrus fruit, n.e.c.',\n",
    "    'grapes and products (excl wine)': 'grapes',\n",
    "    'coffee and products': 'coffee, green',\n",
    "    'dates': 'dates',\n",
    "    'spices': 'other stimulant, spice and aromatic crops, n.e.c.',\n",
    "    'tea (including mate)': 'tea leaves',\n",
    "    'spices, other': 'other stimulant, spice and aromatic crops, n.e.c.',\n",
    "    'pimento': 'chillies and peppers, green (capsicum spp. and pimenta spp.)',\n",
    "    'cocoa beans and products': 'cocoa beans',\n",
    "    'pepper': 'pepper (piper spp.), raw',\n",
    "    'cloves': 'cloves (whole stems), raw',\n",
    "    'offals, edible': 'other meat of mammals, fresh or chilled',\n",
    "    'offals': 'other meat of mammals, fresh or chilled',\n",
    "    'meat': 'meat of chickens, fresh or chilled',\n",
    "    'poultry meat': 'meat of chickens, fresh or chilled',\n",
    "    'pigmeat': 'meat of pig with the bone, fresh or chilled',\n",
    "    'millet and products': 'millet',\n",
    "    'maize and products': 'maize (corn)',\n",
    "    'barley and products': 'barley'\n",
    "}\n",
    "\n",
    "# Standardize and map items in loss_volume\n",
    "loss_volume['Item_std'] = loss_volume['Item'].str.strip().str.lower()\n",
    "loss_volume['Item_mapped'] = loss_volume['Item_std'].map(item_mapping)\n",
    "\n",
    "# Only keep rows with a mapped item\n",
    "loss_volume_mapped = loss_volume[loss_volume['Item_mapped'].notnull()].copy()\n",
    "\n",
    "# Standardize producer_prices item names\n",
    "producer_prices['Item_std'] = producer_prices['Item'].str.strip().str.lower()\n",
    "\n",
    "# Hybrid approach: Fill missing prices with ASEAN and global averages for each item\n",
    "# Calculate ASEAN average price for each item (excluding the country in question)\n",
    "asean_avg_prices = (\n",
    "    producer_prices.groupby('Item_std')['Price (USD/tonne)']\n",
    "    .mean()\n",
    "    .rename('ASEAN_Avg_Price')\n",
    "    .reset_index()\n",
    ")\n",
    "\n",
    "# Calculate global average price for each item (from all available data)\n",
    "global_prices = fao_prices[\n",
    "    (fao_prices['Element'] == 'Producer Price (USD/tonne)')\n",
    "].copy()\n",
    "global_prices['Item_std'] = global_prices['Item'].str.strip().str.lower()\n",
    "global_avg_prices = (\n",
    "    global_prices.groupby('Item_std')['Value']\n",
    "    .mean()\n",
    "    .rename('Global_Avg_Price')\n",
    "    .reset_index()\n",
    ")\n",
    "\n",
    "# Merge ASEAN and global averages into loss_volume_mapped\n",
    "loss_volume_mapped = loss_volume_mapped.merge(\n",
    "    asean_avg_prices, left_on='Item_mapped', right_on='Item_std', how='left', suffixes=('', '_ASEAN')\n",
    ")\n",
    "loss_volume_mapped = loss_volume_mapped.merge(\n",
    "    global_avg_prices, left_on='Item_mapped', right_on='Item_std', how='left', suffixes=('', '_GLOBAL')\n",
    ")\n",
    "\n",
    "# Merge with producer_prices to get country-specific price if available\n",
    "merged = pd.merge(\n",
    "    loss_volume_mapped, producer_prices,\n",
    "    left_on=['Area', 'Item_mapped'],\n",
    "    right_on=['Area', 'Item_std'],\n",
    "    how='left',\n",
    "    suffixes=('', '_country')\n",
    ")\n",
    "\n",
    "# Choose price: country > ASEAN > global\n",
    "def choose_price(row):\n",
    "    if pd.notnull(row['Price (USD/tonne)']):\n",
    "        return row['Price (USD/tonne)']\n",
    "    elif pd.notnull(row['ASEAN_Avg_Price']):\n",
    "        return row['ASEAN_Avg_Price']\n",
    "    else:\n",
    "        return row['Global_Avg_Price']\n",
    "\n",
    "merged['Final_Price'] = merged.apply(choose_price, axis=1)\n",
    "merged = merged[merged['Final_Price'].notnull()].copy()\n",
    "\n",
    "merged['Financial Loss (USD)'] = merged['Losses (tonnes)'] * merged['Final_Price']\n",
    "\n",
    "financial_loss_df_detailed = merged.rename(columns={'Area': 'Country'})\n",
    "financial_loss_df_detailed = financial_loss_df_detailed.sort_values('Financial Loss (USD)', ascending=False)\n",
    "\n",
    "print(\"--- Comprehensive Financial Loss Data (Hybrid Price Filling) ---\")\n",
    "financial_loss_df_detailed[['Country', 'Item', 'Loss Year', 'Final_Price', 'Losses (tonnes)', 'Financial Loss (USD)']]"
   ]
  },
  {
   "cell_type": "code",
   "execution_count": 155,
   "id": "59a5304d",
   "metadata": {},
   "outputs": [
    {
     "name": "stdout",
     "output_type": "stream",
     "text": [
      "--- Total Financial Loss by Country (USD) ---\n",
      "                            Country Financial Loss (USD)\n",
      "1                         Indonesia           28,406,356\n",
      "7                          Viet Nam           13,017,506\n",
      "6                          Thailand            7,635,116\n",
      "4                           Myanmar            5,893,984\n",
      "5                       Philippines            3,290,868\n",
      "0                          Cambodia            2,121,899\n",
      "3                          Malaysia            1,762,320\n",
      "2  Lao People's Democratic Republic            1,651,359\n",
      "\n",
      "--- Total Financial Loss for ASEAN (USD): 63,779,409 ---\n"
     ]
    }
   ],
   "source": [
    "# Summarize Financial Losses with formatted output\n",
    "financial_loss_by_country = financial_loss_df_detailed.groupby('Country')['Financial Loss (USD)'].sum().reset_index()\n",
    "financial_loss_by_country = financial_loss_by_country.sort_values('Financial Loss (USD)', ascending=False)\n",
    "\n",
    "# Format the numbers with commas and no scientific notation\n",
    "financial_loss_by_country['Financial Loss (USD)'] = financial_loss_by_country['Financial Loss (USD)'].apply(lambda x: f\"{x:,.0f}\")\n",
    "total_financial_loss_asean = financial_loss_df_detailed['Financial Loss (USD)'].sum()\n",
    "\n",
    "print(\"--- Total Financial Loss by Country (USD) ---\")\n",
    "print(financial_loss_by_country)\n",
    "print(f\"\\n--- Total Financial Loss for ASEAN (USD): {total_financial_loss_asean:,.0f} ---\")"
   ]
  },
  {
   "cell_type": "markdown",
   "id": "d2ee5d77",
   "metadata": {},
   "source": [
    "### Archived\n",
    "> **Note:**  \n",
    "The code below was previously used to debug unwanted output during financial loss calculation. It is no longer needed, as the desired output has been achieved."
   ]
  },
  {
   "cell_type": "code",
   "execution_count": 152,
   "id": "fd4a070f",
   "metadata": {},
   "outputs": [
    {
     "name": "stdout",
     "output_type": "stream",
     "text": [
      "(387, 6)\n",
      "(387, 16)\n"
     ]
    }
   ],
   "source": [
    "print(loss_volume.shape)\n",
    "print(financial_loss_df_detailed.shape)"
   ]
  },
  {
   "cell_type": "code",
   "execution_count": 148,
   "id": "4ad629fd",
   "metadata": {},
   "outputs": [
    {
     "name": "stdout",
     "output_type": "stream",
     "text": [
      "Rows in loss_volume: 387\n",
      "Rows in loss_volume_mapped: 387\n",
      "Rows in financial_loss_df_detailed: 387\n"
     ]
    }
   ],
   "source": [
    "# Diagnostic: Check for loss_volume rows that are dropped after mapping and merging\n",
    "print(f\"Rows in loss_volume: {len(loss_volume)}\")\n",
    "print(f\"Rows in loss_volume_mapped: {len(loss_volume_mapped)}\")\n",
    "print(f\"Rows in financial_loss_df_detailed: {len(financial_loss_df_detailed)}\")"
   ]
  },
  {
   "cell_type": "code",
   "execution_count": 149,
   "id": "525f28cd",
   "metadata": {},
   "outputs": [
    {
     "name": "stdout",
     "output_type": "stream",
     "text": [
      "Items in loss_volume that are NOT present in item_mapping:\n",
      "[]\n",
      "Count: 0\n",
      "\n",
      "Mapped values NOT present in price data (global_avg_prices['Item_std']):\n",
      "[]\n",
      "Count: 0\n"
     ]
    }
   ],
   "source": [
    "# Diagnostic: Show which standardized item names from loss_volume are not present in the mapping dictionary\n",
    "unmapped_items = set(loss_volume['Item_std'].unique()) - set(item_mapping.keys())\n",
    "print(\"Items in loss_volume that are NOT present in item_mapping:\")\n",
    "print(sorted(unmapped_items))\n",
    "print(f\"Count: {len(unmapped_items)}\")\n",
    "\n",
    "# Diagnostic: Show which mapped values are not present in the price data (global_avg_prices['Item_std'])\n",
    "mapped_values = set(item_mapping.values())\n",
    "price_items = set(global_avg_prices['Item_std'].unique())\n",
    "not_in_price = mapped_values - price_items\n",
    "print(\"\\nMapped values NOT present in price data (global_avg_prices['Item_std']):\")\n",
    "print(sorted(not_in_price))\n",
    "print(f\"Count: {len(not_in_price)}\")"
   ]
  },
  {
   "cell_type": "code",
   "execution_count": 150,
   "id": "00c0cf3c",
   "metadata": {},
   "outputs": [
    {
     "name": "stdout",
     "output_type": "stream",
     "text": [
      "No not_in_price items found in fao_prices with other elements.\n"
     ]
    }
   ],
   "source": [
    "# For each item in not_in_price, check if it exists in fao_prices['Item'] with any other element (not 'Producer Price (USD/tonne)')\n",
    "not_in_price_items = list(not_in_price)\n",
    "other_element_rows = []\n",
    "\n",
    "for item in not_in_price_items:\n",
    "    # Find all rows in fao_prices where Item_std matches and Element is NOT 'Producer Price (USD/tonne)'\n",
    "    mask = (\n",
    "        (fao_prices['Item'].str.strip().str.lower() == item)\n",
    "        & (fao_prices['Element'] != 'Producer Price (USD/tonne)')\n",
    "    )\n",
    "    matches = fao_prices[mask]\n",
    "    if not matches.empty:\n",
    "        other_element_rows.append((item, matches['Element'].unique().tolist()))\n",
    "\n",
    "# Print the results\n",
    "for item, elements in other_element_rows:\n",
    "    print(f\"Item '{item}' found in fao_prices with elements (not Producer Price): {elements}\")\n",
    "\n",
    "if not other_element_rows:\n",
    "    print(\"No not_in_price items found in fao_prices with other elements.\")"
   ]
  },
  {
   "cell_type": "markdown",
   "id": "36e2e255",
   "metadata": {},
   "source": [
    "## Estimated Social Impact of Redistributing Edible Food Waste"
   ]
  },
  {
   "cell_type": "markdown",
   "id": "f84d63b0",
   "metadata": {},
   "source": [
    "### Household Waste Only"
   ]
  },
  {
   "cell_type": "code",
   "execution_count": 185,
   "id": "1fbb6e64",
   "metadata": {},
   "outputs": [
    {
     "name": "stdout",
     "output_type": "stream",
     "text": [
      "--- Estimated Social Impact of Redistributing Edible Food Waste ---\n"
     ]
    },
    {
     "data": {
      "application/vnd.microsoft.datawrangler.viewer.v0+json": {
       "columns": [
        {
         "name": "index",
         "rawType": "int64",
         "type": "integer"
        },
        {
         "name": "Country",
         "rawType": "object",
         "type": "string"
        },
        {
         "name": "People Fed Annually (from waste)",
         "rawType": "object",
         "type": "string"
        },
        {
         "name": "Food Insecure Population",
         "rawType": "object",
         "type": "string"
        },
        {
         "name": "Insecure Population Coverage (%)",
         "rawType": "object",
         "type": "string"
        }
       ],
       "ref": "4b85d693-ad1f-42bd-8222-05b068ff3563",
       "rows": [
        [
         "0",
         "Indonesia",
         "12,610,125",
         "15,000,000",
         "84.07%"
        ],
        [
         "1",
         "Viet Nam",
         "6,085,308",
         "12,100,000",
         "50.29%"
        ],
        [
         "2",
         "Thailand",
         "5,033,738",
         "4,800,000",
         "104.87%"
        ],
        [
         "3",
         "Myanmar",
         "3,600,710",
         "20,000,000",
         "18.00%"
        ],
        [
         "4",
         "Philippines",
         "2,593,181",
         "52,700,000",
         "4.92%"
        ],
        [
         "5",
         "Malaysia",
         "2,288,528",
         "4,800,000",
         "47.68%"
        ],
        [
         "6",
         "Cambodia",
         "1,222,437",
         "9,000,000",
         "13.58%"
        ],
        [
         "7",
         "Lao People's Democratic Republic",
         "567,131",
         "2,900,000",
         "19.56%"
        ],
        [
         "8",
         "Singapore",
         "329,423",
         "500,000",
         "65.88%"
        ],
        [
         "9",
         "Brunei Darussalam",
         "28,048",
         "nan",
         "nan%"
        ]
       ],
       "shape": {
        "columns": 4,
        "rows": 10
       }
      },
      "text/html": [
       "<div>\n",
       "<style scoped>\n",
       "    .dataframe tbody tr th:only-of-type {\n",
       "        vertical-align: middle;\n",
       "    }\n",
       "\n",
       "    .dataframe tbody tr th {\n",
       "        vertical-align: top;\n",
       "    }\n",
       "\n",
       "    .dataframe thead th {\n",
       "        text-align: right;\n",
       "    }\n",
       "</style>\n",
       "<table border=\"1\" class=\"dataframe\">\n",
       "  <thead>\n",
       "    <tr style=\"text-align: right;\">\n",
       "      <th></th>\n",
       "      <th>Country</th>\n",
       "      <th>People Fed Annually (from waste)</th>\n",
       "      <th>Food Insecure Population</th>\n",
       "      <th>Insecure Population Coverage (%)</th>\n",
       "    </tr>\n",
       "  </thead>\n",
       "  <tbody>\n",
       "    <tr>\n",
       "      <th>0</th>\n",
       "      <td>Indonesia</td>\n",
       "      <td>12,610,125</td>\n",
       "      <td>15,000,000</td>\n",
       "      <td>84.07%</td>\n",
       "    </tr>\n",
       "    <tr>\n",
       "      <th>1</th>\n",
       "      <td>Viet Nam</td>\n",
       "      <td>6,085,308</td>\n",
       "      <td>12,100,000</td>\n",
       "      <td>50.29%</td>\n",
       "    </tr>\n",
       "    <tr>\n",
       "      <th>2</th>\n",
       "      <td>Thailand</td>\n",
       "      <td>5,033,738</td>\n",
       "      <td>4,800,000</td>\n",
       "      <td>104.87%</td>\n",
       "    </tr>\n",
       "    <tr>\n",
       "      <th>3</th>\n",
       "      <td>Myanmar</td>\n",
       "      <td>3,600,710</td>\n",
       "      <td>20,000,000</td>\n",
       "      <td>18.00%</td>\n",
       "    </tr>\n",
       "    <tr>\n",
       "      <th>4</th>\n",
       "      <td>Philippines</td>\n",
       "      <td>2,593,181</td>\n",
       "      <td>52,700,000</td>\n",
       "      <td>4.92%</td>\n",
       "    </tr>\n",
       "    <tr>\n",
       "      <th>5</th>\n",
       "      <td>Malaysia</td>\n",
       "      <td>2,288,528</td>\n",
       "      <td>4,800,000</td>\n",
       "      <td>47.68%</td>\n",
       "    </tr>\n",
       "    <tr>\n",
       "      <th>6</th>\n",
       "      <td>Cambodia</td>\n",
       "      <td>1,222,437</td>\n",
       "      <td>9,000,000</td>\n",
       "      <td>13.58%</td>\n",
       "    </tr>\n",
       "    <tr>\n",
       "      <th>7</th>\n",
       "      <td>Lao People's Democratic Republic</td>\n",
       "      <td>567,131</td>\n",
       "      <td>2,900,000</td>\n",
       "      <td>19.56%</td>\n",
       "    </tr>\n",
       "    <tr>\n",
       "      <th>8</th>\n",
       "      <td>Singapore</td>\n",
       "      <td>329,423</td>\n",
       "      <td>500,000</td>\n",
       "      <td>65.88%</td>\n",
       "    </tr>\n",
       "    <tr>\n",
       "      <th>9</th>\n",
       "      <td>Brunei Darussalam</td>\n",
       "      <td>28,048</td>\n",
       "      <td>nan</td>\n",
       "      <td>nan%</td>\n",
       "    </tr>\n",
       "  </tbody>\n",
       "</table>\n",
       "</div>"
      ],
      "text/plain": [
       "                            Country People Fed Annually (from waste)  \\\n",
       "0                         Indonesia                       12,610,125   \n",
       "1                          Viet Nam                        6,085,308   \n",
       "2                          Thailand                        5,033,738   \n",
       "3                           Myanmar                        3,600,710   \n",
       "4                       Philippines                        2,593,181   \n",
       "5                          Malaysia                        2,288,528   \n",
       "6                          Cambodia                        1,222,437   \n",
       "7  Lao People's Democratic Republic                          567,131   \n",
       "8                         Singapore                          329,423   \n",
       "9                 Brunei Darussalam                           28,048   \n",
       "\n",
       "  Food Insecure Population Insecure Population Coverage (%)  \n",
       "0               15,000,000                           84.07%  \n",
       "1               12,100,000                           50.29%  \n",
       "2                4,800,000                          104.87%  \n",
       "3               20,000,000                           18.00%  \n",
       "4               52,700,000                            4.92%  \n",
       "5                4,800,000                           47.68%  \n",
       "6                9,000,000                           13.58%  \n",
       "7                2,900,000                           19.56%  \n",
       "8                  500,000                           65.88%  \n",
       "9                      nan                             nan%  "
      ]
     },
     "execution_count": 185,
     "metadata": {},
     "output_type": "execute_result"
    }
   ],
   "source": [
    "# Assumptions for estimation\n",
    "\n",
    "# ASEAN average from Indonesia, Malaysia, Thailand studies (edible fraction, kcal/kg)\n",
    "EDIBLE_WASTE_PERCENTAGE = 0.38  # Edible portion of household waste\n",
    "KCAL_PER_KG_WASTE = 1477        # Caloric value per kg edible waste\n",
    "\n",
    "asean_countries = [\n",
    "    'Brunei Darussalam', 'Cambodia', 'Indonesia', 'Lao People\\'s Democratic Republic',\n",
    "    'Malaysia', 'Myanmar', 'Philippines', 'Singapore', 'Thailand', 'Viet Nam'\n",
    "]\n",
    "\n",
    "# Load household waste data\n",
    "household_waste = f_waste[f_waste['Country'].isin(asean_countries)][['Country', 'Household estimate (tonnes/year)']].copy()\n",
    "household_waste['Household estimate (tonnes/year)'] = household_waste['Household estimate (tonnes/year)'].astype(float)\n",
    "\n",
    "# Latest daily energy requirement per country\n",
    "daily_req = fao_fs[\n",
    "    (fao_fs['Area'].isin(asean_countries)) &\n",
    "    (fao_fs['Item'] == 'Minimum dietary energy requirement  (kcal/cap/day)')\n",
    "].sort_values('Year').drop_duplicates('Area', keep='last')\n",
    "daily_req['Value'] = daily_req['Value'].astype(float)\n",
    "daily_req = daily_req[['Area', 'Value']].rename(columns={'Value': 'Daily Caloric Requirement (kcal)'})\n",
    "\n",
    "# Latest food insecure population per country\n",
    "insecure_pop = fao_fs[\n",
    "    (fao_fs['Area'].isin(asean_countries)) &\n",
    "    (fao_fs['Item'] == 'Number of moderately or severely food insecure people (million) (3-year average)')\n",
    "].sort_values('Year').drop_duplicates('Area', keep='last')\n",
    "insecure_pop['Value'] = insecure_pop['Value'].astype(float) * 1_000_000\n",
    "insecure_pop = insecure_pop[['Area', 'Value']].rename(columns={'Value': 'Food Insecure Population'})\n",
    "\n",
    "# Calculate potential people fed from edible food waste\n",
    "social_impact_df = pd.merge(household_waste, daily_req, left_on='Country', right_on='Area')\n",
    "social_impact_df['Edible Waste (kg/yr)'] = social_impact_df['Household estimate (tonnes/year)'] * 1000 * EDIBLE_WASTE_PERCENTAGE\n",
    "social_impact_df['Total Wasted Calories (kcal/yr)'] = social_impact_df['Edible Waste (kg/yr)'] * KCAL_PER_KG_WASTE\n",
    "social_impact_df['Annual Caloric Requirement (kcal/yr)'] = social_impact_df['Daily Caloric Requirement (kcal)'] * 365\n",
    "social_impact_df['People Fed Annually (from waste)'] = (social_impact_df['Total Wasted Calories (kcal/yr)'] / social_impact_df['Annual Caloric Requirement (kcal/yr)']).round(0)\n",
    "\n",
    "# Merge with food insecure population for context\n",
    "social_impact_df = pd.merge(social_impact_df, insecure_pop, left_on='Country', right_on='Area', how='left')\n",
    "social_impact_df['Insecure Population Coverage (%)'] = (social_impact_df['People Fed Annually (from waste)'] / social_impact_df['Food Insecure Population']) * 100\n",
    "\n",
    "# Format output\n",
    "final_output = social_impact_df[[\n",
    "    'Country',\n",
    "    'People Fed Annually (from waste)',\n",
    "    'Food Insecure Population',\n",
    "    'Insecure Population Coverage (%)'\n",
    "]].sort_values('People Fed Annually (from waste)', ascending=False).reset_index(drop=True)\n",
    "\n",
    "final_output['People Fed Annually (from waste)'] = final_output['People Fed Annually (from waste)'].map('{:,.0f}'.format)\n",
    "final_output['Food Insecure Population'] = final_output['Food Insecure Population'].map('{:,.0f}'.format)\n",
    "final_output['Insecure Population Coverage (%)'] = final_output['Insecure Population Coverage (%)'].map('{:.2f}%'.format)\n",
    "\n",
    "print(\"--- Estimated Social Impact of Redistributing Edible Food Waste ---\")\n",
    "final_output"
   ]
  },
  {
   "cell_type": "markdown",
   "id": "b4401272",
   "metadata": {},
   "source": [
    "### Total Food Waste"
   ]
  },
  {
   "cell_type": "code",
   "execution_count": 216,
   "id": "4cf0b473",
   "metadata": {},
   "outputs": [
    {
     "name": "stdout",
     "output_type": "stream",
     "text": [
      "--- Estimated Social Impact of Redistributing Edible Food Waste ---\n"
     ]
    },
    {
     "data": {
      "application/vnd.microsoft.datawrangler.viewer.v0+json": {
       "columns": [
        {
         "name": "index",
         "rawType": "int64",
         "type": "integer"
        },
        {
         "name": "Country",
         "rawType": "object",
         "type": "string"
        },
        {
         "name": "People Fed Annually (from waste)",
         "rawType": "object",
         "type": "string"
        },
        {
         "name": "Food Insecure Population",
         "rawType": "object",
         "type": "string"
        },
        {
         "name": "Insecure Population Coverage (%)",
         "rawType": "object",
         "type": "string"
        }
       ],
       "ref": "d1b1c00e-4d69-4927-a63e-ac8c950a5159",
       "rows": [
        [
         "0",
         "Indonesia",
         "24,387,994",
         "15,000,000",
         "162.59%"
        ],
        [
         "1",
         "Viet Nam",
         "9,820,186",
         "12,100,000",
         "81.16%"
        ],
        [
         "2",
         "Thailand",
         "7,991,255",
         "4,800,000",
         "166.48%"
        ],
        [
         "3",
         "Philippines",
         "7,101,925",
         "52,700,000",
         "13.48%"
        ],
        [
         "4",
         "Myanmar",
         "6,626,214",
         "20,000,000",
         "33.13%"
        ],
        [
         "5",
         "Malaysia",
         "5,450,565",
         "4,800,000",
         "113.55%"
        ],
        [
         "6",
         "Cambodia",
         "1,875,186",
         "9,000,000",
         "20.84%"
        ],
        [
         "7",
         "Lao People's Democratic Republic",
         "1,031,197",
         "2,900,000",
         "35.56%"
        ],
        [
         "8",
         "Singapore",
         "563,249",
         "500,000",
         "112.65%"
        ],
        [
         "9",
         "Brunei Darussalam",
         "110,235",
         "nan",
         "nan%"
        ]
       ],
       "shape": {
        "columns": 4,
        "rows": 10
       }
      },
      "text/html": [
       "<div>\n",
       "<style scoped>\n",
       "    .dataframe tbody tr th:only-of-type {\n",
       "        vertical-align: middle;\n",
       "    }\n",
       "\n",
       "    .dataframe tbody tr th {\n",
       "        vertical-align: top;\n",
       "    }\n",
       "\n",
       "    .dataframe thead th {\n",
       "        text-align: right;\n",
       "    }\n",
       "</style>\n",
       "<table border=\"1\" class=\"dataframe\">\n",
       "  <thead>\n",
       "    <tr style=\"text-align: right;\">\n",
       "      <th></th>\n",
       "      <th>Country</th>\n",
       "      <th>People Fed Annually (from waste)</th>\n",
       "      <th>Food Insecure Population</th>\n",
       "      <th>Insecure Population Coverage (%)</th>\n",
       "    </tr>\n",
       "  </thead>\n",
       "  <tbody>\n",
       "    <tr>\n",
       "      <th>0</th>\n",
       "      <td>Indonesia</td>\n",
       "      <td>24,387,994</td>\n",
       "      <td>15,000,000</td>\n",
       "      <td>162.59%</td>\n",
       "    </tr>\n",
       "    <tr>\n",
       "      <th>1</th>\n",
       "      <td>Viet Nam</td>\n",
       "      <td>9,820,186</td>\n",
       "      <td>12,100,000</td>\n",
       "      <td>81.16%</td>\n",
       "    </tr>\n",
       "    <tr>\n",
       "      <th>2</th>\n",
       "      <td>Thailand</td>\n",
       "      <td>7,991,255</td>\n",
       "      <td>4,800,000</td>\n",
       "      <td>166.48%</td>\n",
       "    </tr>\n",
       "    <tr>\n",
       "      <th>3</th>\n",
       "      <td>Philippines</td>\n",
       "      <td>7,101,925</td>\n",
       "      <td>52,700,000</td>\n",
       "      <td>13.48%</td>\n",
       "    </tr>\n",
       "    <tr>\n",
       "      <th>4</th>\n",
       "      <td>Myanmar</td>\n",
       "      <td>6,626,214</td>\n",
       "      <td>20,000,000</td>\n",
       "      <td>33.13%</td>\n",
       "    </tr>\n",
       "    <tr>\n",
       "      <th>5</th>\n",
       "      <td>Malaysia</td>\n",
       "      <td>5,450,565</td>\n",
       "      <td>4,800,000</td>\n",
       "      <td>113.55%</td>\n",
       "    </tr>\n",
       "    <tr>\n",
       "      <th>6</th>\n",
       "      <td>Cambodia</td>\n",
       "      <td>1,875,186</td>\n",
       "      <td>9,000,000</td>\n",
       "      <td>20.84%</td>\n",
       "    </tr>\n",
       "    <tr>\n",
       "      <th>7</th>\n",
       "      <td>Lao People's Democratic Republic</td>\n",
       "      <td>1,031,197</td>\n",
       "      <td>2,900,000</td>\n",
       "      <td>35.56%</td>\n",
       "    </tr>\n",
       "    <tr>\n",
       "      <th>8</th>\n",
       "      <td>Singapore</td>\n",
       "      <td>563,249</td>\n",
       "      <td>500,000</td>\n",
       "      <td>112.65%</td>\n",
       "    </tr>\n",
       "    <tr>\n",
       "      <th>9</th>\n",
       "      <td>Brunei Darussalam</td>\n",
       "      <td>110,235</td>\n",
       "      <td>nan</td>\n",
       "      <td>nan%</td>\n",
       "    </tr>\n",
       "  </tbody>\n",
       "</table>\n",
       "</div>"
      ],
      "text/plain": [
       "                            Country People Fed Annually (from waste)  \\\n",
       "0                         Indonesia                       24,387,994   \n",
       "1                          Viet Nam                        9,820,186   \n",
       "2                          Thailand                        7,991,255   \n",
       "3                       Philippines                        7,101,925   \n",
       "4                           Myanmar                        6,626,214   \n",
       "5                          Malaysia                        5,450,565   \n",
       "6                          Cambodia                        1,875,186   \n",
       "7  Lao People's Democratic Republic                        1,031,197   \n",
       "8                         Singapore                          563,249   \n",
       "9                 Brunei Darussalam                          110,235   \n",
       "\n",
       "  Food Insecure Population Insecure Population Coverage (%)  \n",
       "0               15,000,000                          162.59%  \n",
       "1               12,100,000                           81.16%  \n",
       "2                4,800,000                          166.48%  \n",
       "3               52,700,000                           13.48%  \n",
       "4               20,000,000                           33.13%  \n",
       "5                4,800,000                          113.55%  \n",
       "6                9,000,000                           20.84%  \n",
       "7                2,900,000                           35.56%  \n",
       "8                  500,000                          112.65%  \n",
       "9                      nan                             nan%  "
      ]
     },
     "execution_count": 216,
     "metadata": {},
     "output_type": "execute_result"
    }
   ],
   "source": [
    "# Assumptions for estimation\n",
    "\n",
    "# ASEAN average from Indonesia, Malaysia, Thailand studies (edible fraction, kcal/kg)\n",
    "EDIBLE_WASTE_PERCENTAGE = 0.38  # Edible portion of household waste\n",
    "KCAL_PER_KG_WASTE = 1477        # Caloric value per kg edible waste\n",
    "\n",
    "asean_countries = [\n",
    "    'Brunei Darussalam', 'Cambodia', 'Indonesia', 'Lao People\\'s Democratic Republic',\n",
    "    'Malaysia', 'Myanmar', 'Philippines', 'Singapore', 'Thailand', 'Viet Nam'\n",
    "]\n",
    "\n",
    "# Load total food waste data (household + retail + food service)\n",
    "waste_cols = [\n",
    "    'Household estimate (tonnes/year)',\n",
    "    'Retail estimate (tonnes/year)',\n",
    "    'Food service estimate (tonnes/year)'\n",
    "]\n",
    "total_waste = f_waste[f_waste['Country'].isin(asean_countries)][['Country'] + waste_cols].copy()\n",
    "total_waste = total_waste.replace('-', pd.NA).infer_objects(copy=False)\n",
    "for col in waste_cols:\n",
    "    total_waste[col] = total_waste[col].astype('Int64')\n",
    "\n",
    "# Impute missing Food service estimate (tonnes/year) using average ratio to (household + retail)\n",
    "cols = [\n",
    "    'Household estimate (tonnes/year)',\n",
    "    'Retail estimate (tonnes/year)',\n",
    "    'Food service estimate (tonnes/year)'\n",
    "]\n",
    "total_waste[cols] = total_waste[cols].apply(pd.to_numeric, errors='coerce')\n",
    "mask = total_waste[cols].notna().all(axis=1)\n",
    "avg_ratio = (\n",
    "    total_waste.loc[mask, 'Food service estimate (tonnes/year)'] /\n",
    "    (total_waste.loc[mask, 'Household estimate (tonnes/year)'] + total_waste.loc[mask, 'Retail estimate (tonnes/year)'])\n",
    ").mean()\n",
    "missing = total_waste['Food service estimate (tonnes/year)'].isna()\n",
    "sum_hr = total_waste.loc[missing, 'Household estimate (tonnes/year)'] + total_waste.loc[missing, 'Retail estimate (tonnes/year)']\n",
    "total_waste.loc[missing, 'Food service estimate (tonnes/year)'] = (sum_hr * avg_ratio).round().astype('Int64')\n",
    "\n",
    "total_waste['Total Food Waste (tonnes/year)'] = total_waste[waste_cols].sum(axis=1)\n",
    "\n",
    "# Latest daily energy requirement per country\n",
    "daily_req = fao_fs[\n",
    "    (fao_fs['Area'].isin(asean_countries)) &\n",
    "    (fao_fs['Item'] == 'Minimum dietary energy requirement  (kcal/cap/day)')\n",
    "].sort_values('Year').drop_duplicates('Area', keep='last')\n",
    "daily_req['Value'] = daily_req['Value'].astype(float)\n",
    "daily_req = daily_req[['Area', 'Value']].rename(columns={'Value': 'Daily Caloric Requirement (kcal)'})\n",
    "\n",
    "# Latest food insecure population per country\n",
    "insecure_pop = fao_fs[\n",
    "    (fao_fs['Area'].isin(asean_countries)) &\n",
    "    (fao_fs['Item'] == 'Number of moderately or severely food insecure people (million) (3-year average)')\n",
    "].sort_values('Year').drop_duplicates('Area', keep='last')\n",
    "insecure_pop['Value'] = insecure_pop['Value'].astype(float) * 1_000_000\n",
    "insecure_pop = insecure_pop[['Area', 'Value']].rename(columns={'Value': 'Food Insecure Population'})\n",
    "\n",
    "# Calculate potential people fed from edible food waste (using total waste)\n",
    "social_impact_df = pd.merge(total_waste, daily_req, left_on='Country', right_on='Area')\n",
    "social_impact_df['Edible Waste (kg/yr)'] = social_impact_df['Total Food Waste (tonnes/year)'] * 1000 * EDIBLE_WASTE_PERCENTAGE\n",
    "social_impact_df['Total Wasted Calories (kcal/yr)'] = social_impact_df['Edible Waste (kg/yr)'] * KCAL_PER_KG_WASTE\n",
    "social_impact_df['Annual Caloric Requirement (kcal/yr)'] = social_impact_df['Daily Caloric Requirement (kcal)'] * 365\n",
    "social_impact_df['People Fed Annually (from waste)'] = (social_impact_df['Total Wasted Calories (kcal/yr)'] / social_impact_df['Annual Caloric Requirement (kcal/yr)']).round(0)\n",
    "\n",
    "# Merge with food insecure population for context\n",
    "social_impact_df = pd.merge(social_impact_df, insecure_pop, left_on='Country', right_on='Area', how='left')\n",
    "social_impact_df['Insecure Population Coverage (%)'] = (social_impact_df['People Fed Annually (from waste)'] / social_impact_df['Food Insecure Population']) * 100\n",
    "\n",
    "# Format output\n",
    "final_output = social_impact_df[[\n",
    "    'Country',\n",
    "    'People Fed Annually (from waste)',\n",
    "    'Food Insecure Population',\n",
    "    'Insecure Population Coverage (%)'\n",
    "]].sort_values('People Fed Annually (from waste)', ascending=False).reset_index(drop=True)\n",
    "\n",
    "final_output_sep = final_output.copy()\n",
    "final_output_sep['People Fed Annually (from waste)'] = final_output['People Fed Annually (from waste)'].map('{:,.0f}'.format)\n",
    "final_output_sep['Food Insecure Population'] = final_output['Food Insecure Population'].map('{:,.0f}'.format)\n",
    "final_output_sep['Insecure Population Coverage (%)'] = final_output['Insecure Population Coverage (%)'].map('{:.2f}%'.format)\n",
    "\n",
    "print(\"--- Estimated Social Impact of Redistributing Edible Food Waste ---\")\n",
    "final_output_sep"
   ]
  },
  {
   "cell_type": "markdown",
   "id": "a94c64e7",
   "metadata": {},
   "source": [
    "## Estimated Environmental Impact of Food Loss and Waste"
   ]
  },
  {
   "cell_type": "markdown",
   "id": "4ad4c921",
   "metadata": {},
   "source": [
    "### Method: Using GHG Emissions Factors of food loss/waste"
   ]
  },
  {
   "cell_type": "code",
   "execution_count": 272,
   "id": "ea2552f4",
   "metadata": {},
   "outputs": [
    {
     "name": "stdout",
     "output_type": "stream",
     "text": [
      "--- Estimated Environmental Impact of Food Loss and Waste ---\n"
     ]
    },
    {
     "data": {
      "application/vnd.microsoft.datawrangler.viewer.v0+json": {
       "columns": [
        {
         "name": "index",
         "rawType": "int64",
         "type": "integer"
        },
        {
         "name": "Country",
         "rawType": "object",
         "type": "string"
        },
        {
         "name": "Total Food Loss (tonnes)",
         "rawType": "object",
         "type": "string"
        },
        {
         "name": "Total Food Waste (tonnes)",
         "rawType": "object",
         "type": "string"
        },
        {
         "name": "Total Loss and Waste (tonnes)",
         "rawType": "object",
         "type": "string"
        },
        {
         "name": "Estimated GHG Emissions (tonnes CO2eq)",
         "rawType": "object",
         "type": "string"
        }
       ],
       "ref": "237d6480-5174-412e-83d2-25fe7a6d6c50",
       "rows": [
        [
         "0",
         "Indonesia",
         "91,127",
         "14,728,364",
         "14,819,491",
         "37,048,728"
        ],
        [
         "1",
         "Viet Nam",
         "17,835",
         "7,079,811",
         "7,097,646",
         "17,744,115"
        ],
        [
         "2",
         "Thailand",
         "13,955",
         "6,180,468",
         "6,194,423",
         "15,486,058"
        ],
        [
         "3",
         "Myanmar",
         "7,498",
         "4,221,946",
         "4,229,444",
         "10,573,610"
        ],
        [
         "4",
         "Philippines",
         "7,013",
         "2,954,580",
         "2,961,593",
         "7,403,982"
        ],
        [
         "5",
         "Malaysia",
         "4,151",
         "2,754,808",
         "2,758,959",
         "6,897,398"
        ],
        [
         "6",
         "Cambodia",
         "3,159",
         "1,419,831",
         "1,422,990",
         "3,557,475"
        ],
        [
         "7",
         "Lao People's Democratic Republic",
         "2,451",
         "673,831",
         "676,282",
         "1,690,705"
        ],
        [
         "8",
         "Singapore",
         "0",
         "409,182",
         "409,182",
         "1,022,955"
        ],
        [
         "9",
         "Brunei Darussalam",
         "0",
         "34,109",
         "34,109",
         "85,272"
        ]
       ],
       "shape": {
        "columns": 5,
        "rows": 10
       }
      },
      "text/html": [
       "<div>\n",
       "<style scoped>\n",
       "    .dataframe tbody tr th:only-of-type {\n",
       "        vertical-align: middle;\n",
       "    }\n",
       "\n",
       "    .dataframe tbody tr th {\n",
       "        vertical-align: top;\n",
       "    }\n",
       "\n",
       "    .dataframe thead th {\n",
       "        text-align: right;\n",
       "    }\n",
       "</style>\n",
       "<table border=\"1\" class=\"dataframe\">\n",
       "  <thead>\n",
       "    <tr style=\"text-align: right;\">\n",
       "      <th></th>\n",
       "      <th>Country</th>\n",
       "      <th>Total Food Loss (tonnes)</th>\n",
       "      <th>Total Food Waste (tonnes)</th>\n",
       "      <th>Total Loss and Waste (tonnes)</th>\n",
       "      <th>Estimated GHG Emissions (tonnes CO2eq)</th>\n",
       "    </tr>\n",
       "  </thead>\n",
       "  <tbody>\n",
       "    <tr>\n",
       "      <th>0</th>\n",
       "      <td>Indonesia</td>\n",
       "      <td>91,127</td>\n",
       "      <td>14,728,364</td>\n",
       "      <td>14,819,491</td>\n",
       "      <td>37,048,728</td>\n",
       "    </tr>\n",
       "    <tr>\n",
       "      <th>1</th>\n",
       "      <td>Viet Nam</td>\n",
       "      <td>17,835</td>\n",
       "      <td>7,079,811</td>\n",
       "      <td>7,097,646</td>\n",
       "      <td>17,744,115</td>\n",
       "    </tr>\n",
       "    <tr>\n",
       "      <th>2</th>\n",
       "      <td>Thailand</td>\n",
       "      <td>13,955</td>\n",
       "      <td>6,180,468</td>\n",
       "      <td>6,194,423</td>\n",
       "      <td>15,486,058</td>\n",
       "    </tr>\n",
       "    <tr>\n",
       "      <th>3</th>\n",
       "      <td>Myanmar</td>\n",
       "      <td>7,498</td>\n",
       "      <td>4,221,946</td>\n",
       "      <td>4,229,444</td>\n",
       "      <td>10,573,610</td>\n",
       "    </tr>\n",
       "    <tr>\n",
       "      <th>4</th>\n",
       "      <td>Philippines</td>\n",
       "      <td>7,013</td>\n",
       "      <td>2,954,580</td>\n",
       "      <td>2,961,593</td>\n",
       "      <td>7,403,982</td>\n",
       "    </tr>\n",
       "    <tr>\n",
       "      <th>5</th>\n",
       "      <td>Malaysia</td>\n",
       "      <td>4,151</td>\n",
       "      <td>2,754,808</td>\n",
       "      <td>2,758,959</td>\n",
       "      <td>6,897,398</td>\n",
       "    </tr>\n",
       "    <tr>\n",
       "      <th>6</th>\n",
       "      <td>Cambodia</td>\n",
       "      <td>3,159</td>\n",
       "      <td>1,419,831</td>\n",
       "      <td>1,422,990</td>\n",
       "      <td>3,557,475</td>\n",
       "    </tr>\n",
       "    <tr>\n",
       "      <th>7</th>\n",
       "      <td>Lao People's Democratic Republic</td>\n",
       "      <td>2,451</td>\n",
       "      <td>673,831</td>\n",
       "      <td>676,282</td>\n",
       "      <td>1,690,705</td>\n",
       "    </tr>\n",
       "    <tr>\n",
       "      <th>8</th>\n",
       "      <td>Singapore</td>\n",
       "      <td>0</td>\n",
       "      <td>409,182</td>\n",
       "      <td>409,182</td>\n",
       "      <td>1,022,955</td>\n",
       "    </tr>\n",
       "    <tr>\n",
       "      <th>9</th>\n",
       "      <td>Brunei Darussalam</td>\n",
       "      <td>0</td>\n",
       "      <td>34,109</td>\n",
       "      <td>34,109</td>\n",
       "      <td>85,272</td>\n",
       "    </tr>\n",
       "  </tbody>\n",
       "</table>\n",
       "</div>"
      ],
      "text/plain": [
       "                            Country Total Food Loss (tonnes)  \\\n",
       "0                         Indonesia                   91,127   \n",
       "1                          Viet Nam                   17,835   \n",
       "2                          Thailand                   13,955   \n",
       "3                           Myanmar                    7,498   \n",
       "4                       Philippines                    7,013   \n",
       "5                          Malaysia                    4,151   \n",
       "6                          Cambodia                    3,159   \n",
       "7  Lao People's Democratic Republic                    2,451   \n",
       "8                         Singapore                        0   \n",
       "9                 Brunei Darussalam                        0   \n",
       "\n",
       "  Total Food Waste (tonnes) Total Loss and Waste (tonnes)  \\\n",
       "0                14,728,364                    14,819,491   \n",
       "1                 7,079,811                     7,097,646   \n",
       "2                 6,180,468                     6,194,423   \n",
       "3                 4,221,946                     4,229,444   \n",
       "4                 2,954,580                     2,961,593   \n",
       "5                 2,754,808                     2,758,959   \n",
       "6                 1,419,831                     1,422,990   \n",
       "7                   673,831                       676,282   \n",
       "8                   409,182                       409,182   \n",
       "9                    34,109                        34,109   \n",
       "\n",
       "  Estimated GHG Emissions (tonnes CO2eq)  \n",
       "0                             37,048,728  \n",
       "1                             17,744,115  \n",
       "2                             15,486,058  \n",
       "3                             10,573,610  \n",
       "4                              7,403,982  \n",
       "5                              6,897,398  \n",
       "6                              3,557,475  \n",
       "7                              1,690,705  \n",
       "8                              1,022,955  \n",
       "9                                 85,272  "
      ]
     },
     "execution_count": 272,
     "metadata": {},
     "output_type": "execute_result"
    }
   ],
   "source": [
    "# Emission factor: 2.5 tonnes CO2eq per tonne of food loss/waste\n",
    "GHG_EMISSION_FACTOR = 2.5\n",
    "\n",
    "asean_countries = [\n",
    "    'Brunei Darussalam', 'Cambodia', 'Indonesia', 'Lao People\\'s Democratic Republic',\n",
    "    'Malaysia', 'Myanmar', 'Philippines', 'Singapore', 'Thailand', 'Viet Nam'\n",
    "]\n",
    "\n",
    "# Calculate total food loss per country (latest year per item)\n",
    "loss_volume = fao_fbs[\n",
    "    (fao_fbs['Area'].isin(asean_countries)) &\n",
    "    (fao_fbs['Element'] == 'Losses')\n",
    "].copy()\n",
    "latest_loss = loss_volume.sort_values('Year').drop_duplicates(['Area', 'Item'], keep='last')\n",
    "total_loss_per_country = latest_loss.groupby('Area')['Value'].sum().reset_index()\n",
    "total_loss_per_country = total_loss_per_country.rename(columns={\n",
    "    'Area': 'Country',\n",
    "    'Value': 'Total Food Loss (tonnes)'\n",
    "})\n",
    "\n",
    "# Get total household food waste per country\n",
    "household_waste = f_waste[f_waste['Country'].isin(asean_countries)][['Country', 'Household estimate (tonnes/year)']].copy()\n",
    "household_waste = household_waste.rename(columns={'Household estimate (tonnes/year)': 'Total Food Waste (tonnes)'})\n",
    "\n",
    "# Combine loss & waste, calculate GHG emissions\n",
    "environmental_impact_df = pd.merge(total_loss_per_country, household_waste, on='Country', how='outer').fillna(0)\n",
    "environmental_impact_df['Total Loss and Waste (tonnes)'] = (\n",
    "    environmental_impact_df['Total Food Loss (tonnes)'] + environmental_impact_df['Total Food Waste (tonnes)']\n",
    ")\n",
    "environmental_impact_df['Estimated GHG Emissions (tonnes CO2eq)'] = (\n",
    "    environmental_impact_df['Total Loss and Waste (tonnes)'] * GHG_EMISSION_FACTOR\n",
    ")\n",
    "\n",
    "# Format output\n",
    "environmental_impact_df_fmt = environmental_impact_df.copy()\n",
    "for col in [\n",
    "    'Total Food Loss (tonnes)', 'Total Food Waste (tonnes)',\n",
    "    'Total Loss and Waste (tonnes)', 'Estimated GHG Emissions (tonnes CO2eq)'\n",
    "]:\n",
    "    environmental_impact_df_fmt[col] = environmental_impact_df_fmt[col].map('{:,.0f}'.format)\n",
    "\n",
    "final_environmental_impact_df = (\n",
    "    environmental_impact_df_fmt\n",
    "    .sort_values(by='Total Loss and Waste (tonnes)', key=lambda x: x.str.replace(',', '').astype(float), ascending=False)\n",
    "    .reset_index(drop=True)\n",
    ")\n",
    "\n",
    "print(\"--- Estimated Environmental Impact of Food Loss and Waste ---\")\n",
    "final_environmental_impact_df"
   ]
  },
  {
   "cell_type": "markdown",
   "id": "76aab9e8",
   "metadata": {},
   "source": [
    "### Method: Using emissions per capita and population data (Waste Emissions)"
   ]
  },
  {
   "cell_type": "code",
   "execution_count": 271,
   "id": "1794f7c5",
   "metadata": {},
   "outputs": [
    {
     "name": "stdout",
     "output_type": "stream",
     "text": [
      "--- Estimated GHG Emissions from Waste (Per Capita Method, tonnes) ---\n"
     ]
    },
    {
     "data": {
      "application/vnd.microsoft.datawrangler.viewer.v0+json": {
       "columns": [
        {
         "name": "index",
         "rawType": "int64",
         "type": "integer"
        },
        {
         "name": "Country",
         "rawType": "object",
         "type": "string"
        },
        {
         "name": "Emission Data Year",
         "rawType": "int64",
         "type": "integer"
        },
        {
         "name": "Emissions per Capita (tonnes CO2eq)",
         "rawType": "float64",
         "type": "float"
        },
        {
         "name": "Population Year",
         "rawType": "int64",
         "type": "integer"
        },
        {
         "name": "Total Population",
         "rawType": "object",
         "type": "string"
        },
        {
         "name": "Total Emissions (tonnes CO2eq)",
         "rawType": "object",
         "type": "string"
        }
       ],
       "ref": "d061bfd7-413a-4d09-8d6d-91aacbc2d37a",
       "rows": [
        [
         "0",
         "Indonesia",
         "2022",
         "0.33",
         "2022",
         "278,830,529",
         "92,014,075"
        ],
        [
         "1",
         "Thailand",
         "2022",
         "0.44",
         "2022",
         "71,735,329",
         "31,563,545"
        ],
        [
         "2",
         "Viet Nam",
         "2022",
         "0.28",
         "2022",
         "99,680,655",
         "27,910,583"
        ],
        [
         "3",
         "Philippines",
         "2022",
         "0.21",
         "2022",
         "113,964,339",
         "23,932,511"
        ],
        [
         "4",
         "Malaysia",
         "2022",
         "0.5",
         "2022",
         "34,695,493",
         "17,347,746"
        ],
        [
         "5",
         "Myanmar",
         "2022",
         "0.2",
         "2022",
         "53,756,787",
         "10,751,357"
        ],
        [
         "6",
         "Singapore",
         "2022",
         "0.85",
         "2022",
         "5,649,885",
         "4,802,402"
        ],
        [
         "7",
         "Cambodia",
         "2022",
         "0.2",
         "2022",
         "17,201,724",
         "3,440,345"
        ],
        [
         "8",
         "Lao People's Democratic Republic",
         "2022",
         "0.22",
         "2022",
         "7,559,007",
         "1,662,982"
        ],
        [
         "9",
         "Brunei Darussalam",
         "2022",
         "0.35",
         "2022",
         "455,370",
         "159,380"
        ]
       ],
       "shape": {
        "columns": 6,
        "rows": 10
       }
      },
      "text/html": [
       "<div>\n",
       "<style scoped>\n",
       "    .dataframe tbody tr th:only-of-type {\n",
       "        vertical-align: middle;\n",
       "    }\n",
       "\n",
       "    .dataframe tbody tr th {\n",
       "        vertical-align: top;\n",
       "    }\n",
       "\n",
       "    .dataframe thead th {\n",
       "        text-align: right;\n",
       "    }\n",
       "</style>\n",
       "<table border=\"1\" class=\"dataframe\">\n",
       "  <thead>\n",
       "    <tr style=\"text-align: right;\">\n",
       "      <th></th>\n",
       "      <th>Country</th>\n",
       "      <th>Emission Data Year</th>\n",
       "      <th>Emissions per Capita (tonnes CO2eq)</th>\n",
       "      <th>Population Year</th>\n",
       "      <th>Total Population</th>\n",
       "      <th>Total Emissions (tonnes CO2eq)</th>\n",
       "    </tr>\n",
       "  </thead>\n",
       "  <tbody>\n",
       "    <tr>\n",
       "      <th>0</th>\n",
       "      <td>Indonesia</td>\n",
       "      <td>2022</td>\n",
       "      <td>0.33</td>\n",
       "      <td>2022</td>\n",
       "      <td>278,830,529</td>\n",
       "      <td>92,014,075</td>\n",
       "    </tr>\n",
       "    <tr>\n",
       "      <th>1</th>\n",
       "      <td>Thailand</td>\n",
       "      <td>2022</td>\n",
       "      <td>0.44</td>\n",
       "      <td>2022</td>\n",
       "      <td>71,735,329</td>\n",
       "      <td>31,563,545</td>\n",
       "    </tr>\n",
       "    <tr>\n",
       "      <th>2</th>\n",
       "      <td>Viet Nam</td>\n",
       "      <td>2022</td>\n",
       "      <td>0.28</td>\n",
       "      <td>2022</td>\n",
       "      <td>99,680,655</td>\n",
       "      <td>27,910,583</td>\n",
       "    </tr>\n",
       "    <tr>\n",
       "      <th>3</th>\n",
       "      <td>Philippines</td>\n",
       "      <td>2022</td>\n",
       "      <td>0.21</td>\n",
       "      <td>2022</td>\n",
       "      <td>113,964,339</td>\n",
       "      <td>23,932,511</td>\n",
       "    </tr>\n",
       "    <tr>\n",
       "      <th>4</th>\n",
       "      <td>Malaysia</td>\n",
       "      <td>2022</td>\n",
       "      <td>0.50</td>\n",
       "      <td>2022</td>\n",
       "      <td>34,695,493</td>\n",
       "      <td>17,347,746</td>\n",
       "    </tr>\n",
       "    <tr>\n",
       "      <th>5</th>\n",
       "      <td>Myanmar</td>\n",
       "      <td>2022</td>\n",
       "      <td>0.20</td>\n",
       "      <td>2022</td>\n",
       "      <td>53,756,787</td>\n",
       "      <td>10,751,357</td>\n",
       "    </tr>\n",
       "    <tr>\n",
       "      <th>6</th>\n",
       "      <td>Singapore</td>\n",
       "      <td>2022</td>\n",
       "      <td>0.85</td>\n",
       "      <td>2022</td>\n",
       "      <td>5,649,885</td>\n",
       "      <td>4,802,402</td>\n",
       "    </tr>\n",
       "    <tr>\n",
       "      <th>7</th>\n",
       "      <td>Cambodia</td>\n",
       "      <td>2022</td>\n",
       "      <td>0.20</td>\n",
       "      <td>2022</td>\n",
       "      <td>17,201,724</td>\n",
       "      <td>3,440,345</td>\n",
       "    </tr>\n",
       "    <tr>\n",
       "      <th>8</th>\n",
       "      <td>Lao People's Democratic Republic</td>\n",
       "      <td>2022</td>\n",
       "      <td>0.22</td>\n",
       "      <td>2022</td>\n",
       "      <td>7,559,007</td>\n",
       "      <td>1,662,982</td>\n",
       "    </tr>\n",
       "    <tr>\n",
       "      <th>9</th>\n",
       "      <td>Brunei Darussalam</td>\n",
       "      <td>2022</td>\n",
       "      <td>0.35</td>\n",
       "      <td>2022</td>\n",
       "      <td>455,370</td>\n",
       "      <td>159,380</td>\n",
       "    </tr>\n",
       "  </tbody>\n",
       "</table>\n",
       "</div>"
      ],
      "text/plain": [
       "                            Country  Emission Data Year  \\\n",
       "0                         Indonesia                2022   \n",
       "1                          Thailand                2022   \n",
       "2                          Viet Nam                2022   \n",
       "3                       Philippines                2022   \n",
       "4                          Malaysia                2022   \n",
       "5                           Myanmar                2022   \n",
       "6                         Singapore                2022   \n",
       "7                          Cambodia                2022   \n",
       "8  Lao People's Democratic Republic                2022   \n",
       "9                 Brunei Darussalam                2022   \n",
       "\n",
       "   Emissions per Capita (tonnes CO2eq)  Population Year Total Population  \\\n",
       "0                                 0.33             2022      278,830,529   \n",
       "1                                 0.44             2022       71,735,329   \n",
       "2                                 0.28             2022       99,680,655   \n",
       "3                                 0.21             2022      113,964,339   \n",
       "4                                 0.50             2022       34,695,493   \n",
       "5                                 0.20             2022       53,756,787   \n",
       "6                                 0.85             2022        5,649,885   \n",
       "7                                 0.20             2022       17,201,724   \n",
       "8                                 0.22             2022        7,559,007   \n",
       "9                                 0.35             2022          455,370   \n",
       "\n",
       "  Total Emissions (tonnes CO2eq)  \n",
       "0                     92,014,075  \n",
       "1                     31,563,545  \n",
       "2                     27,910,583  \n",
       "3                     23,932,511  \n",
       "4                     17,347,746  \n",
       "5                     10,751,357  \n",
       "6                      4,802,402  \n",
       "7                      3,440,345  \n",
       "8                      1,662,982  \n",
       "9                        159,380  "
      ]
     },
     "execution_count": 271,
     "metadata": {},
     "output_type": "execute_result"
    }
   ],
   "source": [
    "asean_countries = [\n",
    "    'Brunei Darussalam', 'Cambodia', 'Indonesia', 'Lao People\\'s Democratic Republic',\n",
    "    'Malaysia', 'Myanmar', 'Philippines', 'Singapore', 'Thailand', 'Viet Nam'\n",
    "]\n",
    "\n",
    "# Emissions per capita from waste (latest year per country)\n",
    "emissions_per_capita = (\n",
    "    fao_emissions[\n",
    "        (fao_emissions['Area'].isin(asean_countries)) &\n",
    "        (fao_emissions['Item'] == 'Waste') &\n",
    "        (fao_emissions['Element'] == 'Emissions per capita')\n",
    "    ]\n",
    "    .sort_values('Year')\n",
    "    .drop_duplicates('Area', keep='last')\n",
    "    .rename(columns={'Area': 'Country', 'Year': 'Emission Data Year', 'Value': 'Emissions per Capita (tonnes CO2eq)'})\n",
    "    [['Country', 'Emission Data Year', 'Emissions per Capita (tonnes CO2eq)']]\n",
    ")\n",
    "\n",
    "# Total population (2022)\n",
    "total_population = (\n",
    "    fao_population[\n",
    "        (fao_population['Area'].isin(asean_countries)) &\n",
    "        (fao_population['Element'] == 'Total Population - Both sexes')\n",
    "    ]\n",
    ")\n",
    "latest_year = total_population[total_population['Year'].isin([2022])]['Year'].max()\n",
    "total_population = (\n",
    "    total_population[total_population['Year'] == latest_year]\n",
    "    .sort_values('Year')\n",
    "    .drop_duplicates('Area', keep='last')\n",
    "    .rename(columns={'Area': 'Country', 'Year': 'Population Year', 'Value': 'Total Population'})\n",
    ")\n",
    "total_population['Total Population'] *= 1000\n",
    "total_population = total_population[['Country', 'Population Year', 'Total Population']]\n",
    "\n",
    "# Merge and calculate total emissions\n",
    "ghg_via_per_capita_df = pd.merge(emissions_per_capita, total_population, on='Country')\n",
    "ghg_via_per_capita_df['Total Emissions (tonnes CO2eq)'] = (\n",
    "    ghg_via_per_capita_df['Emissions per Capita (tonnes CO2eq)'] * ghg_via_per_capita_df['Total Population']\n",
    ")\n",
    "\n",
    "final_output = (\n",
    "    ghg_via_per_capita_df\n",
    "    .sort_values('Total Emissions (tonnes CO2eq)', ascending=False)\n",
    "    .reset_index(drop=True)\n",
    ")\n",
    "final_output['Total Emissions (tonnes CO2eq)'] = final_output['Total Emissions (tonnes CO2eq)'].map('{:,.0f}'.format)\n",
    "final_output['Total Population'] = final_output['Total Population'].map('{:,.0f}'.format)\n",
    "\n",
    "print(\"--- Estimated GHG Emissions from Waste (Per Capita Method, tonnes) ---\")\n",
    "final_output"
   ]
  },
  {
   "cell_type": "markdown",
   "id": "c48d7198",
   "metadata": {},
   "source": [
    "### Method: Using emissions per capita and population data (Agrifood Systems Emissions)"
   ]
  },
  {
   "cell_type": "code",
   "execution_count": 270,
   "id": "43f528b7",
   "metadata": {},
   "outputs": [
    {
     "name": "stdout",
     "output_type": "stream",
     "text": [
      "--- Estimated GHG Emissions from Waste (Per Capita Method, tonnes) ---\n"
     ]
    },
    {
     "data": {
      "application/vnd.microsoft.datawrangler.viewer.v0+json": {
       "columns": [
        {
         "name": "index",
         "rawType": "int64",
         "type": "integer"
        },
        {
         "name": "Country",
         "rawType": "object",
         "type": "string"
        },
        {
         "name": "Emission Data Year",
         "rawType": "int64",
         "type": "integer"
        },
        {
         "name": "Emissions per Capita (tonnes CO2eq)",
         "rawType": "float64",
         "type": "float"
        },
        {
         "name": "Population Year",
         "rawType": "int64",
         "type": "integer"
        },
        {
         "name": "Total Population",
         "rawType": "object",
         "type": "string"
        },
        {
         "name": "Total Emissions (tonnes CO2eq)",
         "rawType": "object",
         "type": "string"
        }
       ],
       "ref": "e92e4339-e258-4716-9d87-d0b4a434cafe",
       "rows": [
        [
         "0",
         "Indonesia",
         "2022",
         "2.86",
         "2022",
         "278,830,529",
         "797,455,313"
        ],
        [
         "1",
         "Thailand",
         "2022",
         "2.59",
         "2022",
         "71,735,329",
         "185,794,502"
        ],
        [
         "2",
         "Myanmar",
         "2022",
         "3.29",
         "2022",
         "53,756,787",
         "176,859,829"
        ],
        [
         "3",
         "Viet Nam",
         "2022",
         "1.52",
         "2022",
         "99,680,655",
         "151,514,596"
        ],
        [
         "4",
         "Malaysia",
         "2022",
         "3.55",
         "2022",
         "34,695,493",
         "123,169,000"
        ],
        [
         "5",
         "Philippines",
         "2022",
         "0.93",
         "2022",
         "113,964,339",
         "105,986,835"
        ],
        [
         "6",
         "Cambodia",
         "2022",
         "3.63",
         "2022",
         "17,201,724",
         "62,442,258"
        ],
        [
         "7",
         "Lao People's Democratic Republic",
         "2022",
         "3.74",
         "2022",
         "7,559,007",
         "28,270,686"
        ],
        [
         "8",
         "Singapore",
         "2022",
         "0.82",
         "2022",
         "5,649,885",
         "4,632,906"
        ],
        [
         "9",
         "Brunei Darussalam",
         "2022",
         "3.66",
         "2022",
         "455,370",
         "1,666,654"
        ]
       ],
       "shape": {
        "columns": 6,
        "rows": 10
       }
      },
      "text/html": [
       "<div>\n",
       "<style scoped>\n",
       "    .dataframe tbody tr th:only-of-type {\n",
       "        vertical-align: middle;\n",
       "    }\n",
       "\n",
       "    .dataframe tbody tr th {\n",
       "        vertical-align: top;\n",
       "    }\n",
       "\n",
       "    .dataframe thead th {\n",
       "        text-align: right;\n",
       "    }\n",
       "</style>\n",
       "<table border=\"1\" class=\"dataframe\">\n",
       "  <thead>\n",
       "    <tr style=\"text-align: right;\">\n",
       "      <th></th>\n",
       "      <th>Country</th>\n",
       "      <th>Emission Data Year</th>\n",
       "      <th>Emissions per Capita (tonnes CO2eq)</th>\n",
       "      <th>Population Year</th>\n",
       "      <th>Total Population</th>\n",
       "      <th>Total Emissions (tonnes CO2eq)</th>\n",
       "    </tr>\n",
       "  </thead>\n",
       "  <tbody>\n",
       "    <tr>\n",
       "      <th>0</th>\n",
       "      <td>Indonesia</td>\n",
       "      <td>2022</td>\n",
       "      <td>2.86</td>\n",
       "      <td>2022</td>\n",
       "      <td>278,830,529</td>\n",
       "      <td>797,455,313</td>\n",
       "    </tr>\n",
       "    <tr>\n",
       "      <th>1</th>\n",
       "      <td>Thailand</td>\n",
       "      <td>2022</td>\n",
       "      <td>2.59</td>\n",
       "      <td>2022</td>\n",
       "      <td>71,735,329</td>\n",
       "      <td>185,794,502</td>\n",
       "    </tr>\n",
       "    <tr>\n",
       "      <th>2</th>\n",
       "      <td>Myanmar</td>\n",
       "      <td>2022</td>\n",
       "      <td>3.29</td>\n",
       "      <td>2022</td>\n",
       "      <td>53,756,787</td>\n",
       "      <td>176,859,829</td>\n",
       "    </tr>\n",
       "    <tr>\n",
       "      <th>3</th>\n",
       "      <td>Viet Nam</td>\n",
       "      <td>2022</td>\n",
       "      <td>1.52</td>\n",
       "      <td>2022</td>\n",
       "      <td>99,680,655</td>\n",
       "      <td>151,514,596</td>\n",
       "    </tr>\n",
       "    <tr>\n",
       "      <th>4</th>\n",
       "      <td>Malaysia</td>\n",
       "      <td>2022</td>\n",
       "      <td>3.55</td>\n",
       "      <td>2022</td>\n",
       "      <td>34,695,493</td>\n",
       "      <td>123,169,000</td>\n",
       "    </tr>\n",
       "    <tr>\n",
       "      <th>5</th>\n",
       "      <td>Philippines</td>\n",
       "      <td>2022</td>\n",
       "      <td>0.93</td>\n",
       "      <td>2022</td>\n",
       "      <td>113,964,339</td>\n",
       "      <td>105,986,835</td>\n",
       "    </tr>\n",
       "    <tr>\n",
       "      <th>6</th>\n",
       "      <td>Cambodia</td>\n",
       "      <td>2022</td>\n",
       "      <td>3.63</td>\n",
       "      <td>2022</td>\n",
       "      <td>17,201,724</td>\n",
       "      <td>62,442,258</td>\n",
       "    </tr>\n",
       "    <tr>\n",
       "      <th>7</th>\n",
       "      <td>Lao People's Democratic Republic</td>\n",
       "      <td>2022</td>\n",
       "      <td>3.74</td>\n",
       "      <td>2022</td>\n",
       "      <td>7,559,007</td>\n",
       "      <td>28,270,686</td>\n",
       "    </tr>\n",
       "    <tr>\n",
       "      <th>8</th>\n",
       "      <td>Singapore</td>\n",
       "      <td>2022</td>\n",
       "      <td>0.82</td>\n",
       "      <td>2022</td>\n",
       "      <td>5,649,885</td>\n",
       "      <td>4,632,906</td>\n",
       "    </tr>\n",
       "    <tr>\n",
       "      <th>9</th>\n",
       "      <td>Brunei Darussalam</td>\n",
       "      <td>2022</td>\n",
       "      <td>3.66</td>\n",
       "      <td>2022</td>\n",
       "      <td>455,370</td>\n",
       "      <td>1,666,654</td>\n",
       "    </tr>\n",
       "  </tbody>\n",
       "</table>\n",
       "</div>"
      ],
      "text/plain": [
       "                            Country  Emission Data Year  \\\n",
       "0                         Indonesia                2022   \n",
       "1                          Thailand                2022   \n",
       "2                           Myanmar                2022   \n",
       "3                          Viet Nam                2022   \n",
       "4                          Malaysia                2022   \n",
       "5                       Philippines                2022   \n",
       "6                          Cambodia                2022   \n",
       "7  Lao People's Democratic Republic                2022   \n",
       "8                         Singapore                2022   \n",
       "9                 Brunei Darussalam                2022   \n",
       "\n",
       "   Emissions per Capita (tonnes CO2eq)  Population Year Total Population  \\\n",
       "0                                 2.86             2022      278,830,529   \n",
       "1                                 2.59             2022       71,735,329   \n",
       "2                                 3.29             2022       53,756,787   \n",
       "3                                 1.52             2022       99,680,655   \n",
       "4                                 3.55             2022       34,695,493   \n",
       "5                                 0.93             2022      113,964,339   \n",
       "6                                 3.63             2022       17,201,724   \n",
       "7                                 3.74             2022        7,559,007   \n",
       "8                                 0.82             2022        5,649,885   \n",
       "9                                 3.66             2022          455,370   \n",
       "\n",
       "  Total Emissions (tonnes CO2eq)  \n",
       "0                    797,455,313  \n",
       "1                    185,794,502  \n",
       "2                    176,859,829  \n",
       "3                    151,514,596  \n",
       "4                    123,169,000  \n",
       "5                    105,986,835  \n",
       "6                     62,442,258  \n",
       "7                     28,270,686  \n",
       "8                      4,632,906  \n",
       "9                      1,666,654  "
      ]
     },
     "execution_count": 270,
     "metadata": {},
     "output_type": "execute_result"
    }
   ],
   "source": [
    "asean_countries = [\n",
    "    'Brunei Darussalam', 'Cambodia', 'Indonesia', 'Lao People\\'s Democratic Republic',\n",
    "    'Malaysia', 'Myanmar', 'Philippines', 'Singapore', 'Thailand', 'Viet Nam'\n",
    "]\n",
    "\n",
    "# Emissions per capita from waste (latest year per country)\n",
    "emissions_per_capita = (\n",
    "    fao_emissions[\n",
    "        (fao_emissions['Area'].isin(asean_countries)) &\n",
    "        (fao_emissions['Item'] == 'Agrifood systems') &\n",
    "        (fao_emissions['Element'] == 'Emissions per capita')\n",
    "    ]\n",
    "    .sort_values('Year')\n",
    "    .drop_duplicates('Area', keep='last')\n",
    "    .rename(columns={'Area': 'Country', 'Year': 'Emission Data Year', 'Value': 'Emissions per Capita (tonnes CO2eq)'})\n",
    "    [['Country', 'Emission Data Year', 'Emissions per Capita (tonnes CO2eq)']]\n",
    ")\n",
    "\n",
    "# Total population (2022)\n",
    "total_population = (\n",
    "    fao_population[\n",
    "        (fao_population['Area'].isin(asean_countries)) &\n",
    "        (fao_population['Element'] == 'Total Population - Both sexes')\n",
    "    ]\n",
    ")\n",
    "latest_year = total_population[total_population['Year'].isin([2022])]['Year'].max()\n",
    "total_population = (\n",
    "    total_population[total_population['Year'] == latest_year]\n",
    "    .sort_values('Year')\n",
    "    .drop_duplicates('Area', keep='last')\n",
    "    .rename(columns={'Area': 'Country', 'Year': 'Population Year', 'Value': 'Total Population'})\n",
    ")\n",
    "total_population['Total Population'] *= 1000\n",
    "total_population = total_population[['Country', 'Population Year', 'Total Population']]\n",
    "\n",
    "# Merge and calculate total emissions\n",
    "ghg_via_per_capita_df = pd.merge(emissions_per_capita, total_population, on='Country')\n",
    "ghg_via_per_capita_df['Total Emissions (tonnes CO2eq)'] = (\n",
    "    ghg_via_per_capita_df['Emissions per Capita (tonnes CO2eq)'] * ghg_via_per_capita_df['Total Population']\n",
    ")\n",
    "\n",
    "final_output = (\n",
    "    ghg_via_per_capita_df\n",
    "    .sort_values('Total Emissions (tonnes CO2eq)', ascending=False)\n",
    "    .reset_index(drop=True)\n",
    ")\n",
    "final_output['Total Emissions (tonnes CO2eq)'] = final_output['Total Emissions (tonnes CO2eq)'].map('{:,.0f}'.format)\n",
    "final_output['Total Population'] = final_output['Total Population'].map('{:,.0f}'.format)\n",
    "\n",
    "print(\"--- Estimated GHG Emissions from Waste (Per Capita Method, tonnes) ---\")\n",
    "final_output"
   ]
  }
 ],
 "metadata": {
  "kernelspec": {
   "display_name": ".venv",
   "language": "python",
   "name": "python3"
  },
  "language_info": {
   "codemirror_mode": {
    "name": "ipython",
    "version": 3
   },
   "file_extension": ".py",
   "mimetype": "text/x-python",
   "name": "python",
   "nbconvert_exporter": "python",
   "pygments_lexer": "ipython3",
   "version": "3.12.9"
  }
 },
 "nbformat": 4,
 "nbformat_minor": 5
}
