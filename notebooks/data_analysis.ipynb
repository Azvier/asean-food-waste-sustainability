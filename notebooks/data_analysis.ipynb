{
 "cells": [
  {
   "cell_type": "code",
   "execution_count": 36,
   "id": "479301b5",
   "metadata": {},
   "outputs": [],
   "source": [
    "import pandas as pd\n",
    "pd.set_option('future.no_silent_downcasting', True)"
   ]
  },
  {
   "cell_type": "code",
   "execution_count": 37,
   "id": "04c83529",
   "metadata": {},
   "outputs": [],
   "source": [
    "# FAO Data\n",
    "fao_fbs = pd.read_csv(r\"..\\data\\FAOSTAT\\processed\\fao_fbs_relevant.csv\")\n",
    "fao_fs = pd.read_csv(r\"..\\data\\FAOSTAT\\processed\\fao_fs_relevant.csv\")\n",
    "fao_emissions = pd.read_csv(r\"..\\data\\FAOSTAT\\processed\\fao_emissions_relevant.csv\")\n",
    "fao_cpi = pd.read_csv(r\"..\\data\\FAOSTAT\\processed\\fao_cpi_relevant.csv\")\n",
    "fao_population = pd.read_csv(r\"..\\data\\FAOSTAT\\processed\\fao_population_relevant.csv\")\n",
    "fao_prices = pd.read_csv(r\"..\\data\\FAOSTAT\\processed\\fao_prices_relevant.csv\")\n",
    "fao_production_indices = pd.read_csv(r\"..\\data\\FAOSTAT\\processed\\fao_production_indices_relevant.csv\")"
   ]
  },
  {
   "cell_type": "code",
   "execution_count": 38,
   "id": "ad9d9a41",
   "metadata": {},
   "outputs": [],
   "source": [
    "# Other Data\n",
    "f_waste = pd.read_excel(r\"../data/Food Waste Estimation UNEP 2024.xlsx\")\n",
    "fsi_data = pd.read_csv(r\"../data/processed/fsi_data_melted.csv\")\n",
    "asean_sdg = pd.read_excel(r\"../data/SDG From ASEANstats.xlsx\")\n",
    "un_sdg = pd.read_excel(r\"../data/SDG From UNSDG (2, 11, 12, 13).xlsx\")\n",
    "gfsi_data = pd.read_csv(r\"../data/processed/gfsi_data_melted.csv\")\n",
    "fsi_score = pd.read_csv(r\"../data/processed/fsi_score_melted.csv\")\n",
    "gfsi_score = pd.read_csv(r\"../data/processed/gfsi_score_melted.csv\")"
   ]
  },
  {
   "cell_type": "code",
   "execution_count": 39,
   "id": "510b17cc",
   "metadata": {},
   "outputs": [
    {
     "data": {
      "application/vnd.microsoft.datawrangler.viewer.v0+json": {
       "columns": [
        {
         "name": "index",
         "rawType": "int64",
         "type": "integer"
        },
        {
         "name": "Year",
         "rawType": "object",
         "type": "string"
        }
       ],
       "ref": "a3db4744-c0f9-4a83-a980-a1fada29b050",
       "rows": [
        [
         "0",
         "2000-2002"
        ],
        [
         "1",
         "2001-2003"
        ],
        [
         "2",
         "2002-2004"
        ],
        [
         "3",
         "2003-2005"
        ],
        [
         "4",
         "2004-2006"
        ],
        [
         "5",
         "2005-2007"
        ],
        [
         "6",
         "2006-2008"
        ],
        [
         "7",
         "2007-2009"
        ],
        [
         "8",
         "2008-2010"
        ],
        [
         "9",
         "2009-2011"
        ],
        [
         "10",
         "2010-2012"
        ],
        [
         "11",
         "2011-2013"
        ],
        [
         "12",
         "2012-2014"
        ],
        [
         "13",
         "2013-2015"
        ],
        [
         "14",
         "2014-2016"
        ],
        [
         "15",
         "2015-2017"
        ],
        [
         "16",
         "2016-2018"
        ],
        [
         "17",
         "2017-2019"
        ],
        [
         "18",
         "2018-2020"
        ],
        [
         "19",
         "2019-2021"
        ],
        [
         "20",
         "2020-2022"
        ],
        [
         "21",
         "2021-2023"
        ],
        [
         "22",
         "2000"
        ],
        [
         "23",
         "2001"
        ],
        [
         "24",
         "2002"
        ],
        [
         "25",
         "2003"
        ],
        [
         "26",
         "2004"
        ],
        [
         "27",
         "2005"
        ],
        [
         "28",
         "2006"
        ],
        [
         "29",
         "2007"
        ],
        [
         "30",
         "2008"
        ],
        [
         "31",
         "2009"
        ],
        [
         "32",
         "2010"
        ],
        [
         "33",
         "2011"
        ],
        [
         "34",
         "2012"
        ],
        [
         "35",
         "2013"
        ],
        [
         "36",
         "2014"
        ],
        [
         "37",
         "2015"
        ],
        [
         "38",
         "2016"
        ],
        [
         "39",
         "2017"
        ],
        [
         "40",
         "2018"
        ],
        [
         "41",
         "2019"
        ],
        [
         "42",
         "2020"
        ],
        [
         "43",
         "2021"
        ],
        [
         "44",
         "2022"
        ],
        [
         "45",
         "2023"
        ],
        [
         "46",
         "2000-2002"
        ],
        [
         "47",
         "2001-2003"
        ],
        [
         "48",
         "2002-2004"
        ],
        [
         "49",
         "2003-2005"
        ]
       ],
       "shape": {
        "columns": 1,
        "rows": 283880
       }
      },
      "text/plain": [
       "0         2000-2002\n",
       "1         2001-2003\n",
       "2         2002-2004\n",
       "3         2003-2005\n",
       "4         2004-2006\n",
       "            ...    \n",
       "283875    2016-2018\n",
       "283876    2017-2019\n",
       "283877    2018-2020\n",
       "283878    2019-2021\n",
       "283879    2020-2022\n",
       "Name: Year, Length: 283880, dtype: object"
      ]
     },
     "execution_count": 39,
     "metadata": {},
     "output_type": "execute_result"
    }
   ],
   "source": [
    "fao_fs['Year']"
   ]
  },
  {
   "cell_type": "code",
   "execution_count": 40,
   "id": "215d92f2",
   "metadata": {},
   "outputs": [],
   "source": [
    "# Replace all Lao People's Dem. Rep. with Lao People's Democratic Republic\n",
    "f_waste['Country'] = f_waste['Country'].replace('Lao People\\'s Dem. Rep.', 'Lao People\\'s Democratic Republic')"
   ]
  },
  {
   "cell_type": "markdown",
   "id": "e2f9fa0d",
   "metadata": {},
   "source": [
    "# Exploratory Data Analysis (EDA)"
   ]
  },
  {
   "cell_type": "markdown",
   "id": "589b54bf",
   "metadata": {},
   "source": [
    "## Urban Paradox"
   ]
  },
  {
   "cell_type": "code",
   "execution_count": 41,
   "id": "15d04206",
   "metadata": {},
   "outputs": [
    {
     "name": "stdout",
     "output_type": "stream",
     "text": [
      "--- Urban Paradox Data Ready for Visualization ---\n"
     ]
    },
    {
     "data": {
      "application/vnd.microsoft.datawrangler.viewer.v0+json": {
       "columns": [
        {
         "name": "index",
         "rawType": "int64",
         "type": "integer"
        },
        {
         "name": "Country",
         "rawType": "object",
         "type": "string"
        },
        {
         "name": "Urban Population",
         "rawType": "object",
         "type": "string"
        },
        {
         "name": "Urban Food Insecurity (%)",
         "rawType": "object",
         "type": "unknown"
        },
        {
         "name": "Household Waste (kg/capita/yr)",
         "rawType": "int64",
         "type": "integer"
        },
        {
         "name": "Total Household Waste (tonnes/yr)",
         "rawType": "object",
         "type": "string"
        }
       ],
       "ref": "de27748d-e7ec-4745-8fd4-29e634bba2ca",
       "rows": [
        [
         "0",
         "Brunei Darussalam",
         "368,738",
         null,
         "76",
         "28,024"
        ],
        [
         "1",
         "Cambodia",
         "4,581,944",
         "53.5",
         "85",
         "389,465"
        ],
        [
         "2",
         "Indonesia",
         "167,176,839",
         "5.4",
         "53",
         "8,860,372"
        ],
        [
         "3",
         "Lao People's Democratic Republic",
         "2,933,677",
         "39.1",
         "89",
         "261,097"
        ],
        [
         "4",
         "Malaysia",
         "27,360,379",
         "14.2",
         "81",
         "2,216,191"
        ],
        [
         "5",
         "Myanmar",
         "18,372,626",
         "36.9",
         "78",
         "1,433,065"
        ],
        [
         "6",
         "Philippines",
         "56,434,179",
         "42.7",
         "26",
         "1,467,289"
        ],
        [
         "7",
         "Singapore",
         "6,119,203",
         "7.7",
         "68",
         "416,106"
        ],
        [
         "8",
         "Thailand",
         "37,838,857",
         "6.7",
         "86",
         "3,254,142"
        ],
        [
         "9",
         "Viet Nam",
         "40,975,863",
         "12.3",
         "72",
         "2,950,262"
        ]
       ],
       "shape": {
        "columns": 5,
        "rows": 10
       }
      },
      "text/html": [
       "<div>\n",
       "<style scoped>\n",
       "    .dataframe tbody tr th:only-of-type {\n",
       "        vertical-align: middle;\n",
       "    }\n",
       "\n",
       "    .dataframe tbody tr th {\n",
       "        vertical-align: top;\n",
       "    }\n",
       "\n",
       "    .dataframe thead th {\n",
       "        text-align: right;\n",
       "    }\n",
       "</style>\n",
       "<table border=\"1\" class=\"dataframe\">\n",
       "  <thead>\n",
       "    <tr style=\"text-align: right;\">\n",
       "      <th></th>\n",
       "      <th>Country</th>\n",
       "      <th>Urban Population</th>\n",
       "      <th>Urban Food Insecurity (%)</th>\n",
       "      <th>Household Waste (kg/capita/yr)</th>\n",
       "      <th>Total Household Waste (tonnes/yr)</th>\n",
       "    </tr>\n",
       "  </thead>\n",
       "  <tbody>\n",
       "    <tr>\n",
       "      <th>0</th>\n",
       "      <td>Brunei Darussalam</td>\n",
       "      <td>368,738</td>\n",
       "      <td>NaN</td>\n",
       "      <td>76</td>\n",
       "      <td>28,024</td>\n",
       "    </tr>\n",
       "    <tr>\n",
       "      <th>1</th>\n",
       "      <td>Cambodia</td>\n",
       "      <td>4,581,944</td>\n",
       "      <td>53.5</td>\n",
       "      <td>85</td>\n",
       "      <td>389,465</td>\n",
       "    </tr>\n",
       "    <tr>\n",
       "      <th>2</th>\n",
       "      <td>Indonesia</td>\n",
       "      <td>167,176,839</td>\n",
       "      <td>5.4</td>\n",
       "      <td>53</td>\n",
       "      <td>8,860,372</td>\n",
       "    </tr>\n",
       "    <tr>\n",
       "      <th>3</th>\n",
       "      <td>Lao People's Democratic Republic</td>\n",
       "      <td>2,933,677</td>\n",
       "      <td>39.1</td>\n",
       "      <td>89</td>\n",
       "      <td>261,097</td>\n",
       "    </tr>\n",
       "    <tr>\n",
       "      <th>4</th>\n",
       "      <td>Malaysia</td>\n",
       "      <td>27,360,379</td>\n",
       "      <td>14.2</td>\n",
       "      <td>81</td>\n",
       "      <td>2,216,191</td>\n",
       "    </tr>\n",
       "    <tr>\n",
       "      <th>5</th>\n",
       "      <td>Myanmar</td>\n",
       "      <td>18,372,626</td>\n",
       "      <td>36.9</td>\n",
       "      <td>78</td>\n",
       "      <td>1,433,065</td>\n",
       "    </tr>\n",
       "    <tr>\n",
       "      <th>6</th>\n",
       "      <td>Philippines</td>\n",
       "      <td>56,434,179</td>\n",
       "      <td>42.7</td>\n",
       "      <td>26</td>\n",
       "      <td>1,467,289</td>\n",
       "    </tr>\n",
       "    <tr>\n",
       "      <th>7</th>\n",
       "      <td>Singapore</td>\n",
       "      <td>6,119,203</td>\n",
       "      <td>7.7</td>\n",
       "      <td>68</td>\n",
       "      <td>416,106</td>\n",
       "    </tr>\n",
       "    <tr>\n",
       "      <th>8</th>\n",
       "      <td>Thailand</td>\n",
       "      <td>37,838,857</td>\n",
       "      <td>6.7</td>\n",
       "      <td>86</td>\n",
       "      <td>3,254,142</td>\n",
       "    </tr>\n",
       "    <tr>\n",
       "      <th>9</th>\n",
       "      <td>Viet Nam</td>\n",
       "      <td>40,975,863</td>\n",
       "      <td>12.3</td>\n",
       "      <td>72</td>\n",
       "      <td>2,950,262</td>\n",
       "    </tr>\n",
       "  </tbody>\n",
       "</table>\n",
       "</div>"
      ],
      "text/plain": [
       "                            Country Urban Population  \\\n",
       "0                 Brunei Darussalam          368,738   \n",
       "1                          Cambodia        4,581,944   \n",
       "2                         Indonesia      167,176,839   \n",
       "3  Lao People's Democratic Republic        2,933,677   \n",
       "4                          Malaysia       27,360,379   \n",
       "5                           Myanmar       18,372,626   \n",
       "6                       Philippines       56,434,179   \n",
       "7                         Singapore        6,119,203   \n",
       "8                          Thailand       37,838,857   \n",
       "9                          Viet Nam       40,975,863   \n",
       "\n",
       "  Urban Food Insecurity (%)  Household Waste (kg/capita/yr)  \\\n",
       "0                       NaN                              76   \n",
       "1                      53.5                              85   \n",
       "2                       5.4                              53   \n",
       "3                      39.1                              89   \n",
       "4                      14.2                              81   \n",
       "5                      36.9                              78   \n",
       "6                      42.7                              26   \n",
       "7                       7.7                              68   \n",
       "8                       6.7                              86   \n",
       "9                      12.3                              72   \n",
       "\n",
       "  Total Household Waste (tonnes/yr)  \n",
       "0                            28,024  \n",
       "1                           389,465  \n",
       "2                         8,860,372  \n",
       "3                           261,097  \n",
       "4                         2,216,191  \n",
       "5                         1,433,065  \n",
       "6                         1,467,289  \n",
       "7                           416,106  \n",
       "8                         3,254,142  \n",
       "9                         2,950,262  "
      ]
     },
     "execution_count": 41,
     "metadata": {},
     "output_type": "execute_result"
    }
   ],
   "source": [
    "# Define the list of ASEAN countries for consistent filtering across all datasets.\n",
    "asean_countries = [\n",
    "    'Brunei Darussalam', 'Cambodia', 'Indonesia', 'Lao People\\'s Democratic Republic',\n",
    "    'Malaysia', 'Myanmar', 'Philippines', 'Singapore', 'Thailand', 'Viet Nam'\n",
    "]\n",
    "\n",
    "# Process Urban Population Data\n",
    "max_actual_year = fao_population[fao_population['Year'] <= 2023]['Year'].max()\n",
    "population_urban = fao_population[\n",
    "    (fao_population['Area'].isin(asean_countries)) &\n",
    "    (fao_population['Element'] == 'Urban population') &\n",
    "    (fao_population['Year'] == 2024)\n",
    "].copy()\n",
    "population_urban['Value'] *= 1000  # Convert from '1000 persons' to persons\n",
    "population_urban = population_urban[['Area', 'Year', 'Value']].rename(columns={\n",
    "    'Area': 'Country',\n",
    "    'Year': 'Population Year',\n",
    "    'Value': 'Urban Population'\n",
    "})\n",
    "\n",
    "# Process Urban Food Insecurity Data\n",
    "fs_urban_insecurity = fao_fs[\n",
    "    (fao_fs['Area'].isin(asean_countries)) &\n",
    "    (fao_fs['Item'] == 'Prevalence of moderate or severe food insecurity in the total population (percent) (3-year average)') &\n",
    "    (fao_fs['Year'].astype(str).str.contains('2021|2022|2023|2024'))\n",
    "].sort_values('Year').drop_duplicates('Area', keep='last')\n",
    "fs_urban_insecurity = fs_urban_insecurity[['Area', 'Year', 'Value']].rename(columns={\n",
    "    'Area': 'Country',\n",
    "    'Year': 'FS Year',\n",
    "    'Value': 'Urban Food Insecurity (%)'\n",
    "})\n",
    "\n",
    "# Process Food Waste Data\n",
    "waste_household = f_waste[f_waste['Country'].isin(asean_countries)][['Country', 'Household estimate (kg/capita/year)']].rename(\n",
    "    columns={'Household estimate (kg/capita/year)': 'Household Waste (kg/capita/yr)'}\n",
    ")\n",
    "\n",
    "# Merge Datasets to Create the Urban Paradox DataFrame\n",
    "urban_paradox = population_urban.merge(fs_urban_insecurity, on='Country', how='left').merge(waste_household, on='Country', how='left')\n",
    "urban_paradox['Total Household Waste (tonnes/yr)'] = (urban_paradox['Urban Population'] * urban_paradox['Household Waste (kg/capita/yr)']) / 1000\n",
    "urban_paradox = urban_paradox.loc[:, ~urban_paradox.columns.str.contains('Year')]\n",
    "\n",
    "urban_paradox_fmt = urban_paradox.copy()\n",
    "urban_paradox_fmt['Urban Population'] = urban_paradox_fmt['Urban Population'].apply(lambda x: f\"{x:,.0f}\")\n",
    "urban_paradox_fmt['Total Household Waste (tonnes/yr)'] = urban_paradox_fmt['Total Household Waste (tonnes/yr)'].apply(lambda x: f\"{x:,.0f}\")\n",
    "\n",
    "print(\"--- Urban Paradox Data Ready for Visualization ---\")\n",
    "urban_paradox_fmt"
   ]
  },
  {
   "cell_type": "markdown",
   "id": "51d08668",
   "metadata": {},
   "source": [
    "## Estimated Financial Loss (Hybrid Price Filling) From Food Loss"
   ]
  },
  {
   "cell_type": "code",
   "execution_count": 42,
   "id": "a9bebb2c",
   "metadata": {},
   "outputs": [
    {
     "name": "stdout",
     "output_type": "stream",
     "text": [
      "--- Comprehensive Financial Loss Data (Hybrid Price Filling) ---\n"
     ]
    },
    {
     "data": {
      "application/vnd.microsoft.datawrangler.viewer.v0+json": {
       "columns": [
        {
         "name": "index",
         "rawType": "int64",
         "type": "integer"
        },
        {
         "name": "Country",
         "rawType": "object",
         "type": "string"
        },
        {
         "name": "Item",
         "rawType": "object",
         "type": "string"
        },
        {
         "name": "Loss Year",
         "rawType": "int64",
         "type": "integer"
        },
        {
         "name": "Final_Price",
         "rawType": "float64",
         "type": "float"
        },
        {
         "name": "Losses (tonnes)",
         "rawType": "float64",
         "type": "float"
        },
        {
         "name": "Financial Loss (USD)",
         "rawType": "float64",
         "type": "float"
        }
       ],
       "ref": "45e3c646-f388-4107-85ef-ea8ab390b702",
       "rows": [
        [
         "172",
         "Indonesia",
         "Palm kernels",
         "2022",
         "281.4",
         "35611000.0",
         "10020935400.0"
        ],
        [
         "140",
         "Indonesia",
         "Oilcrops",
         "2022",
         "153.7",
         "37250000.0",
         "5725325000.0"
        ],
        [
         "17",
         "Viet Nam",
         "Cereals - Excluding Beer",
         "2022",
         "1170.472027972028",
         "4412000.0",
         "5164122587.412587"
        ],
        [
         "23",
         "Indonesia",
         "Cereals - Excluding Beer",
         "2022",
         "1170.472027972028",
         "3988000.0",
         "4667842447.552447"
        ],
        [
         "26",
         "Thailand",
         "Starchy Roots",
         "2022",
         "891.4780487804878",
         "2604000.0",
         "2321408839.02439"
        ],
        [
         "18",
         "Thailand",
         "Cereals - Excluding Beer",
         "2022",
         "1170.472027972028",
         "1548000.0",
         "1811890699.3006992"
        ],
        [
         "20",
         "Myanmar",
         "Cereals - Excluding Beer",
         "2022",
         "1170.472027972028",
         "1093000.0",
         "1279325926.5734265"
        ],
        [
         "382",
         "Viet Nam",
         "Rice and products",
         "2022",
         "326.7",
         "3808000.0",
         "1244073600.0"
        ],
        [
         "197",
         "Viet Nam",
         "Vegetables",
         "2022",
         "755.525",
         "1624000.0",
         "1226972600.0"
        ],
        [
         "77",
         "Indonesia",
         "Sugar cane",
         "2022",
         "699.9833333333332",
         "1732000.0",
         "1212371133.3333333"
        ],
        [
         "191",
         "Viet Nam",
         "Vegetables, other",
         "2022",
         "755.525",
         "1573000.0",
         "1188440825.0"
        ],
        [
         "11",
         "Indonesia",
         "Rice and products",
         "2022",
         "389.0",
         "3006000.0",
         "1169334000.0"
        ],
        [
         "85",
         "Myanmar",
         "Sugar cane",
         "2022",
         "699.9833333333332",
         "1306000.0",
         "914178233.3333333"
        ],
        [
         "386",
         "Cambodia",
         "Cereals - Excluding Beer",
         "2022",
         "1170.472027972028",
         "762000.0",
         "891899685.3146853"
        ],
        [
         "81",
         "Indonesia",
         "Sugar Crops",
         "2022",
         "474.92",
         "1732000.0",
         "822561440.0"
        ],
        [
         "31",
         "Viet Nam",
         "Starchy Roots",
         "2022",
         "891.4780487804878",
         "907000.0",
         "808570590.2439024"
        ],
        [
         "38",
         "Lao People's Democratic Republic",
         "Starchy Roots",
         "2022",
         "891.4780487804878",
         "742000.0",
         "661476712.195122"
        ],
        [
         "61",
         "Myanmar",
         "Sugar Crops",
         "2022",
         "474.92",
         "1306000.0",
         "620245520.0"
        ],
        [
         "87",
         "Philippines",
         "Sugar Crops",
         "2022",
         "474.92",
         "1262000.0",
         "599349040.0"
        ],
        [
         "34",
         "Cambodia",
         "Starchy Roots",
         "2022",
         "891.4780487804878",
         "654000.0",
         "583026643.902439"
        ],
        [
         "28",
         "Indonesia",
         "Starchy Roots",
         "2022",
         "891.4780487804878",
         "640000.0",
         "570545951.2195122"
        ],
        [
         "157",
         "Malaysia",
         "Palm kernels",
         "2022",
         "442.0",
         "1265000.0",
         "559130000.0"
        ],
        [
         "226",
         "Philippines",
         "Fruits - Excluding Wine",
         "2022",
         "434.25",
         "1213000.0",
         "526745250.0"
        ],
        [
         "228",
         "Indonesia",
         "Vegetables",
         "2022",
         "755.525",
         "610000.0",
         "460870250.0"
        ],
        [
         "383",
         "Thailand",
         "Rice and products",
         "2022",
         "335.4",
         "1364000.0",
         "457485599.99999994"
        ],
        [
         "237",
         "Indonesia",
         "Vegetables, other",
         "2022",
         "755.525",
         "579000.0",
         "437448975.0"
        ],
        [
         "233",
         "Indonesia",
         "Fruits - Excluding Wine",
         "2022",
         "434.25",
         "1004000.0",
         "435987000.0"
        ],
        [
         "247",
         "Thailand",
         "Fruits - Excluding Wine",
         "2022",
         "434.25",
         "987000.0",
         "428604750.0"
        ],
        [
         "82",
         "Thailand",
         "Sugar Crops",
         "2022",
         "474.92",
         "889000.0",
         "422203880.0"
        ],
        [
         "384",
         "Myanmar",
         "Rice and products",
         "2022",
         "399.725",
         "966000.0",
         "386134350.0"
        ],
        [
         "187",
         "Viet Nam",
         "Fruits - Excluding Wine",
         "2022",
         "434.25",
         "841000.0",
         "365204250.0"
        ],
        [
         "252",
         "Philippines",
         "Plantains",
         "2022",
         "1394.0",
         "261000.0",
         "363834000.0"
        ],
        [
         "377",
         "Indonesia",
         "Maize and products",
         "2022",
         "351.8",
         "982000.0",
         "345467600.0"
        ],
        [
         "0",
         "Indonesia",
         "Eggs",
         "2022",
         "1995.7",
         "161000.0",
         "321307700.0"
        ],
        [
         "21",
         "Malaysia",
         "Cereals - Excluding Beer",
         "2022",
         "1170.472027972028",
         "273000.0",
         "319538863.6363636"
        ],
        [
         "335",
         "Viet Nam",
         "Offals",
         "2022",
         "6667.92",
         "47000.0",
         "313392240.0"
        ],
        [
         "334",
         "Viet Nam",
         "Offals, Edible",
         "2022",
         "6667.92",
         "47000.0",
         "313392240.0"
        ],
        [
         "307",
         "Indonesia",
         "Fruits, other",
         "2022",
         "434.25",
         "712000.0",
         "309186000.0"
        ],
        [
         "190",
         "Myanmar",
         "Vegetables",
         "2022",
         "755.525",
         "409000.0",
         "309009725.0"
        ],
        [
         "19",
         "Philippines",
         "Cereals - Excluding Beer",
         "2022",
         "1170.472027972028",
         "260000.0",
         "304322727.27272725"
        ],
        [
         "40",
         "Lao People's Democratic Republic",
         "Roots, Other",
         "2022",
         "891.4780487804878",
         "323000.0",
         "287947409.75609756"
        ],
        [
         "66",
         "Viet Nam",
         "Sugar Crops",
         "2022",
         "474.92",
         "596000.0",
         "283052320.0"
        ],
        [
         "179",
         "Indonesia",
         "Coconuts - Incl Copra",
         "2022",
         "181.2",
         "1553000.0",
         "281403600.0"
        ],
        [
         "282",
         "Thailand",
         "Fruits, other",
         "2022",
         "434.25",
         "626000.0",
         "271840500.0"
        ],
        [
         "218",
         "Myanmar",
         "Plantains",
         "2022",
         "1394.0",
         "190000.0",
         "264860000.0"
        ],
        [
         "254",
         "Viet Nam",
         "Stimulants",
         "2022",
         "1718.1",
         "149000.0",
         "255996900.0"
        ],
        [
         "212",
         "Myanmar",
         "Vegetables, other",
         "2022",
         "755.525",
         "326000.0",
         "246301150.0"
        ],
        [
         "134",
         "Malaysia",
         "Oilcrops",
         "2022",
         "170.6",
         "1337000.0",
         "228092200.0"
        ],
        [
         "348",
         "Philippines",
         "Offals",
         "2022",
         "6667.92",
         "34000.0",
         "226709280.0"
        ],
        [
         "343",
         "Philippines",
         "Offals, Edible",
         "2022",
         "6667.92",
         "34000.0",
         "226709280.0"
        ]
       ],
       "shape": {
        "columns": 6,
        "rows": 387
       }
      },
      "text/html": [
       "<div>\n",
       "<style scoped>\n",
       "    .dataframe tbody tr th:only-of-type {\n",
       "        vertical-align: middle;\n",
       "    }\n",
       "\n",
       "    .dataframe tbody tr th {\n",
       "        vertical-align: top;\n",
       "    }\n",
       "\n",
       "    .dataframe thead th {\n",
       "        text-align: right;\n",
       "    }\n",
       "</style>\n",
       "<table border=\"1\" class=\"dataframe\">\n",
       "  <thead>\n",
       "    <tr style=\"text-align: right;\">\n",
       "      <th></th>\n",
       "      <th>Country</th>\n",
       "      <th>Item</th>\n",
       "      <th>Loss Year</th>\n",
       "      <th>Final_Price</th>\n",
       "      <th>Losses (tonnes)</th>\n",
       "      <th>Financial Loss (USD)</th>\n",
       "    </tr>\n",
       "  </thead>\n",
       "  <tbody>\n",
       "    <tr>\n",
       "      <th>172</th>\n",
       "      <td>Indonesia</td>\n",
       "      <td>Palm kernels</td>\n",
       "      <td>2022</td>\n",
       "      <td>281.400000</td>\n",
       "      <td>35611000.0</td>\n",
       "      <td>1.002094e+10</td>\n",
       "    </tr>\n",
       "    <tr>\n",
       "      <th>140</th>\n",
       "      <td>Indonesia</td>\n",
       "      <td>Oilcrops</td>\n",
       "      <td>2022</td>\n",
       "      <td>153.700000</td>\n",
       "      <td>37250000.0</td>\n",
       "      <td>5.725325e+09</td>\n",
       "    </tr>\n",
       "    <tr>\n",
       "      <th>17</th>\n",
       "      <td>Viet Nam</td>\n",
       "      <td>Cereals - Excluding Beer</td>\n",
       "      <td>2022</td>\n",
       "      <td>1170.472028</td>\n",
       "      <td>4412000.0</td>\n",
       "      <td>5.164123e+09</td>\n",
       "    </tr>\n",
       "    <tr>\n",
       "      <th>23</th>\n",
       "      <td>Indonesia</td>\n",
       "      <td>Cereals - Excluding Beer</td>\n",
       "      <td>2022</td>\n",
       "      <td>1170.472028</td>\n",
       "      <td>3988000.0</td>\n",
       "      <td>4.667842e+09</td>\n",
       "    </tr>\n",
       "    <tr>\n",
       "      <th>26</th>\n",
       "      <td>Thailand</td>\n",
       "      <td>Starchy Roots</td>\n",
       "      <td>2022</td>\n",
       "      <td>891.478049</td>\n",
       "      <td>2604000.0</td>\n",
       "      <td>2.321409e+09</td>\n",
       "    </tr>\n",
       "    <tr>\n",
       "      <th>...</th>\n",
       "      <td>...</td>\n",
       "      <td>...</td>\n",
       "      <td>...</td>\n",
       "      <td>...</td>\n",
       "      <td>...</td>\n",
       "      <td>...</td>\n",
       "    </tr>\n",
       "    <tr>\n",
       "      <th>102</th>\n",
       "      <td>Myanmar</td>\n",
       "      <td>Honey</td>\n",
       "      <td>2022</td>\n",
       "      <td>7135.400000</td>\n",
       "      <td>0.0</td>\n",
       "      <td>0.000000e+00</td>\n",
       "    </tr>\n",
       "    <tr>\n",
       "      <th>110</th>\n",
       "      <td>Cambodia</td>\n",
       "      <td>Treenuts</td>\n",
       "      <td>2022</td>\n",
       "      <td>7483.200000</td>\n",
       "      <td>0.0</td>\n",
       "      <td>0.000000e+00</td>\n",
       "    </tr>\n",
       "    <tr>\n",
       "      <th>120</th>\n",
       "      <td>Malaysia</td>\n",
       "      <td>Groundnuts</td>\n",
       "      <td>2022</td>\n",
       "      <td>1247.016667</td>\n",
       "      <td>0.0</td>\n",
       "      <td>0.000000e+00</td>\n",
       "    </tr>\n",
       "    <tr>\n",
       "      <th>115</th>\n",
       "      <td>Philippines</td>\n",
       "      <td>Peas</td>\n",
       "      <td>2022</td>\n",
       "      <td>531.260575</td>\n",
       "      <td>0.0</td>\n",
       "      <td>0.000000e+00</td>\n",
       "    </tr>\n",
       "    <tr>\n",
       "      <th>116</th>\n",
       "      <td>Malaysia</td>\n",
       "      <td>Treenuts</td>\n",
       "      <td>2022</td>\n",
       "      <td>7483.200000</td>\n",
       "      <td>0.0</td>\n",
       "      <td>0.000000e+00</td>\n",
       "    </tr>\n",
       "  </tbody>\n",
       "</table>\n",
       "<p>387 rows × 6 columns</p>\n",
       "</div>"
      ],
      "text/plain": [
       "         Country                      Item  Loss Year  Final_Price  \\\n",
       "172    Indonesia              Palm kernels       2022   281.400000   \n",
       "140    Indonesia                  Oilcrops       2022   153.700000   \n",
       "17      Viet Nam  Cereals - Excluding Beer       2022  1170.472028   \n",
       "23     Indonesia  Cereals - Excluding Beer       2022  1170.472028   \n",
       "26      Thailand             Starchy Roots       2022   891.478049   \n",
       "..           ...                       ...        ...          ...   \n",
       "102      Myanmar                     Honey       2022  7135.400000   \n",
       "110     Cambodia                  Treenuts       2022  7483.200000   \n",
       "120     Malaysia                Groundnuts       2022  1247.016667   \n",
       "115  Philippines                      Peas       2022   531.260575   \n",
       "116     Malaysia                  Treenuts       2022  7483.200000   \n",
       "\n",
       "     Losses (tonnes)  Financial Loss (USD)  \n",
       "172       35611000.0          1.002094e+10  \n",
       "140       37250000.0          5.725325e+09  \n",
       "17         4412000.0          5.164123e+09  \n",
       "23         3988000.0          4.667842e+09  \n",
       "26         2604000.0          2.321409e+09  \n",
       "..               ...                   ...  \n",
       "102              0.0          0.000000e+00  \n",
       "110              0.0          0.000000e+00  \n",
       "120              0.0          0.000000e+00  \n",
       "115              0.0          0.000000e+00  \n",
       "116              0.0          0.000000e+00  \n",
       "\n",
       "[387 rows x 6 columns]"
      ]
     },
     "execution_count": 42,
     "metadata": {},
     "output_type": "execute_result"
    }
   ],
   "source": [
    "# Filter the Food Balance Sheets for the 'Losses' element across all commodities\n",
    "# in ASEAN countries. We will keep the 'Year' to be explicit about the timeframe.\n",
    "loss_volume = fao_fbs[\n",
    "    (fao_fbs['Area'].isin(asean_countries)) &\n",
    "    (fao_fbs['Element'] == 'Losses') &\n",
    "    (fao_fbs['Year'] == 2022) &\n",
    "    (~fao_fbs['Item'].str.strip().str.lower().str.contains('total'))\n",
    "].copy()\n",
    "loss_volume['Value'] = loss_volume['Value'] * 1000\n",
    "loss_volume = loss_volume.sort_values('Year').drop_duplicates(['Area', 'Item'], keep='last')\n",
    "loss_volume = loss_volume[['Area', 'Item', 'Year', 'Value']].rename(columns={\n",
    "    'Year': 'Loss Year',\n",
    "    'Value': 'Losses (tonnes)'\n",
    "})\n",
    "\n",
    "# Filter the Producer Prices dataset for the USD/tonne value across all commodities\n",
    "# in ASEAN, also keeping the 'Year'.\n",
    "producer_prices = fao_prices[\n",
    "    (fao_prices['Area'].isin(asean_countries)) &\n",
    "    (fao_prices['Element'] == 'Producer Price (USD/tonne)')\n",
    "].copy()\n",
    "# For each (Area, Item), find the latest available price (any year)\n",
    "producer_prices = (\n",
    "    producer_prices\n",
    "    .sort_values(['Area', 'Item', 'Year'], ascending=[True, True, False])\n",
    "    .drop_duplicates(['Area', 'Item'], keep='first')\n",
    "    .loc[:, ['Area', 'Item', 'Year', 'Value']]\n",
    "    .rename(columns={'Year': 'Price Year', 'Value': 'Price (USD/tonne)'})\n",
    ")\n",
    "\n",
    "# Manual mapping from loss_volume items to producer_prices items (standardized, lowercased)\n",
    "item_mapping = {\n",
    "    'eggs': 'hen eggs in shell, fresh',\n",
    "    'milk - excluding butter': 'raw milk of cattle',\n",
    "    'fats, animals, raw': 'palm oil',\n",
    "    'animal fats': 'palm oil',\n",
    "    'rice and products': 'rice',\n",
    "    'wheat and products': 'wheat',\n",
    "    'cereals - excluding beer': 'cereals n.e.c.',\n",
    "    'cassava and products': 'cassava, fresh',\n",
    "    'starchy roots': 'edible roots and tubers with high starch or inulin content, n.e.c., fresh',\n",
    "    'cereals, other': 'cereals n.e.c.',\n",
    "    'sorghum and products': 'sorghum',\n",
    "    'roots, other': 'edible roots and tubers with high starch or inulin content, n.e.c., fresh',\n",
    "    'sweet potatoes': 'sweet potatoes',\n",
    "    'potatoes and products': 'potatoes',\n",
    "    'sugar crops': 'other sugar crops n.e.c.',\n",
    "    'sugar cane': 'sugar cane',\n",
    "    'yams': 'yams',\n",
    "    'pulses': 'other pulses n.e.c.',\n",
    "    'sweeteners, other': 'natural honey',\n",
    "    'honey': 'natural honey',\n",
    "    'sugar & sweeteners': 'sugar cane',\n",
    "    'peas': 'peas, dry',\n",
    "    'beans': 'beans, dry',\n",
    "    'pulses, other and products': 'other pulses n.e.c.',\n",
    "    'oilcrops': 'oil palm fruit',\n",
    "    'treenuts': 'other nuts (excluding wild edible nuts and groundnuts), in shell, n.e.c.',\n",
    "    'nuts and products': 'other nuts (excluding wild edible nuts and groundnuts), in shell, n.e.c.',\n",
    "    'groundnuts': 'groundnuts, excluding shelled',\n",
    "    'soyabeans': 'soya beans',\n",
    "    'sunflower seed': 'sunflower seed',\n",
    "    'coconuts - incl copra': 'coconuts, in shell',\n",
    "    'cottonseed': 'cotton seed',\n",
    "    'rape and mustardseed': 'rape or colza seed',\n",
    "    'sesame seed': 'sesame seed',\n",
    "    'oilcrops, other': 'other oil seeds, n.e.c.',\n",
    "    'palm kernels': 'palm kernels',\n",
    "    'vegetables': 'other vegetables, fresh n.e.c.',\n",
    "    'palmkernel oil': 'palm kernels',\n",
    "    'vegetable oils': 'oil palm fruit',\n",
    "    'bananas': 'bananas',\n",
    "    'onions': 'onions and shallots, dry (excluding dehydrated)',\n",
    "    'fruits - excluding wine': 'other fruits, n.e.c.',\n",
    "    'tomatoes and products': 'tomatoes',\n",
    "    'grapefruit and products': 'pomelos and grapefruits',\n",
    "    'vegetables, other': 'other vegetables, fresh n.e.c.',\n",
    "    'lemons, limes and products': 'lemons and limes',\n",
    "    'oranges, mandarines': 'oranges',\n",
    "    'palm oil': 'palm oil',\n",
    "    'pineapples and products': 'pineapples',\n",
    "    'stimulants': 'other stimulant, spice and aromatic crops, n.e.c.',\n",
    "    'plantains': 'plantains',\n",
    "    'apples and products': 'apples',\n",
    "    'fruits, other': 'other fruits, n.e.c.',\n",
    "    'citrus, other': 'other citrus fruit, n.e.c.',\n",
    "    'grapes and products (excl wine)': 'grapes',\n",
    "    'coffee and products': 'coffee, green',\n",
    "    'dates': 'dates',\n",
    "    'spices': 'other stimulant, spice and aromatic crops, n.e.c.',\n",
    "    'tea (including mate)': 'tea leaves',\n",
    "    'spices, other': 'other stimulant, spice and aromatic crops, n.e.c.',\n",
    "    'pimento': 'chillies and peppers, green (capsicum spp. and pimenta spp.)',\n",
    "    'cocoa beans and products': 'cocoa beans',\n",
    "    'pepper': 'pepper (piper spp.), raw',\n",
    "    'cloves': 'cloves (whole stems), raw',\n",
    "    'offals, edible': 'other meat of mammals, fresh or chilled',\n",
    "    'offals': 'other meat of mammals, fresh or chilled',\n",
    "    'meat': 'meat of chickens, fresh or chilled',\n",
    "    'poultry meat': 'meat of chickens, fresh or chilled',\n",
    "    'pigmeat': 'meat of pig with the bone, fresh or chilled',\n",
    "    'millet and products': 'millet',\n",
    "    'maize and products': 'maize (corn)',\n",
    "    'barley and products': 'barley'\n",
    "}\n",
    "\n",
    "# Standardize and map items in loss_volume\n",
    "loss_volume['Item_std'] = loss_volume['Item'].str.strip().str.lower()\n",
    "loss_volume['Item_mapped'] = loss_volume['Item_std'].map(item_mapping)\n",
    "\n",
    "# Only keep rows with a mapped item\n",
    "loss_volume_mapped = loss_volume[loss_volume['Item_mapped'].notnull()].copy()\n",
    "\n",
    "# Standardize producer_prices item names\n",
    "producer_prices['Item_std'] = producer_prices['Item'].str.strip().str.lower()\n",
    "\n",
    "# Hybrid approach: Fill missing prices with ASEAN and global averages for each item\n",
    "# Calculate ASEAN average price for each item (excluding the country in question)\n",
    "asean_avg_prices = (\n",
    "    producer_prices.groupby('Item_std')['Price (USD/tonne)']\n",
    "    .mean()\n",
    "    .rename('ASEAN_Avg_Price')\n",
    "    .reset_index()\n",
    ")\n",
    "\n",
    "# Calculate global average price for each item (from all available data)\n",
    "global_prices = fao_prices[\n",
    "    (fao_prices['Element'] == 'Producer Price (USD/tonne)')\n",
    "].copy()\n",
    "global_prices['Item_std'] = global_prices['Item'].str.strip().str.lower()\n",
    "global_avg_prices = (\n",
    "    global_prices.groupby('Item_std')['Value']\n",
    "    .mean()\n",
    "    .rename('Global_Avg_Price')\n",
    "    .reset_index()\n",
    ")\n",
    "\n",
    "# Merge ASEAN and global averages into loss_volume_mapped\n",
    "loss_volume_mapped = loss_volume_mapped.merge(\n",
    "    asean_avg_prices, left_on='Item_mapped', right_on='Item_std', how='left', suffixes=('', '_ASEAN')\n",
    ")\n",
    "loss_volume_mapped = loss_volume_mapped.merge(\n",
    "    global_avg_prices, left_on='Item_mapped', right_on='Item_std', how='left', suffixes=('', '_GLOBAL')\n",
    ")\n",
    "\n",
    "# Merge with producer_prices to get country-specific price if available\n",
    "merged = pd.merge(\n",
    "    loss_volume_mapped, producer_prices,\n",
    "    left_on=['Area', 'Item_mapped'],\n",
    "    right_on=['Area', 'Item_std'],\n",
    "    how='left',\n",
    "    suffixes=('', '_country')\n",
    ")\n",
    "\n",
    "# Choose price: country > ASEAN > global\n",
    "def choose_price(row):\n",
    "    if pd.notnull(row['Price (USD/tonne)']):\n",
    "        return row['Price (USD/tonne)']\n",
    "    elif pd.notnull(row['ASEAN_Avg_Price']):\n",
    "        return row['ASEAN_Avg_Price']\n",
    "    else:\n",
    "        return row['Global_Avg_Price']\n",
    "\n",
    "merged['Final_Price'] = merged.apply(choose_price, axis=1)\n",
    "merged = merged[merged['Final_Price'].notnull()].copy()\n",
    "\n",
    "merged['Financial Loss (USD)'] = merged['Losses (tonnes)'] * merged['Final_Price']\n",
    "\n",
    "financial_loss_df_detailed = merged.rename(columns={'Area': 'Country'})\n",
    "financial_loss_df_detailed = financial_loss_df_detailed.sort_values('Financial Loss (USD)', ascending=False)\n",
    "\n",
    "print(\"--- Comprehensive Financial Loss Data (Hybrid Price Filling) ---\")\n",
    "financial_loss_df_detailed[['Country', 'Item', 'Loss Year', 'Final_Price', 'Losses (tonnes)', 'Financial Loss (USD)']]"
   ]
  },
  {
   "cell_type": "code",
   "execution_count": 43,
   "id": "59a5304d",
   "metadata": {},
   "outputs": [
    {
     "name": "stdout",
     "output_type": "stream",
     "text": [
      "--- Total Financial Loss by Country (USD) ---\n"
     ]
    },
    {
     "data": {
      "application/vnd.microsoft.datawrangler.viewer.v0+json": {
       "columns": [
        {
         "name": "index",
         "rawType": "int64",
         "type": "integer"
        },
        {
         "name": "Country",
         "rawType": "object",
         "type": "string"
        },
        {
         "name": "Financial Loss (USD)",
         "rawType": "object",
         "type": "string"
        }
       ],
       "ref": "f7d40167-2b12-4583-bc71-170ff7895880",
       "rows": [
        [
         "1",
         "Indonesia",
         "28,406,356,192"
        ],
        [
         "7",
         "Viet Nam",
         "13,017,506,382"
        ],
        [
         "6",
         "Thailand",
         "7,635,115,728"
        ],
        [
         "4",
         "Myanmar",
         "5,893,983,708"
        ],
        [
         "5",
         "Philippines",
         "3,290,868,129"
        ],
        [
         "0",
         "Cambodia",
         "2,121,899,391"
        ],
        [
         "3",
         "Malaysia",
         "1,762,320,491"
        ],
        [
         "2",
         "Lao People's Democratic Republic",
         "1,651,359,452"
        ]
       ],
       "shape": {
        "columns": 2,
        "rows": 8
       }
      },
      "text/html": [
       "<div>\n",
       "<style scoped>\n",
       "    .dataframe tbody tr th:only-of-type {\n",
       "        vertical-align: middle;\n",
       "    }\n",
       "\n",
       "    .dataframe tbody tr th {\n",
       "        vertical-align: top;\n",
       "    }\n",
       "\n",
       "    .dataframe thead th {\n",
       "        text-align: right;\n",
       "    }\n",
       "</style>\n",
       "<table border=\"1\" class=\"dataframe\">\n",
       "  <thead>\n",
       "    <tr style=\"text-align: right;\">\n",
       "      <th></th>\n",
       "      <th>Country</th>\n",
       "      <th>Financial Loss (USD)</th>\n",
       "    </tr>\n",
       "  </thead>\n",
       "  <tbody>\n",
       "    <tr>\n",
       "      <th>1</th>\n",
       "      <td>Indonesia</td>\n",
       "      <td>28,406,356,192</td>\n",
       "    </tr>\n",
       "    <tr>\n",
       "      <th>7</th>\n",
       "      <td>Viet Nam</td>\n",
       "      <td>13,017,506,382</td>\n",
       "    </tr>\n",
       "    <tr>\n",
       "      <th>6</th>\n",
       "      <td>Thailand</td>\n",
       "      <td>7,635,115,728</td>\n",
       "    </tr>\n",
       "    <tr>\n",
       "      <th>4</th>\n",
       "      <td>Myanmar</td>\n",
       "      <td>5,893,983,708</td>\n",
       "    </tr>\n",
       "    <tr>\n",
       "      <th>5</th>\n",
       "      <td>Philippines</td>\n",
       "      <td>3,290,868,129</td>\n",
       "    </tr>\n",
       "    <tr>\n",
       "      <th>0</th>\n",
       "      <td>Cambodia</td>\n",
       "      <td>2,121,899,391</td>\n",
       "    </tr>\n",
       "    <tr>\n",
       "      <th>3</th>\n",
       "      <td>Malaysia</td>\n",
       "      <td>1,762,320,491</td>\n",
       "    </tr>\n",
       "    <tr>\n",
       "      <th>2</th>\n",
       "      <td>Lao People's Democratic Republic</td>\n",
       "      <td>1,651,359,452</td>\n",
       "    </tr>\n",
       "  </tbody>\n",
       "</table>\n",
       "</div>"
      ],
      "text/plain": [
       "                            Country Financial Loss (USD)\n",
       "1                         Indonesia       28,406,356,192\n",
       "7                          Viet Nam       13,017,506,382\n",
       "6                          Thailand        7,635,115,728\n",
       "4                           Myanmar        5,893,983,708\n",
       "5                       Philippines        3,290,868,129\n",
       "0                          Cambodia        2,121,899,391\n",
       "3                          Malaysia        1,762,320,491\n",
       "2  Lao People's Democratic Republic        1,651,359,452"
      ]
     },
     "execution_count": 43,
     "metadata": {},
     "output_type": "execute_result"
    }
   ],
   "source": [
    "# Summarize Financial Losses with formatted output\n",
    "financial_loss_by_country = financial_loss_df_detailed.groupby('Country')['Financial Loss (USD)'].sum().reset_index()\n",
    "financial_loss_by_country = financial_loss_by_country.sort_values('Financial Loss (USD)', ascending=False)\n",
    "\n",
    "# Format the numbers with commas and no scientific notation\n",
    "financial_loss_by_country_fmt = financial_loss_by_country.copy()\n",
    "financial_loss_by_country_fmt['Financial Loss (USD)'] = financial_loss_by_country_fmt['Financial Loss (USD)'].apply(lambda x: f\"{x:,.0f}\")\n",
    "\n",
    "print(\"--- Total Financial Loss by Country (USD) ---\")\n",
    "financial_loss_by_country_fmt"
   ]
  },
  {
   "cell_type": "markdown",
   "id": "d2ee5d77",
   "metadata": {},
   "source": [
    "### Archived\n",
    "> **Note:**  \n",
    "The code below was previously used to debug unwanted output during financial loss calculation. It is no longer needed, as the desired output has been achieved."
   ]
  },
  {
   "cell_type": "code",
   "execution_count": 44,
   "id": "fd4a070f",
   "metadata": {},
   "outputs": [
    {
     "name": "stdout",
     "output_type": "stream",
     "text": [
      "(387, 6)\n",
      "(387, 16)\n"
     ]
    }
   ],
   "source": [
    "print(loss_volume.shape)\n",
    "print(financial_loss_df_detailed.shape)"
   ]
  },
  {
   "cell_type": "code",
   "execution_count": 45,
   "id": "4ad629fd",
   "metadata": {},
   "outputs": [
    {
     "name": "stdout",
     "output_type": "stream",
     "text": [
      "Rows in loss_volume: 387\n",
      "Rows in loss_volume_mapped: 387\n",
      "Rows in financial_loss_df_detailed: 387\n"
     ]
    }
   ],
   "source": [
    "# Diagnostic: Check for loss_volume rows that are dropped after mapping and merging\n",
    "print(f\"Rows in loss_volume: {len(loss_volume)}\")\n",
    "print(f\"Rows in loss_volume_mapped: {len(loss_volume_mapped)}\")\n",
    "print(f\"Rows in financial_loss_df_detailed: {len(financial_loss_df_detailed)}\")"
   ]
  },
  {
   "cell_type": "code",
   "execution_count": 46,
   "id": "525f28cd",
   "metadata": {},
   "outputs": [
    {
     "name": "stdout",
     "output_type": "stream",
     "text": [
      "Items in loss_volume that are NOT present in item_mapping:\n",
      "[]\n",
      "Count: 0\n",
      "\n",
      "Mapped values NOT present in price data (global_avg_prices['Item_std']):\n",
      "[]\n",
      "Count: 0\n"
     ]
    }
   ],
   "source": [
    "# Diagnostic: Show which standardized item names from loss_volume are not present in the mapping dictionary\n",
    "unmapped_items = set(loss_volume['Item_std'].unique()) - set(item_mapping.keys())\n",
    "print(\"Items in loss_volume that are NOT present in item_mapping:\")\n",
    "print(sorted(unmapped_items))\n",
    "print(f\"Count: {len(unmapped_items)}\")\n",
    "\n",
    "# Diagnostic: Show which mapped values are not present in the price data (global_avg_prices['Item_std'])\n",
    "mapped_values = set(item_mapping.values())\n",
    "price_items = set(global_avg_prices['Item_std'].unique())\n",
    "not_in_price = mapped_values - price_items\n",
    "print(\"\\nMapped values NOT present in price data (global_avg_prices['Item_std']):\")\n",
    "print(sorted(not_in_price))\n",
    "print(f\"Count: {len(not_in_price)}\")"
   ]
  },
  {
   "cell_type": "code",
   "execution_count": 47,
   "id": "00c0cf3c",
   "metadata": {},
   "outputs": [
    {
     "name": "stdout",
     "output_type": "stream",
     "text": [
      "No not_in_price items found in fao_prices with other elements.\n"
     ]
    }
   ],
   "source": [
    "# For each item in not_in_price, check if it exists in fao_prices['Item'] with any other element (not 'Producer Price (USD/tonne)')\n",
    "not_in_price_items = list(not_in_price)\n",
    "other_element_rows = []\n",
    "\n",
    "for item in not_in_price_items:\n",
    "    # Find all rows in fao_prices where Item_std matches and Element is NOT 'Producer Price (USD/tonne)'\n",
    "    mask = (\n",
    "        (fao_prices['Item'].str.strip().str.lower() == item)\n",
    "        & (fao_prices['Element'] != 'Producer Price (USD/tonne)')\n",
    "    )\n",
    "    matches = fao_prices[mask]\n",
    "    if not matches.empty:\n",
    "        other_element_rows.append((item, matches['Element'].unique().tolist()))\n",
    "\n",
    "# Print the results\n",
    "for item, elements in other_element_rows:\n",
    "    print(f\"Item '{item}' found in fao_prices with elements (not Producer Price): {elements}\")\n",
    "\n",
    "if not other_element_rows:\n",
    "    print(\"No not_in_price items found in fao_prices with other elements.\")"
   ]
  },
  {
   "cell_type": "markdown",
   "id": "36e2e255",
   "metadata": {},
   "source": [
    "## Estimated Social Impact of Redistributing Edible Food Waste"
   ]
  },
  {
   "cell_type": "markdown",
   "id": "f84d63b0",
   "metadata": {},
   "source": [
    "### Household Waste Only"
   ]
  },
  {
   "cell_type": "code",
   "execution_count": 48,
   "id": "1fbb6e64",
   "metadata": {},
   "outputs": [
    {
     "name": "stdout",
     "output_type": "stream",
     "text": [
      "--- Estimated Social Impact of Redistributing Edible Food Waste ---\n"
     ]
    },
    {
     "data": {
      "application/vnd.microsoft.datawrangler.viewer.v0+json": {
       "columns": [
        {
         "name": "index",
         "rawType": "int64",
         "type": "integer"
        },
        {
         "name": "Country",
         "rawType": "object",
         "type": "string"
        },
        {
         "name": "People Fed Annually (from waste)",
         "rawType": "object",
         "type": "string"
        },
        {
         "name": "Food Insecure Population",
         "rawType": "object",
         "type": "string"
        },
        {
         "name": "Insecure Population Coverage (%)",
         "rawType": "object",
         "type": "string"
        }
       ],
       "ref": "9fa72c47-6361-434c-82a3-16356f4e9100",
       "rows": [
        [
         "0",
         "Indonesia",
         "12,610,125",
         "15,000,000",
         "84.07%"
        ],
        [
         "1",
         "Viet Nam",
         "6,085,308",
         "12,100,000",
         "50.29%"
        ],
        [
         "2",
         "Thailand",
         "5,033,738",
         "4,800,000",
         "104.87%"
        ],
        [
         "3",
         "Myanmar",
         "3,600,710",
         "20,000,000",
         "18.00%"
        ],
        [
         "4",
         "Philippines",
         "2,593,181",
         "52,700,000",
         "4.92%"
        ],
        [
         "5",
         "Malaysia",
         "2,288,528",
         "4,800,000",
         "47.68%"
        ],
        [
         "6",
         "Cambodia",
         "1,222,437",
         "9,000,000",
         "13.58%"
        ],
        [
         "7",
         "Lao People's Democratic Republic",
         "567,131",
         "2,900,000",
         "19.56%"
        ],
        [
         "8",
         "Singapore",
         "329,423",
         "500,000",
         "65.88%"
        ],
        [
         "9",
         "Brunei Darussalam",
         "28,048",
         "nan",
         "nan%"
        ]
       ],
       "shape": {
        "columns": 4,
        "rows": 10
       }
      },
      "text/html": [
       "<div>\n",
       "<style scoped>\n",
       "    .dataframe tbody tr th:only-of-type {\n",
       "        vertical-align: middle;\n",
       "    }\n",
       "\n",
       "    .dataframe tbody tr th {\n",
       "        vertical-align: top;\n",
       "    }\n",
       "\n",
       "    .dataframe thead th {\n",
       "        text-align: right;\n",
       "    }\n",
       "</style>\n",
       "<table border=\"1\" class=\"dataframe\">\n",
       "  <thead>\n",
       "    <tr style=\"text-align: right;\">\n",
       "      <th></th>\n",
       "      <th>Country</th>\n",
       "      <th>People Fed Annually (from waste)</th>\n",
       "      <th>Food Insecure Population</th>\n",
       "      <th>Insecure Population Coverage (%)</th>\n",
       "    </tr>\n",
       "  </thead>\n",
       "  <tbody>\n",
       "    <tr>\n",
       "      <th>0</th>\n",
       "      <td>Indonesia</td>\n",
       "      <td>12,610,125</td>\n",
       "      <td>15,000,000</td>\n",
       "      <td>84.07%</td>\n",
       "    </tr>\n",
       "    <tr>\n",
       "      <th>1</th>\n",
       "      <td>Viet Nam</td>\n",
       "      <td>6,085,308</td>\n",
       "      <td>12,100,000</td>\n",
       "      <td>50.29%</td>\n",
       "    </tr>\n",
       "    <tr>\n",
       "      <th>2</th>\n",
       "      <td>Thailand</td>\n",
       "      <td>5,033,738</td>\n",
       "      <td>4,800,000</td>\n",
       "      <td>104.87%</td>\n",
       "    </tr>\n",
       "    <tr>\n",
       "      <th>3</th>\n",
       "      <td>Myanmar</td>\n",
       "      <td>3,600,710</td>\n",
       "      <td>20,000,000</td>\n",
       "      <td>18.00%</td>\n",
       "    </tr>\n",
       "    <tr>\n",
       "      <th>4</th>\n",
       "      <td>Philippines</td>\n",
       "      <td>2,593,181</td>\n",
       "      <td>52,700,000</td>\n",
       "      <td>4.92%</td>\n",
       "    </tr>\n",
       "    <tr>\n",
       "      <th>5</th>\n",
       "      <td>Malaysia</td>\n",
       "      <td>2,288,528</td>\n",
       "      <td>4,800,000</td>\n",
       "      <td>47.68%</td>\n",
       "    </tr>\n",
       "    <tr>\n",
       "      <th>6</th>\n",
       "      <td>Cambodia</td>\n",
       "      <td>1,222,437</td>\n",
       "      <td>9,000,000</td>\n",
       "      <td>13.58%</td>\n",
       "    </tr>\n",
       "    <tr>\n",
       "      <th>7</th>\n",
       "      <td>Lao People's Democratic Republic</td>\n",
       "      <td>567,131</td>\n",
       "      <td>2,900,000</td>\n",
       "      <td>19.56%</td>\n",
       "    </tr>\n",
       "    <tr>\n",
       "      <th>8</th>\n",
       "      <td>Singapore</td>\n",
       "      <td>329,423</td>\n",
       "      <td>500,000</td>\n",
       "      <td>65.88%</td>\n",
       "    </tr>\n",
       "    <tr>\n",
       "      <th>9</th>\n",
       "      <td>Brunei Darussalam</td>\n",
       "      <td>28,048</td>\n",
       "      <td>nan</td>\n",
       "      <td>nan%</td>\n",
       "    </tr>\n",
       "  </tbody>\n",
       "</table>\n",
       "</div>"
      ],
      "text/plain": [
       "                            Country People Fed Annually (from waste)  \\\n",
       "0                         Indonesia                       12,610,125   \n",
       "1                          Viet Nam                        6,085,308   \n",
       "2                          Thailand                        5,033,738   \n",
       "3                           Myanmar                        3,600,710   \n",
       "4                       Philippines                        2,593,181   \n",
       "5                          Malaysia                        2,288,528   \n",
       "6                          Cambodia                        1,222,437   \n",
       "7  Lao People's Democratic Republic                          567,131   \n",
       "8                         Singapore                          329,423   \n",
       "9                 Brunei Darussalam                           28,048   \n",
       "\n",
       "  Food Insecure Population Insecure Population Coverage (%)  \n",
       "0               15,000,000                           84.07%  \n",
       "1               12,100,000                           50.29%  \n",
       "2                4,800,000                          104.87%  \n",
       "3               20,000,000                           18.00%  \n",
       "4               52,700,000                            4.92%  \n",
       "5                4,800,000                           47.68%  \n",
       "6                9,000,000                           13.58%  \n",
       "7                2,900,000                           19.56%  \n",
       "8                  500,000                           65.88%  \n",
       "9                      nan                             nan%  "
      ]
     },
     "execution_count": 48,
     "metadata": {},
     "output_type": "execute_result"
    }
   ],
   "source": [
    "# Assumptions for estimation\n",
    "\n",
    "# ASEAN average from Indonesia, Malaysia, Thailand studies (edible fraction, kcal/kg)\n",
    "EDIBLE_WASTE_PERCENTAGE = 0.38  # Edible portion of household waste\n",
    "KCAL_PER_KG_WASTE = 1477        # Caloric value per kg edible waste\n",
    "\n",
    "asean_countries = [\n",
    "    'Brunei Darussalam', 'Cambodia', 'Indonesia', 'Lao People\\'s Democratic Republic',\n",
    "    'Malaysia', 'Myanmar', 'Philippines', 'Singapore', 'Thailand', 'Viet Nam'\n",
    "]\n",
    "\n",
    "# Load household waste data\n",
    "household_waste = f_waste[f_waste['Country'].isin(asean_countries)][['Country', 'Household estimate (tonnes/year)']].copy()\n",
    "household_waste['Household estimate (tonnes/year)'] = household_waste['Household estimate (tonnes/year)'].astype(float)\n",
    "\n",
    "# Latest daily energy requirement per country\n",
    "daily_req = fao_fs[\n",
    "    (fao_fs['Area'].isin(asean_countries)) &\n",
    "    (fao_fs['Item'] == 'Minimum dietary energy requirement  (kcal/cap/day)')\n",
    "].sort_values('Year').drop_duplicates('Area', keep='last')\n",
    "daily_req['Value'] = daily_req['Value'].astype(float)\n",
    "daily_req = daily_req[['Area', 'Value']].rename(columns={'Value': 'Daily Caloric Requirement (kcal)'})\n",
    "\n",
    "# Latest food insecure population per country\n",
    "insecure_pop = fao_fs[\n",
    "    (fao_fs['Area'].isin(asean_countries)) &\n",
    "    (fao_fs['Item'] == 'Number of moderately or severely food insecure people (million) (3-year average)')\n",
    "].sort_values('Year').drop_duplicates('Area', keep='last')\n",
    "insecure_pop['Value'] = insecure_pop['Value'].astype(float) * 1_000_000\n",
    "insecure_pop = insecure_pop[['Area', 'Value']].rename(columns={'Value': 'Food Insecure Population'})\n",
    "\n",
    "# Calculate potential people fed from edible food waste\n",
    "social_impact_df = pd.merge(household_waste, daily_req, left_on='Country', right_on='Area')\n",
    "social_impact_df['Edible Waste (kg/yr)'] = social_impact_df['Household estimate (tonnes/year)'] * 1000 * EDIBLE_WASTE_PERCENTAGE\n",
    "social_impact_df['Total Wasted Calories (kcal/yr)'] = social_impact_df['Edible Waste (kg/yr)'] * KCAL_PER_KG_WASTE\n",
    "social_impact_df['Annual Caloric Requirement (kcal/yr)'] = social_impact_df['Daily Caloric Requirement (kcal)'] * 365\n",
    "social_impact_df['People Fed Annually (from waste)'] = (social_impact_df['Total Wasted Calories (kcal/yr)'] / social_impact_df['Annual Caloric Requirement (kcal/yr)']).round(0)\n",
    "\n",
    "# Merge with food insecure population for context\n",
    "social_impact_df = pd.merge(social_impact_df, insecure_pop, left_on='Country', right_on='Area', how='left')\n",
    "social_impact_df['Insecure Population Coverage (%)'] = (social_impact_df['People Fed Annually (from waste)'] / social_impact_df['Food Insecure Population']) * 100\n",
    "\n",
    "# Format output\n",
    "social_impact_household = social_impact_df[[\n",
    "    'Country',\n",
    "    'People Fed Annually (from waste)',\n",
    "    'Food Insecure Population',\n",
    "    'Insecure Population Coverage (%)'\n",
    "]].sort_values('People Fed Annually (from waste)', ascending=False).reset_index(drop=True)\n",
    "\n",
    "social_impact_household_fmt = social_impact_household.copy()\n",
    "social_impact_household_fmt['People Fed Annually (from waste)'] = social_impact_household['People Fed Annually (from waste)'].map('{:,.0f}'.format)\n",
    "social_impact_household_fmt['Food Insecure Population'] = social_impact_household['Food Insecure Population'].map('{:,.0f}'.format)\n",
    "social_impact_household_fmt['Insecure Population Coverage (%)'] = social_impact_household['Insecure Population Coverage (%)'].map('{:.2f}%'.format)\n",
    "\n",
    "print(\"--- Estimated Social Impact of Redistributing Edible Food Waste ---\")\n",
    "social_impact_household_fmt"
   ]
  },
  {
   "cell_type": "markdown",
   "id": "b4401272",
   "metadata": {},
   "source": [
    "### Total Food Waste"
   ]
  },
  {
   "cell_type": "code",
   "execution_count": 49,
   "id": "4cf0b473",
   "metadata": {},
   "outputs": [
    {
     "name": "stdout",
     "output_type": "stream",
     "text": [
      "--- Estimated Social Impact of Redistributing Edible Food Waste ---\n"
     ]
    },
    {
     "data": {
      "application/vnd.microsoft.datawrangler.viewer.v0+json": {
       "columns": [
        {
         "name": "index",
         "rawType": "int64",
         "type": "integer"
        },
        {
         "name": "Country",
         "rawType": "object",
         "type": "string"
        },
        {
         "name": "People Fed Annually (from waste)",
         "rawType": "object",
         "type": "string"
        },
        {
         "name": "Food Insecure Population",
         "rawType": "object",
         "type": "string"
        },
        {
         "name": "Insecure Population Coverage (%)",
         "rawType": "object",
         "type": "string"
        }
       ],
       "ref": "3bef80e8-b08b-4a85-9101-450ee206d36a",
       "rows": [
        [
         "0",
         "Indonesia",
         "32,089,465",
         "15,000,000",
         "213.93%"
        ],
        [
         "1",
         "Viet Nam",
         "12,921,298",
         "12,100,000",
         "106.79%"
        ],
        [
         "2",
         "Thailand",
         "10,514,810",
         "4,800,000",
         "219.06%"
        ],
        [
         "3",
         "Philippines",
         "9,344,638",
         "52,700,000",
         "17.73%"
        ],
        [
         "4",
         "Myanmar",
         "8,718,702",
         "20,000,000",
         "43.59%"
        ],
        [
         "5",
         "Malaysia",
         "7,171,796",
         "4,800,000",
         "149.41%"
        ],
        [
         "6",
         "Cambodia",
         "2,467,351",
         "9,000,000",
         "27.42%"
        ],
        [
         "7",
         "Lao People's Democratic Republic",
         "1,356,839",
         "2,900,000",
         "46.79%"
        ],
        [
         "8",
         "Singapore",
         "741,118",
         "500,000",
         "148.22%"
        ],
        [
         "9",
         "Brunei Darussalam",
         "145,046",
         "nan",
         "nan%"
        ]
       ],
       "shape": {
        "columns": 4,
        "rows": 10
       }
      },
      "text/html": [
       "<div>\n",
       "<style scoped>\n",
       "    .dataframe tbody tr th:only-of-type {\n",
       "        vertical-align: middle;\n",
       "    }\n",
       "\n",
       "    .dataframe tbody tr th {\n",
       "        vertical-align: top;\n",
       "    }\n",
       "\n",
       "    .dataframe thead th {\n",
       "        text-align: right;\n",
       "    }\n",
       "</style>\n",
       "<table border=\"1\" class=\"dataframe\">\n",
       "  <thead>\n",
       "    <tr style=\"text-align: right;\">\n",
       "      <th></th>\n",
       "      <th>Country</th>\n",
       "      <th>People Fed Annually (from waste)</th>\n",
       "      <th>Food Insecure Population</th>\n",
       "      <th>Insecure Population Coverage (%)</th>\n",
       "    </tr>\n",
       "  </thead>\n",
       "  <tbody>\n",
       "    <tr>\n",
       "      <th>0</th>\n",
       "      <td>Indonesia</td>\n",
       "      <td>32,089,465</td>\n",
       "      <td>15,000,000</td>\n",
       "      <td>213.93%</td>\n",
       "    </tr>\n",
       "    <tr>\n",
       "      <th>1</th>\n",
       "      <td>Viet Nam</td>\n",
       "      <td>12,921,298</td>\n",
       "      <td>12,100,000</td>\n",
       "      <td>106.79%</td>\n",
       "    </tr>\n",
       "    <tr>\n",
       "      <th>2</th>\n",
       "      <td>Thailand</td>\n",
       "      <td>10,514,810</td>\n",
       "      <td>4,800,000</td>\n",
       "      <td>219.06%</td>\n",
       "    </tr>\n",
       "    <tr>\n",
       "      <th>3</th>\n",
       "      <td>Philippines</td>\n",
       "      <td>9,344,638</td>\n",
       "      <td>52,700,000</td>\n",
       "      <td>17.73%</td>\n",
       "    </tr>\n",
       "    <tr>\n",
       "      <th>4</th>\n",
       "      <td>Myanmar</td>\n",
       "      <td>8,718,702</td>\n",
       "      <td>20,000,000</td>\n",
       "      <td>43.59%</td>\n",
       "    </tr>\n",
       "    <tr>\n",
       "      <th>5</th>\n",
       "      <td>Malaysia</td>\n",
       "      <td>7,171,796</td>\n",
       "      <td>4,800,000</td>\n",
       "      <td>149.41%</td>\n",
       "    </tr>\n",
       "    <tr>\n",
       "      <th>6</th>\n",
       "      <td>Cambodia</td>\n",
       "      <td>2,467,351</td>\n",
       "      <td>9,000,000</td>\n",
       "      <td>27.42%</td>\n",
       "    </tr>\n",
       "    <tr>\n",
       "      <th>7</th>\n",
       "      <td>Lao People's Democratic Republic</td>\n",
       "      <td>1,356,839</td>\n",
       "      <td>2,900,000</td>\n",
       "      <td>46.79%</td>\n",
       "    </tr>\n",
       "    <tr>\n",
       "      <th>8</th>\n",
       "      <td>Singapore</td>\n",
       "      <td>741,118</td>\n",
       "      <td>500,000</td>\n",
       "      <td>148.22%</td>\n",
       "    </tr>\n",
       "    <tr>\n",
       "      <th>9</th>\n",
       "      <td>Brunei Darussalam</td>\n",
       "      <td>145,046</td>\n",
       "      <td>nan</td>\n",
       "      <td>nan%</td>\n",
       "    </tr>\n",
       "  </tbody>\n",
       "</table>\n",
       "</div>"
      ],
      "text/plain": [
       "                            Country People Fed Annually (from waste)  \\\n",
       "0                         Indonesia                       32,089,465   \n",
       "1                          Viet Nam                       12,921,298   \n",
       "2                          Thailand                       10,514,810   \n",
       "3                       Philippines                        9,344,638   \n",
       "4                           Myanmar                        8,718,702   \n",
       "5                          Malaysia                        7,171,796   \n",
       "6                          Cambodia                        2,467,351   \n",
       "7  Lao People's Democratic Republic                        1,356,839   \n",
       "8                         Singapore                          741,118   \n",
       "9                 Brunei Darussalam                          145,046   \n",
       "\n",
       "  Food Insecure Population Insecure Population Coverage (%)  \n",
       "0               15,000,000                          213.93%  \n",
       "1               12,100,000                          106.79%  \n",
       "2                4,800,000                          219.06%  \n",
       "3               52,700,000                           17.73%  \n",
       "4               20,000,000                           43.59%  \n",
       "5                4,800,000                          149.41%  \n",
       "6                9,000,000                           27.42%  \n",
       "7                2,900,000                           46.79%  \n",
       "8                  500,000                          148.22%  \n",
       "9                      nan                             nan%  "
      ]
     },
     "execution_count": 49,
     "metadata": {},
     "output_type": "execute_result"
    }
   ],
   "source": [
    "# Assumptions for estimation\n",
    "\n",
    "# ASEAN-wide assumptions for edible waste composition and caloric density\n",
    "EDIBLE_WASTE_PERCENTAGE = 0.5  # Edible fraction of consumer-level waste\n",
    "KCAL_PER_KG_WASTE = 1477       # Caloric value per kg edible waste\n",
    "\n",
    "asean_countries = [\n",
    "    'Brunei Darussalam', 'Cambodia', 'Indonesia', 'Lao People\\'s Democratic Republic',\n",
    "    'Malaysia', 'Myanmar', 'Philippines', 'Singapore', 'Thailand', 'Viet Nam'\n",
    "]\n",
    "\n",
    "# Load total food waste data (household + retail + food service)\n",
    "waste_cols = [\n",
    "    'Household estimate (tonnes/year)',\n",
    "    'Retail estimate (tonnes/year)',\n",
    "    'Food service estimate (tonnes/year)'\n",
    "]\n",
    "total_waste = f_waste[f_waste['Country'].isin(asean_countries)][['Country'] + waste_cols].copy()\n",
    "total_waste = total_waste.replace('-', pd.NA).infer_objects(copy=False)\n",
    "for col in waste_cols:\n",
    "    total_waste[col] = total_waste[col].astype('Int64')\n",
    "\n",
    "# Impute missing Food service estimate (tonnes/year) using average ratio to (household + retail)\n",
    "cols = [\n",
    "    'Household estimate (tonnes/year)',\n",
    "    'Retail estimate (tonnes/year)',\n",
    "    'Food service estimate (tonnes/year)'\n",
    "]\n",
    "total_waste[cols] = total_waste[cols].apply(pd.to_numeric, errors='coerce')\n",
    "mask = total_waste[cols].notna().all(axis=1)\n",
    "avg_ratio = (\n",
    "    total_waste.loc[mask, 'Food service estimate (tonnes/year)'] /\n",
    "    (total_waste.loc[mask, 'Household estimate (tonnes/year)'] + total_waste.loc[mask, 'Retail estimate (tonnes/year)'])\n",
    ").mean()\n",
    "missing = total_waste['Food service estimate (tonnes/year)'].isna()\n",
    "sum_hr = total_waste.loc[missing, 'Household estimate (tonnes/year)'] + total_waste.loc[missing, 'Retail estimate (tonnes/year)']\n",
    "total_waste.loc[missing, 'Food service estimate (tonnes/year)'] = (sum_hr * avg_ratio).round().astype('Int64')\n",
    "\n",
    "total_waste['Total Food Waste (tonnes/year)'] = total_waste[waste_cols].sum(axis=1)\n",
    "\n",
    "# Latest daily energy requirement per country\n",
    "daily_req = fao_fs[\n",
    "    (fao_fs['Area'].isin(asean_countries)) &\n",
    "    (fao_fs['Item'] == 'Minimum dietary energy requirement  (kcal/cap/day)')\n",
    "].sort_values('Year').drop_duplicates('Area', keep='last')\n",
    "daily_req['Value'] = daily_req['Value'].astype(float)\n",
    "daily_req = daily_req[['Area', 'Value']].rename(columns={'Value': 'Daily Caloric Requirement (kcal)'})\n",
    "\n",
    "# Latest food insecure population per country\n",
    "insecure_pop = fao_fs[\n",
    "    (fao_fs['Area'].isin(asean_countries)) &\n",
    "    (fao_fs['Item'] == 'Number of moderately or severely food insecure people (million) (3-year average)')\n",
    "].sort_values('Year').drop_duplicates('Area', keep='last')\n",
    "insecure_pop['Value'] = insecure_pop['Value'].astype(float) * 1_000_000\n",
    "insecure_pop = insecure_pop[['Area', 'Value']].rename(columns={'Value': 'Food Insecure Population'})\n",
    "\n",
    "# Calculate potential people fed from edible food waste (using total waste)\n",
    "social_impact_df = pd.merge(total_waste, daily_req, left_on='Country', right_on='Area')\n",
    "social_impact_df['Edible Waste (kg/yr)'] = social_impact_df['Total Food Waste (tonnes/year)'] * 1000 * EDIBLE_WASTE_PERCENTAGE\n",
    "social_impact_df['Total Wasted Calories (kcal/yr)'] = social_impact_df['Edible Waste (kg/yr)'] * KCAL_PER_KG_WASTE\n",
    "social_impact_df['Annual Caloric Requirement (kcal/yr)'] = social_impact_df['Daily Caloric Requirement (kcal)'] * 365\n",
    "social_impact_df['People Fed Annually (from waste)'] = (social_impact_df['Total Wasted Calories (kcal/yr)'] / social_impact_df['Annual Caloric Requirement (kcal/yr)']).round(0)\n",
    "\n",
    "# Merge with food insecure population for context\n",
    "social_impact_df = pd.merge(social_impact_df, insecure_pop, left_on='Country', right_on='Area', how='left')\n",
    "social_impact_df['Insecure Population Coverage (%)'] = (social_impact_df['People Fed Annually (from waste)'] / social_impact_df['Food Insecure Population']) * 100\n",
    "\n",
    "# Format output\n",
    "social_impact_total = social_impact_df[[\n",
    "    'Country',\n",
    "    'People Fed Annually (from waste)',\n",
    "    'Food Insecure Population',\n",
    "    'Insecure Population Coverage (%)'\n",
    "]].sort_values('People Fed Annually (from waste)', ascending=False).reset_index(drop=True)\n",
    "\n",
    "social_impact_total_fmt = social_impact_total.copy()\n",
    "social_impact_total_fmt['People Fed Annually (from waste)'] = social_impact_total['People Fed Annually (from waste)'].map('{:,.0f}'.format)\n",
    "social_impact_total_fmt['Food Insecure Population'] = social_impact_total['Food Insecure Population'].map('{:,.0f}'.format)\n",
    "social_impact_total_fmt['Insecure Population Coverage (%)'] = social_impact_total['Insecure Population Coverage (%)'].map('{:.2f}%'.format)\n",
    "\n",
    "print(\"--- Estimated Social Impact of Redistributing Edible Food Waste ---\")\n",
    "social_impact_total_fmt"
   ]
  },
  {
   "cell_type": "markdown",
   "id": "a94c64e7",
   "metadata": {},
   "source": [
    "## Estimated Environmental Impact of Food Loss and Waste"
   ]
  },
  {
   "cell_type": "markdown",
   "id": "4ad4c921",
   "metadata": {},
   "source": [
    "### Method: Using GHG Emissions Factors of food loss/waste"
   ]
  },
  {
   "cell_type": "code",
   "execution_count": 55,
   "id": "ea2552f4",
   "metadata": {},
   "outputs": [
    {
     "name": "stdout",
     "output_type": "stream",
     "text": [
      "--- Estimated Environmental Impact of Food Loss and Waste ---\n"
     ]
    },
    {
     "data": {
      "application/vnd.microsoft.datawrangler.viewer.v0+json": {
       "columns": [
        {
         "name": "index",
         "rawType": "int64",
         "type": "integer"
        },
        {
         "name": "Country",
         "rawType": "object",
         "type": "string"
        },
        {
         "name": "Total Food Loss (tonnes/year)",
         "rawType": "object",
         "type": "string"
        },
        {
         "name": "Total Food Waste (tonnes/year)",
         "rawType": "object",
         "type": "string"
        },
        {
         "name": "Total Loss and Waste (tonnes)",
         "rawType": "object",
         "type": "string"
        },
        {
         "name": "Estimated GHG Emissions (tonnes CO2eq)",
         "rawType": "object",
         "type": "string"
        }
       ],
       "ref": "2ff854bf-12e5-4189-873a-8324f79f3745",
       "rows": [
        [
         "0",
         "Indonesia",
         "91,127,000",
         "28,484,669",
         "119,611,669",
         "299,029,172"
        ],
        [
         "1",
         "Viet Nam",
         "17,835,000",
         "11,425,069",
         "29,260,069",
         "73,150,172"
        ],
        [
         "2",
         "Thailand",
         "13,955,000",
         "9,811,734",
         "23,766,734",
         "59,416,835"
        ],
        [
         "3",
         "Myanmar",
         "7,498,000",
         "7,769,444",
         "15,267,444",
         "38,168,610"
        ],
        [
         "4",
         "Philippines",
         "7,013,000",
         "8,091,685",
         "15,104,685",
         "37,761,712"
        ],
        [
         "5",
         "Malaysia",
         "4,151,000",
         "6,561,101",
         "10,712,101",
         "26,780,252"
        ],
        [
         "6",
         "Cambodia",
         "3,159,000",
         "2,177,984",
         "5,336,984",
         "13,342,460"
        ],
        [
         "7",
         "Lao People's Democratic Republic",
         "2,451,000",
         "1,225,206",
         "3,676,206",
         "9,190,515"
        ],
        [
         "8",
         "Singapore",
         "0",
         "699,621",
         "699,621",
         "1,749,052"
        ],
        [
         "9",
         "Brunei Darussalam",
         "0",
         "134,057",
         "134,057",
         "335,142"
        ]
       ],
       "shape": {
        "columns": 5,
        "rows": 10
       }
      },
      "text/html": [
       "<div>\n",
       "<style scoped>\n",
       "    .dataframe tbody tr th:only-of-type {\n",
       "        vertical-align: middle;\n",
       "    }\n",
       "\n",
       "    .dataframe tbody tr th {\n",
       "        vertical-align: top;\n",
       "    }\n",
       "\n",
       "    .dataframe thead th {\n",
       "        text-align: right;\n",
       "    }\n",
       "</style>\n",
       "<table border=\"1\" class=\"dataframe\">\n",
       "  <thead>\n",
       "    <tr style=\"text-align: right;\">\n",
       "      <th></th>\n",
       "      <th>Country</th>\n",
       "      <th>Total Food Loss (tonnes/year)</th>\n",
       "      <th>Total Food Waste (tonnes/year)</th>\n",
       "      <th>Total Loss and Waste (tonnes)</th>\n",
       "      <th>Estimated GHG Emissions (tonnes CO2eq)</th>\n",
       "    </tr>\n",
       "  </thead>\n",
       "  <tbody>\n",
       "    <tr>\n",
       "      <th>0</th>\n",
       "      <td>Indonesia</td>\n",
       "      <td>91,127,000</td>\n",
       "      <td>28,484,669</td>\n",
       "      <td>119,611,669</td>\n",
       "      <td>299,029,172</td>\n",
       "    </tr>\n",
       "    <tr>\n",
       "      <th>1</th>\n",
       "      <td>Viet Nam</td>\n",
       "      <td>17,835,000</td>\n",
       "      <td>11,425,069</td>\n",
       "      <td>29,260,069</td>\n",
       "      <td>73,150,172</td>\n",
       "    </tr>\n",
       "    <tr>\n",
       "      <th>2</th>\n",
       "      <td>Thailand</td>\n",
       "      <td>13,955,000</td>\n",
       "      <td>9,811,734</td>\n",
       "      <td>23,766,734</td>\n",
       "      <td>59,416,835</td>\n",
       "    </tr>\n",
       "    <tr>\n",
       "      <th>3</th>\n",
       "      <td>Myanmar</td>\n",
       "      <td>7,498,000</td>\n",
       "      <td>7,769,444</td>\n",
       "      <td>15,267,444</td>\n",
       "      <td>38,168,610</td>\n",
       "    </tr>\n",
       "    <tr>\n",
       "      <th>4</th>\n",
       "      <td>Philippines</td>\n",
       "      <td>7,013,000</td>\n",
       "      <td>8,091,685</td>\n",
       "      <td>15,104,685</td>\n",
       "      <td>37,761,712</td>\n",
       "    </tr>\n",
       "    <tr>\n",
       "      <th>5</th>\n",
       "      <td>Malaysia</td>\n",
       "      <td>4,151,000</td>\n",
       "      <td>6,561,101</td>\n",
       "      <td>10,712,101</td>\n",
       "      <td>26,780,252</td>\n",
       "    </tr>\n",
       "    <tr>\n",
       "      <th>6</th>\n",
       "      <td>Cambodia</td>\n",
       "      <td>3,159,000</td>\n",
       "      <td>2,177,984</td>\n",
       "      <td>5,336,984</td>\n",
       "      <td>13,342,460</td>\n",
       "    </tr>\n",
       "    <tr>\n",
       "      <th>7</th>\n",
       "      <td>Lao People's Democratic Republic</td>\n",
       "      <td>2,451,000</td>\n",
       "      <td>1,225,206</td>\n",
       "      <td>3,676,206</td>\n",
       "      <td>9,190,515</td>\n",
       "    </tr>\n",
       "    <tr>\n",
       "      <th>8</th>\n",
       "      <td>Singapore</td>\n",
       "      <td>0</td>\n",
       "      <td>699,621</td>\n",
       "      <td>699,621</td>\n",
       "      <td>1,749,052</td>\n",
       "    </tr>\n",
       "    <tr>\n",
       "      <th>9</th>\n",
       "      <td>Brunei Darussalam</td>\n",
       "      <td>0</td>\n",
       "      <td>134,057</td>\n",
       "      <td>134,057</td>\n",
       "      <td>335,142</td>\n",
       "    </tr>\n",
       "  </tbody>\n",
       "</table>\n",
       "</div>"
      ],
      "text/plain": [
       "                            Country Total Food Loss (tonnes/year)  \\\n",
       "0                         Indonesia                    91,127,000   \n",
       "1                          Viet Nam                    17,835,000   \n",
       "2                          Thailand                    13,955,000   \n",
       "3                           Myanmar                     7,498,000   \n",
       "4                       Philippines                     7,013,000   \n",
       "5                          Malaysia                     4,151,000   \n",
       "6                          Cambodia                     3,159,000   \n",
       "7  Lao People's Democratic Republic                     2,451,000   \n",
       "8                         Singapore                             0   \n",
       "9                 Brunei Darussalam                             0   \n",
       "\n",
       "  Total Food Waste (tonnes/year) Total Loss and Waste (tonnes)  \\\n",
       "0                     28,484,669                   119,611,669   \n",
       "1                     11,425,069                    29,260,069   \n",
       "2                      9,811,734                    23,766,734   \n",
       "3                      7,769,444                    15,267,444   \n",
       "4                      8,091,685                    15,104,685   \n",
       "5                      6,561,101                    10,712,101   \n",
       "6                      2,177,984                     5,336,984   \n",
       "7                      1,225,206                     3,676,206   \n",
       "8                        699,621                       699,621   \n",
       "9                        134,057                       134,057   \n",
       "\n",
       "  Estimated GHG Emissions (tonnes CO2eq)  \n",
       "0                            299,029,172  \n",
       "1                             73,150,172  \n",
       "2                             59,416,835  \n",
       "3                             38,168,610  \n",
       "4                             37,761,712  \n",
       "5                             26,780,252  \n",
       "6                             13,342,460  \n",
       "7                              9,190,515  \n",
       "8                              1,749,052  \n",
       "9                                335,142  "
      ]
     },
     "execution_count": 55,
     "metadata": {},
     "output_type": "execute_result"
    }
   ],
   "source": [
    "# Emission factor: 2.5 tonnes CO2eq per tonne of food loss/waste\n",
    "GHG_EMISSION_FACTOR = 2.5\n",
    "\n",
    "asean_countries = [\n",
    "    'Brunei Darussalam', 'Cambodia', 'Indonesia', 'Lao People\\'s Democratic Republic',\n",
    "    'Malaysia', 'Myanmar', 'Philippines', 'Singapore', 'Thailand', 'Viet Nam'\n",
    "]\n",
    "\n",
    "total_loss_per_country = loss_volume.groupby('Area')['Losses (tonnes)'].sum().reset_index()\n",
    "total_loss_per_country = total_loss_per_country.rename(columns={'Area': 'Country', 'Losses (tonnes)': 'Total Food Loss (tonnes/year)'})\n",
    "\n",
    "# Get total food waste per country from total_waste from previous analysis\n",
    "total_waste_ghg = total_waste[['Country', 'Total Food Waste (tonnes/year)']].copy()\n",
    "\n",
    "# Combine loss & waste, calculate GHG emissions\n",
    "environmental_impact = pd.merge(total_loss_per_country, total_waste_ghg, on='Country', how='outer').fillna(0)\n",
    "environmental_impact['Total Loss and Waste (tonnes)'] = (\n",
    "    environmental_impact['Total Food Loss (tonnes/year)'] + environmental_impact['Total Food Waste (tonnes/year)']\n",
    ")\n",
    "environmental_impact['Estimated GHG Emissions (tonnes CO2eq)'] = (\n",
    "    environmental_impact['Total Loss and Waste (tonnes)'] * GHG_EMISSION_FACTOR\n",
    ")\n",
    "environmental_impact = (\n",
    "    environmental_impact\n",
    "    .sort_values(by='Total Loss and Waste (tonnes)', ascending=False)\n",
    "    .reset_index(drop=True)\n",
    ")\n",
    "\n",
    "# Format output\n",
    "environmental_impact_fmt = environmental_impact.copy()\n",
    "for col in [\n",
    "    'Total Food Loss (tonnes/year)', 'Total Food Waste (tonnes/year)',\n",
    "    'Total Loss and Waste (tonnes)', 'Estimated GHG Emissions (tonnes CO2eq)'\n",
    "    ]:\n",
    "    environmental_impact_fmt[col] = environmental_impact_fmt[col].map('{:,.0f}'.format)\n",
    "\n",
    "print(\"--- Estimated Environmental Impact of Food Loss and Waste ---\")\n",
    "environmental_impact_fmt"
   ]
  },
  {
   "cell_type": "markdown",
   "id": "76aab9e8",
   "metadata": {},
   "source": [
    "### Method: Using emissions per capita and population data (Waste Emissions)"
   ]
  },
  {
   "cell_type": "code",
   "execution_count": 349,
   "id": "1794f7c5",
   "metadata": {},
   "outputs": [
    {
     "name": "stdout",
     "output_type": "stream",
     "text": [
      "--- Estimated GHG Emissions from Waste (Per Capita Method, tonnes) ---\n"
     ]
    },
    {
     "data": {
      "application/vnd.microsoft.datawrangler.viewer.v0+json": {
       "columns": [
        {
         "name": "index",
         "rawType": "int64",
         "type": "integer"
        },
        {
         "name": "Country",
         "rawType": "object",
         "type": "string"
        },
        {
         "name": "Emission Data Year",
         "rawType": "int64",
         "type": "integer"
        },
        {
         "name": "Emissions per Capita (tonnes CO2eq)",
         "rawType": "float64",
         "type": "float"
        },
        {
         "name": "Population Year",
         "rawType": "int64",
         "type": "integer"
        },
        {
         "name": "Total Population",
         "rawType": "object",
         "type": "string"
        },
        {
         "name": "Total Emissions (tonnes CO2eq)",
         "rawType": "object",
         "type": "string"
        }
       ],
       "ref": "d439aedb-3280-4d8d-b19a-16d2c2fab22e",
       "rows": [
        [
         "0",
         "Indonesia",
         "2022",
         "0.33",
         "2022",
         "278,830,529",
         "92,014,075"
        ],
        [
         "1",
         "Thailand",
         "2022",
         "0.44",
         "2022",
         "71,735,329",
         "31,563,545"
        ],
        [
         "2",
         "Viet Nam",
         "2022",
         "0.28",
         "2022",
         "99,680,655",
         "27,910,583"
        ],
        [
         "3",
         "Philippines",
         "2022",
         "0.21",
         "2022",
         "113,964,339",
         "23,932,511"
        ],
        [
         "4",
         "Malaysia",
         "2022",
         "0.5",
         "2022",
         "34,695,493",
         "17,347,746"
        ],
        [
         "5",
         "Myanmar",
         "2022",
         "0.2",
         "2022",
         "53,756,787",
         "10,751,357"
        ],
        [
         "6",
         "Singapore",
         "2022",
         "0.85",
         "2022",
         "5,649,885",
         "4,802,402"
        ],
        [
         "7",
         "Cambodia",
         "2022",
         "0.2",
         "2022",
         "17,201,724",
         "3,440,345"
        ],
        [
         "8",
         "Lao People's Democratic Republic",
         "2022",
         "0.22",
         "2022",
         "7,559,007",
         "1,662,982"
        ],
        [
         "9",
         "Brunei Darussalam",
         "2022",
         "0.35",
         "2022",
         "455,370",
         "159,380"
        ]
       ],
       "shape": {
        "columns": 6,
        "rows": 10
       }
      },
      "text/html": [
       "<div>\n",
       "<style scoped>\n",
       "    .dataframe tbody tr th:only-of-type {\n",
       "        vertical-align: middle;\n",
       "    }\n",
       "\n",
       "    .dataframe tbody tr th {\n",
       "        vertical-align: top;\n",
       "    }\n",
       "\n",
       "    .dataframe thead th {\n",
       "        text-align: right;\n",
       "    }\n",
       "</style>\n",
       "<table border=\"1\" class=\"dataframe\">\n",
       "  <thead>\n",
       "    <tr style=\"text-align: right;\">\n",
       "      <th></th>\n",
       "      <th>Country</th>\n",
       "      <th>Emission Data Year</th>\n",
       "      <th>Emissions per Capita (tonnes CO2eq)</th>\n",
       "      <th>Population Year</th>\n",
       "      <th>Total Population</th>\n",
       "      <th>Total Emissions (tonnes CO2eq)</th>\n",
       "    </tr>\n",
       "  </thead>\n",
       "  <tbody>\n",
       "    <tr>\n",
       "      <th>0</th>\n",
       "      <td>Indonesia</td>\n",
       "      <td>2022</td>\n",
       "      <td>0.33</td>\n",
       "      <td>2022</td>\n",
       "      <td>278,830,529</td>\n",
       "      <td>92,014,075</td>\n",
       "    </tr>\n",
       "    <tr>\n",
       "      <th>1</th>\n",
       "      <td>Thailand</td>\n",
       "      <td>2022</td>\n",
       "      <td>0.44</td>\n",
       "      <td>2022</td>\n",
       "      <td>71,735,329</td>\n",
       "      <td>31,563,545</td>\n",
       "    </tr>\n",
       "    <tr>\n",
       "      <th>2</th>\n",
       "      <td>Viet Nam</td>\n",
       "      <td>2022</td>\n",
       "      <td>0.28</td>\n",
       "      <td>2022</td>\n",
       "      <td>99,680,655</td>\n",
       "      <td>27,910,583</td>\n",
       "    </tr>\n",
       "    <tr>\n",
       "      <th>3</th>\n",
       "      <td>Philippines</td>\n",
       "      <td>2022</td>\n",
       "      <td>0.21</td>\n",
       "      <td>2022</td>\n",
       "      <td>113,964,339</td>\n",
       "      <td>23,932,511</td>\n",
       "    </tr>\n",
       "    <tr>\n",
       "      <th>4</th>\n",
       "      <td>Malaysia</td>\n",
       "      <td>2022</td>\n",
       "      <td>0.50</td>\n",
       "      <td>2022</td>\n",
       "      <td>34,695,493</td>\n",
       "      <td>17,347,746</td>\n",
       "    </tr>\n",
       "    <tr>\n",
       "      <th>5</th>\n",
       "      <td>Myanmar</td>\n",
       "      <td>2022</td>\n",
       "      <td>0.20</td>\n",
       "      <td>2022</td>\n",
       "      <td>53,756,787</td>\n",
       "      <td>10,751,357</td>\n",
       "    </tr>\n",
       "    <tr>\n",
       "      <th>6</th>\n",
       "      <td>Singapore</td>\n",
       "      <td>2022</td>\n",
       "      <td>0.85</td>\n",
       "      <td>2022</td>\n",
       "      <td>5,649,885</td>\n",
       "      <td>4,802,402</td>\n",
       "    </tr>\n",
       "    <tr>\n",
       "      <th>7</th>\n",
       "      <td>Cambodia</td>\n",
       "      <td>2022</td>\n",
       "      <td>0.20</td>\n",
       "      <td>2022</td>\n",
       "      <td>17,201,724</td>\n",
       "      <td>3,440,345</td>\n",
       "    </tr>\n",
       "    <tr>\n",
       "      <th>8</th>\n",
       "      <td>Lao People's Democratic Republic</td>\n",
       "      <td>2022</td>\n",
       "      <td>0.22</td>\n",
       "      <td>2022</td>\n",
       "      <td>7,559,007</td>\n",
       "      <td>1,662,982</td>\n",
       "    </tr>\n",
       "    <tr>\n",
       "      <th>9</th>\n",
       "      <td>Brunei Darussalam</td>\n",
       "      <td>2022</td>\n",
       "      <td>0.35</td>\n",
       "      <td>2022</td>\n",
       "      <td>455,370</td>\n",
       "      <td>159,380</td>\n",
       "    </tr>\n",
       "  </tbody>\n",
       "</table>\n",
       "</div>"
      ],
      "text/plain": [
       "                            Country  Emission Data Year  \\\n",
       "0                         Indonesia                2022   \n",
       "1                          Thailand                2022   \n",
       "2                          Viet Nam                2022   \n",
       "3                       Philippines                2022   \n",
       "4                          Malaysia                2022   \n",
       "5                           Myanmar                2022   \n",
       "6                         Singapore                2022   \n",
       "7                          Cambodia                2022   \n",
       "8  Lao People's Democratic Republic                2022   \n",
       "9                 Brunei Darussalam                2022   \n",
       "\n",
       "   Emissions per Capita (tonnes CO2eq)  Population Year Total Population  \\\n",
       "0                                 0.33             2022      278,830,529   \n",
       "1                                 0.44             2022       71,735,329   \n",
       "2                                 0.28             2022       99,680,655   \n",
       "3                                 0.21             2022      113,964,339   \n",
       "4                                 0.50             2022       34,695,493   \n",
       "5                                 0.20             2022       53,756,787   \n",
       "6                                 0.85             2022        5,649,885   \n",
       "7                                 0.20             2022       17,201,724   \n",
       "8                                 0.22             2022        7,559,007   \n",
       "9                                 0.35             2022          455,370   \n",
       "\n",
       "  Total Emissions (tonnes CO2eq)  \n",
       "0                     92,014,075  \n",
       "1                     31,563,545  \n",
       "2                     27,910,583  \n",
       "3                     23,932,511  \n",
       "4                     17,347,746  \n",
       "5                     10,751,357  \n",
       "6                      4,802,402  \n",
       "7                      3,440,345  \n",
       "8                      1,662,982  \n",
       "9                        159,380  "
      ]
     },
     "execution_count": 349,
     "metadata": {},
     "output_type": "execute_result"
    }
   ],
   "source": [
    "asean_countries = [\n",
    "    'Brunei Darussalam', 'Cambodia', 'Indonesia', 'Lao People\\'s Democratic Republic',\n",
    "    'Malaysia', 'Myanmar', 'Philippines', 'Singapore', 'Thailand', 'Viet Nam'\n",
    "]\n",
    "\n",
    "# Emissions per capita from waste (latest year per country)\n",
    "emissions_per_capita = (\n",
    "    fao_emissions[\n",
    "        (fao_emissions['Area'].isin(asean_countries)) &\n",
    "        (fao_emissions['Item'] == 'Waste') &\n",
    "        (fao_emissions['Element'] == 'Emissions per capita')\n",
    "    ]\n",
    "    .sort_values('Year')\n",
    "    .drop_duplicates('Area', keep='last')\n",
    "    .rename(columns={'Area': 'Country', 'Year': 'Emission Data Year', 'Value': 'Emissions per Capita (tonnes CO2eq)'})\n",
    "    [['Country', 'Emission Data Year', 'Emissions per Capita (tonnes CO2eq)']]\n",
    ")\n",
    "\n",
    "# Total population (2022)\n",
    "total_population = (\n",
    "    fao_population[\n",
    "        (fao_population['Area'].isin(asean_countries)) &\n",
    "        (fao_population['Element'] == 'Total Population - Both sexes')\n",
    "    ]\n",
    ")\n",
    "latest_year = total_population[total_population['Year'].isin([2022])]['Year'].max()\n",
    "total_population = (\n",
    "    total_population[total_population['Year'] == latest_year]\n",
    "    .sort_values('Year')\n",
    "    .drop_duplicates('Area', keep='last')\n",
    "    .rename(columns={'Area': 'Country', 'Year': 'Population Year', 'Value': 'Total Population'})\n",
    ")\n",
    "total_population['Total Population'] *= 1000\n",
    "total_population = total_population[['Country', 'Population Year', 'Total Population']]\n",
    "\n",
    "# Merge and calculate total emissions\n",
    "ghg_via_per_capita = pd.merge(emissions_per_capita, total_population, on='Country')\n",
    "ghg_via_per_capita['Total Emissions (tonnes CO2eq)'] = (\n",
    "    ghg_via_per_capita['Emissions per Capita (tonnes CO2eq)'] * ghg_via_per_capita['Total Population']\n",
    ")\n",
    "ghg_via_per_capita = (\n",
    "    ghg_via_per_capita\n",
    "    .sort_values('Total Emissions (tonnes CO2eq)', ascending=False)\n",
    "    .reset_index(drop=True)\n",
    ")\n",
    "\n",
    "ghg_via_per_capita_fmt = ghg_via_per_capita.copy()\n",
    "ghg_via_per_capita_fmt['Total Emissions (tonnes CO2eq)'] = ghg_via_per_capita_fmt['Total Emissions (tonnes CO2eq)'].map('{:,.0f}'.format)\n",
    "ghg_via_per_capita_fmt['Total Population'] = ghg_via_per_capita_fmt['Total Population'].map('{:,.0f}'.format)\n",
    "\n",
    "print(\"--- Estimated GHG Emissions from Waste (Per Capita Method, tonnes) ---\")\n",
    "ghg_via_per_capita_fmt"
   ]
  },
  {
   "cell_type": "markdown",
   "id": "c48d7198",
   "metadata": {},
   "source": [
    "### Method: Using emissions per capita and population data (Agrifood Systems Emissions)"
   ]
  },
  {
   "cell_type": "code",
   "execution_count": 350,
   "id": "43f528b7",
   "metadata": {},
   "outputs": [
    {
     "name": "stdout",
     "output_type": "stream",
     "text": [
      "--- Estimated GHG Emissions from Waste (Per Capita Method, tonnes) ---\n"
     ]
    },
    {
     "data": {
      "application/vnd.microsoft.datawrangler.viewer.v0+json": {
       "columns": [
        {
         "name": "index",
         "rawType": "int64",
         "type": "integer"
        },
        {
         "name": "Country",
         "rawType": "object",
         "type": "string"
        },
        {
         "name": "Emission Data Year",
         "rawType": "int64",
         "type": "integer"
        },
        {
         "name": "Emissions per Capita (tonnes CO2eq)",
         "rawType": "float64",
         "type": "float"
        },
        {
         "name": "Population Year",
         "rawType": "int64",
         "type": "integer"
        },
        {
         "name": "Total Population",
         "rawType": "object",
         "type": "string"
        },
        {
         "name": "Total Emissions (tonnes CO2eq)",
         "rawType": "object",
         "type": "string"
        }
       ],
       "ref": "a68a62dc-54c5-4107-a855-f436a8bc6e2a",
       "rows": [
        [
         "0",
         "Indonesia",
         "2022",
         "2.86",
         "2022",
         "278,830,529",
         "797,455,313"
        ],
        [
         "1",
         "Thailand",
         "2022",
         "2.59",
         "2022",
         "71,735,329",
         "185,794,502"
        ],
        [
         "2",
         "Myanmar",
         "2022",
         "3.29",
         "2022",
         "53,756,787",
         "176,859,829"
        ],
        [
         "3",
         "Viet Nam",
         "2022",
         "1.52",
         "2022",
         "99,680,655",
         "151,514,596"
        ],
        [
         "4",
         "Malaysia",
         "2022",
         "3.55",
         "2022",
         "34,695,493",
         "123,169,000"
        ],
        [
         "5",
         "Philippines",
         "2022",
         "0.93",
         "2022",
         "113,964,339",
         "105,986,835"
        ],
        [
         "6",
         "Cambodia",
         "2022",
         "3.63",
         "2022",
         "17,201,724",
         "62,442,258"
        ],
        [
         "7",
         "Lao People's Democratic Republic",
         "2022",
         "3.74",
         "2022",
         "7,559,007",
         "28,270,686"
        ],
        [
         "8",
         "Singapore",
         "2022",
         "0.82",
         "2022",
         "5,649,885",
         "4,632,906"
        ],
        [
         "9",
         "Brunei Darussalam",
         "2022",
         "3.66",
         "2022",
         "455,370",
         "1,666,654"
        ]
       ],
       "shape": {
        "columns": 6,
        "rows": 10
       }
      },
      "text/html": [
       "<div>\n",
       "<style scoped>\n",
       "    .dataframe tbody tr th:only-of-type {\n",
       "        vertical-align: middle;\n",
       "    }\n",
       "\n",
       "    .dataframe tbody tr th {\n",
       "        vertical-align: top;\n",
       "    }\n",
       "\n",
       "    .dataframe thead th {\n",
       "        text-align: right;\n",
       "    }\n",
       "</style>\n",
       "<table border=\"1\" class=\"dataframe\">\n",
       "  <thead>\n",
       "    <tr style=\"text-align: right;\">\n",
       "      <th></th>\n",
       "      <th>Country</th>\n",
       "      <th>Emission Data Year</th>\n",
       "      <th>Emissions per Capita (tonnes CO2eq)</th>\n",
       "      <th>Population Year</th>\n",
       "      <th>Total Population</th>\n",
       "      <th>Total Emissions (tonnes CO2eq)</th>\n",
       "    </tr>\n",
       "  </thead>\n",
       "  <tbody>\n",
       "    <tr>\n",
       "      <th>0</th>\n",
       "      <td>Indonesia</td>\n",
       "      <td>2022</td>\n",
       "      <td>2.86</td>\n",
       "      <td>2022</td>\n",
       "      <td>278,830,529</td>\n",
       "      <td>797,455,313</td>\n",
       "    </tr>\n",
       "    <tr>\n",
       "      <th>1</th>\n",
       "      <td>Thailand</td>\n",
       "      <td>2022</td>\n",
       "      <td>2.59</td>\n",
       "      <td>2022</td>\n",
       "      <td>71,735,329</td>\n",
       "      <td>185,794,502</td>\n",
       "    </tr>\n",
       "    <tr>\n",
       "      <th>2</th>\n",
       "      <td>Myanmar</td>\n",
       "      <td>2022</td>\n",
       "      <td>3.29</td>\n",
       "      <td>2022</td>\n",
       "      <td>53,756,787</td>\n",
       "      <td>176,859,829</td>\n",
       "    </tr>\n",
       "    <tr>\n",
       "      <th>3</th>\n",
       "      <td>Viet Nam</td>\n",
       "      <td>2022</td>\n",
       "      <td>1.52</td>\n",
       "      <td>2022</td>\n",
       "      <td>99,680,655</td>\n",
       "      <td>151,514,596</td>\n",
       "    </tr>\n",
       "    <tr>\n",
       "      <th>4</th>\n",
       "      <td>Malaysia</td>\n",
       "      <td>2022</td>\n",
       "      <td>3.55</td>\n",
       "      <td>2022</td>\n",
       "      <td>34,695,493</td>\n",
       "      <td>123,169,000</td>\n",
       "    </tr>\n",
       "    <tr>\n",
       "      <th>5</th>\n",
       "      <td>Philippines</td>\n",
       "      <td>2022</td>\n",
       "      <td>0.93</td>\n",
       "      <td>2022</td>\n",
       "      <td>113,964,339</td>\n",
       "      <td>105,986,835</td>\n",
       "    </tr>\n",
       "    <tr>\n",
       "      <th>6</th>\n",
       "      <td>Cambodia</td>\n",
       "      <td>2022</td>\n",
       "      <td>3.63</td>\n",
       "      <td>2022</td>\n",
       "      <td>17,201,724</td>\n",
       "      <td>62,442,258</td>\n",
       "    </tr>\n",
       "    <tr>\n",
       "      <th>7</th>\n",
       "      <td>Lao People's Democratic Republic</td>\n",
       "      <td>2022</td>\n",
       "      <td>3.74</td>\n",
       "      <td>2022</td>\n",
       "      <td>7,559,007</td>\n",
       "      <td>28,270,686</td>\n",
       "    </tr>\n",
       "    <tr>\n",
       "      <th>8</th>\n",
       "      <td>Singapore</td>\n",
       "      <td>2022</td>\n",
       "      <td>0.82</td>\n",
       "      <td>2022</td>\n",
       "      <td>5,649,885</td>\n",
       "      <td>4,632,906</td>\n",
       "    </tr>\n",
       "    <tr>\n",
       "      <th>9</th>\n",
       "      <td>Brunei Darussalam</td>\n",
       "      <td>2022</td>\n",
       "      <td>3.66</td>\n",
       "      <td>2022</td>\n",
       "      <td>455,370</td>\n",
       "      <td>1,666,654</td>\n",
       "    </tr>\n",
       "  </tbody>\n",
       "</table>\n",
       "</div>"
      ],
      "text/plain": [
       "                            Country  Emission Data Year  \\\n",
       "0                         Indonesia                2022   \n",
       "1                          Thailand                2022   \n",
       "2                           Myanmar                2022   \n",
       "3                          Viet Nam                2022   \n",
       "4                          Malaysia                2022   \n",
       "5                       Philippines                2022   \n",
       "6                          Cambodia                2022   \n",
       "7  Lao People's Democratic Republic                2022   \n",
       "8                         Singapore                2022   \n",
       "9                 Brunei Darussalam                2022   \n",
       "\n",
       "   Emissions per Capita (tonnes CO2eq)  Population Year Total Population  \\\n",
       "0                                 2.86             2022      278,830,529   \n",
       "1                                 2.59             2022       71,735,329   \n",
       "2                                 3.29             2022       53,756,787   \n",
       "3                                 1.52             2022       99,680,655   \n",
       "4                                 3.55             2022       34,695,493   \n",
       "5                                 0.93             2022      113,964,339   \n",
       "6                                 3.63             2022       17,201,724   \n",
       "7                                 3.74             2022        7,559,007   \n",
       "8                                 0.82             2022        5,649,885   \n",
       "9                                 3.66             2022          455,370   \n",
       "\n",
       "  Total Emissions (tonnes CO2eq)  \n",
       "0                    797,455,313  \n",
       "1                    185,794,502  \n",
       "2                    176,859,829  \n",
       "3                    151,514,596  \n",
       "4                    123,169,000  \n",
       "5                    105,986,835  \n",
       "6                     62,442,258  \n",
       "7                     28,270,686  \n",
       "8                      4,632,906  \n",
       "9                      1,666,654  "
      ]
     },
     "execution_count": 350,
     "metadata": {},
     "output_type": "execute_result"
    }
   ],
   "source": [
    "asean_countries = [\n",
    "    'Brunei Darussalam', 'Cambodia', 'Indonesia', 'Lao People\\'s Democratic Republic',\n",
    "    'Malaysia', 'Myanmar', 'Philippines', 'Singapore', 'Thailand', 'Viet Nam'\n",
    "]\n",
    "\n",
    "# Emissions per capita from waste (latest year per country)\n",
    "emissions_per_capita = (\n",
    "    fao_emissions[\n",
    "        (fao_emissions['Area'].isin(asean_countries)) &\n",
    "        (fao_emissions['Item'] == 'Agrifood systems') &\n",
    "        (fao_emissions['Element'] == 'Emissions per capita')\n",
    "    ]\n",
    "    .sort_values('Year')\n",
    "    .drop_duplicates('Area', keep='last')\n",
    "    .rename(columns={'Area': 'Country', 'Year': 'Emission Data Year', 'Value': 'Emissions per Capita (tonnes CO2eq)'})\n",
    "    [['Country', 'Emission Data Year', 'Emissions per Capita (tonnes CO2eq)']]\n",
    ")\n",
    "\n",
    "# Total population (2022)\n",
    "total_population = (\n",
    "    fao_population[\n",
    "        (fao_population['Area'].isin(asean_countries)) &\n",
    "        (fao_population['Element'] == 'Total Population - Both sexes')\n",
    "    ]\n",
    ")\n",
    "latest_year = total_population[total_population['Year'].isin([2022])]['Year'].max()\n",
    "total_population = (\n",
    "    total_population[total_population['Year'] == latest_year]\n",
    "    .sort_values('Year')\n",
    "    .drop_duplicates('Area', keep='last')\n",
    "    .rename(columns={'Area': 'Country', 'Year': 'Population Year', 'Value': 'Total Population'})\n",
    ")\n",
    "total_population['Total Population'] *= 1000\n",
    "total_population = total_population[['Country', 'Population Year', 'Total Population']]\n",
    "\n",
    "# Merge and calculate total emissions\n",
    "agrifood_system_ghg = pd.merge(emissions_per_capita, total_population, on='Country')\n",
    "agrifood_system_ghg['Total Emissions (tonnes CO2eq)'] = (\n",
    "    agrifood_system_ghg['Emissions per Capita (tonnes CO2eq)'] * agrifood_system_ghg['Total Population']\n",
    ")\n",
    "agrifood_system_ghg = (\n",
    "    agrifood_system_ghg\n",
    "    .sort_values('Total Emissions (tonnes CO2eq)', ascending=False)\n",
    "    .reset_index(drop=True)\n",
    ")\n",
    "\n",
    "agrifood_system_ghg_fmt = agrifood_system_ghg.copy()\n",
    "agrifood_system_ghg_fmt['Total Emissions (tonnes CO2eq)'] = agrifood_system_ghg_fmt['Total Emissions (tonnes CO2eq)'].map('{:,.0f}'.format)\n",
    "agrifood_system_ghg_fmt['Total Population'] = agrifood_system_ghg_fmt['Total Population'].map('{:,.0f}'.format)\n",
    "\n",
    "print(\"--- Estimated GHG Emissions from Waste (Per Capita Method, tonnes) ---\")\n",
    "agrifood_system_ghg_fmt"
   ]
  },
  {
   "cell_type": "markdown",
   "id": "28265837",
   "metadata": {},
   "source": [
    "## Estimated Annual Electricity Generation Potential"
   ]
  },
  {
   "cell_type": "code",
   "execution_count": null,
   "id": "31ff7e8f",
   "metadata": {},
   "outputs": [
    {
     "name": "stdout",
     "output_type": "stream",
     "text": [
      "--- Estimated Annual Electricity Generation Potential from Inedible Food Waste ---\n"
     ]
    },
    {
     "data": {
      "application/vnd.microsoft.datawrangler.viewer.v0+json": {
       "columns": [
        {
         "name": "index",
         "rawType": "int64",
         "type": "integer"
        },
        {
         "name": "Country",
         "rawType": "object",
         "type": "string"
        },
        {
         "name": "Total Loss and Waste (tonnes)",
         "rawType": "object",
         "type": "string"
        },
        {
         "name": "Inedible Waste (tonnes)",
         "rawType": "object",
         "type": "string"
        },
        {
         "name": "Biogas Potential (m³)",
         "rawType": "object",
         "type": "string"
        },
        {
         "name": "Methane Potential (m³)",
         "rawType": "object",
         "type": "string"
        },
        {
         "name": "Gross Energy Potential (kWh)",
         "rawType": "object",
         "type": "string"
        },
        {
         "name": "Net Electricity Generated (kWh)",
         "rawType": "object",
         "type": "string"
        }
       ],
       "ref": "2e7600b3-eed8-41b8-973e-ca122ae239bb",
       "rows": [
        [
         "0",
         "Indonesia",
         "28,575,796",
         "16,002,446",
         "1,920,293,491",
         "1,152,176,095",
         "11,521,760,947",
         "4,032,616,332"
        ],
        [
         "1",
         "Viet Nam",
         "11,442,904",
         "6,408,026",
         "768,963,149",
         "461,377,889",
         "4,613,778,893",
         "1,614,822,612"
        ],
        [
         "2",
         "Thailand",
         "9,825,689",
         "5,502,386",
         "660,286,301",
         "396,171,780",
         "3,961,717,805",
         "1,386,601,232"
        ],
        [
         "3",
         "Philippines",
         "8,098,698",
         "4,535,271",
         "544,232,506",
         "326,539,503",
         "3,265,395,034",
         "1,142,888,262"
        ],
        [
         "4",
         "Myanmar",
         "7,776,942",
         "4,355,088",
         "522,610,502",
         "313,566,301",
         "3,135,663,014",
         "1,097,482,055"
        ],
        [
         "5",
         "Malaysia",
         "6,565,252",
         "3,676,541",
         "441,184,934",
         "264,710,961",
         "2,647,109,606",
         "926,488,362"
        ],
        [
         "6",
         "Cambodia",
         "2,181,143",
         "1,221,440",
         "146,572,810",
         "87,943,686",
         "879,436,858",
         "307,802,900"
        ],
        [
         "7",
         "Lao People's Democratic Republic",
         "1,227,657",
         "687,488",
         "82,498,550",
         "49,499,130",
         "494,991,302",
         "173,246,956"
        ],
        [
         "8",
         "Singapore",
         "699,621",
         "391,788",
         "47,014,531",
         "28,208,719",
         "282,087,187",
         "98,730,516"
        ],
        [
         "9",
         "Brunei Darussalam",
         "134,057",
         "75,072",
         "9,008,630",
         "5,405,178",
         "54,051,782",
         "18,918,124"
        ]
       ],
       "shape": {
        "columns": 7,
        "rows": 10
       }
      },
      "text/html": [
       "<div>\n",
       "<style scoped>\n",
       "    .dataframe tbody tr th:only-of-type {\n",
       "        vertical-align: middle;\n",
       "    }\n",
       "\n",
       "    .dataframe tbody tr th {\n",
       "        vertical-align: top;\n",
       "    }\n",
       "\n",
       "    .dataframe thead th {\n",
       "        text-align: right;\n",
       "    }\n",
       "</style>\n",
       "<table border=\"1\" class=\"dataframe\">\n",
       "  <thead>\n",
       "    <tr style=\"text-align: right;\">\n",
       "      <th></th>\n",
       "      <th>Country</th>\n",
       "      <th>Total Loss and Waste (tonnes)</th>\n",
       "      <th>Inedible Waste (tonnes)</th>\n",
       "      <th>Biogas Potential (m³)</th>\n",
       "      <th>Methane Potential (m³)</th>\n",
       "      <th>Gross Energy Potential (kWh)</th>\n",
       "      <th>Net Electricity Generated (kWh)</th>\n",
       "    </tr>\n",
       "  </thead>\n",
       "  <tbody>\n",
       "    <tr>\n",
       "      <th>0</th>\n",
       "      <td>Indonesia</td>\n",
       "      <td>28,575,796</td>\n",
       "      <td>16,002,446</td>\n",
       "      <td>1,920,293,491</td>\n",
       "      <td>1,152,176,095</td>\n",
       "      <td>11,521,760,947</td>\n",
       "      <td>4,032,616,332</td>\n",
       "    </tr>\n",
       "    <tr>\n",
       "      <th>1</th>\n",
       "      <td>Viet Nam</td>\n",
       "      <td>11,442,904</td>\n",
       "      <td>6,408,026</td>\n",
       "      <td>768,963,149</td>\n",
       "      <td>461,377,889</td>\n",
       "      <td>4,613,778,893</td>\n",
       "      <td>1,614,822,612</td>\n",
       "    </tr>\n",
       "    <tr>\n",
       "      <th>2</th>\n",
       "      <td>Thailand</td>\n",
       "      <td>9,825,689</td>\n",
       "      <td>5,502,386</td>\n",
       "      <td>660,286,301</td>\n",
       "      <td>396,171,780</td>\n",
       "      <td>3,961,717,805</td>\n",
       "      <td>1,386,601,232</td>\n",
       "    </tr>\n",
       "    <tr>\n",
       "      <th>3</th>\n",
       "      <td>Philippines</td>\n",
       "      <td>8,098,698</td>\n",
       "      <td>4,535,271</td>\n",
       "      <td>544,232,506</td>\n",
       "      <td>326,539,503</td>\n",
       "      <td>3,265,395,034</td>\n",
       "      <td>1,142,888,262</td>\n",
       "    </tr>\n",
       "    <tr>\n",
       "      <th>4</th>\n",
       "      <td>Myanmar</td>\n",
       "      <td>7,776,942</td>\n",
       "      <td>4,355,088</td>\n",
       "      <td>522,610,502</td>\n",
       "      <td>313,566,301</td>\n",
       "      <td>3,135,663,014</td>\n",
       "      <td>1,097,482,055</td>\n",
       "    </tr>\n",
       "    <tr>\n",
       "      <th>5</th>\n",
       "      <td>Malaysia</td>\n",
       "      <td>6,565,252</td>\n",
       "      <td>3,676,541</td>\n",
       "      <td>441,184,934</td>\n",
       "      <td>264,710,961</td>\n",
       "      <td>2,647,109,606</td>\n",
       "      <td>926,488,362</td>\n",
       "    </tr>\n",
       "    <tr>\n",
       "      <th>6</th>\n",
       "      <td>Cambodia</td>\n",
       "      <td>2,181,143</td>\n",
       "      <td>1,221,440</td>\n",
       "      <td>146,572,810</td>\n",
       "      <td>87,943,686</td>\n",
       "      <td>879,436,858</td>\n",
       "      <td>307,802,900</td>\n",
       "    </tr>\n",
       "    <tr>\n",
       "      <th>7</th>\n",
       "      <td>Lao People's Democratic Republic</td>\n",
       "      <td>1,227,657</td>\n",
       "      <td>687,488</td>\n",
       "      <td>82,498,550</td>\n",
       "      <td>49,499,130</td>\n",
       "      <td>494,991,302</td>\n",
       "      <td>173,246,956</td>\n",
       "    </tr>\n",
       "    <tr>\n",
       "      <th>8</th>\n",
       "      <td>Singapore</td>\n",
       "      <td>699,621</td>\n",
       "      <td>391,788</td>\n",
       "      <td>47,014,531</td>\n",
       "      <td>28,208,719</td>\n",
       "      <td>282,087,187</td>\n",
       "      <td>98,730,516</td>\n",
       "    </tr>\n",
       "    <tr>\n",
       "      <th>9</th>\n",
       "      <td>Brunei Darussalam</td>\n",
       "      <td>134,057</td>\n",
       "      <td>75,072</td>\n",
       "      <td>9,008,630</td>\n",
       "      <td>5,405,178</td>\n",
       "      <td>54,051,782</td>\n",
       "      <td>18,918,124</td>\n",
       "    </tr>\n",
       "  </tbody>\n",
       "</table>\n",
       "</div>"
      ],
      "text/plain": [
       "                            Country Total Loss and Waste (tonnes)  \\\n",
       "0                         Indonesia                    28,575,796   \n",
       "1                          Viet Nam                    11,442,904   \n",
       "2                          Thailand                     9,825,689   \n",
       "3                       Philippines                     8,098,698   \n",
       "4                           Myanmar                     7,776,942   \n",
       "5                          Malaysia                     6,565,252   \n",
       "6                          Cambodia                     2,181,143   \n",
       "7  Lao People's Democratic Republic                     1,227,657   \n",
       "8                         Singapore                       699,621   \n",
       "9                 Brunei Darussalam                       134,057   \n",
       "\n",
       "  Inedible Waste (tonnes) Biogas Potential (m³) Methane Potential (m³)  \\\n",
       "0              16,002,446         1,920,293,491          1,152,176,095   \n",
       "1               6,408,026           768,963,149            461,377,889   \n",
       "2               5,502,386           660,286,301            396,171,780   \n",
       "3               4,535,271           544,232,506            326,539,503   \n",
       "4               4,355,088           522,610,502            313,566,301   \n",
       "5               3,676,541           441,184,934            264,710,961   \n",
       "6               1,221,440           146,572,810             87,943,686   \n",
       "7                 687,488            82,498,550             49,499,130   \n",
       "8                 391,788            47,014,531             28,208,719   \n",
       "9                  75,072             9,008,630              5,405,178   \n",
       "\n",
       "  Gross Energy Potential (kWh) Net Electricity Generated (kWh)  \n",
       "0               11,521,760,947                   4,032,616,332  \n",
       "1                4,613,778,893                   1,614,822,612  \n",
       "2                3,961,717,805                   1,386,601,232  \n",
       "3                3,265,395,034                   1,142,888,262  \n",
       "4                3,135,663,014                   1,097,482,055  \n",
       "5                2,647,109,606                     926,488,362  \n",
       "6                  879,436,858                     307,802,900  \n",
       "7                  494,991,302                     173,246,956  \n",
       "8                  282,087,187                      98,730,516  \n",
       "9                   54,051,782                      18,918,124  "
      ]
     },
     "execution_count": 351,
     "metadata": {},
     "output_type": "execute_result"
    }
   ],
   "source": [
    "# Assumptions and conversion factors\n",
    "INEDIBLE_WASTE_PERCENTAGE = 0.5\n",
    "BIOGAS_YIELD_M3_PER_TONNE = 120\n",
    "METHANE_PERCENTAGE_IN_BIOGAS = 0.60\n",
    "KWH_PER_M3_METHANE = 10.0\n",
    "GENERATOR_EFFICIENCY = 0.35\n",
    "\n",
    "# Calculate total food loss and waste per country\n",
    "total_waste_df = total_loss_per_country.merge(\n",
    "    total_waste[['Country', 'Total Food Waste (tonnes/year)']].rename(\n",
    "        columns={'Total Food Waste (tonnes/year)': 'Total Food Waste (tonnes)'}\n",
    "    ),\n",
    "    on='Country', how='outer'\n",
    ").fillna(0)\n",
    "total_waste_df['Total Loss and Waste (tonnes)'] = (\n",
    "    total_waste_df['Total Food Loss (tonnes)'] + total_waste_df['Total Food Waste (tonnes)']\n",
    ")\n",
    "\n",
    "# Calculate bioenergy potential\n",
    "bioenergy = environmental_impact[['Country', 'Total Loss and Waste (tonnes)']].copy()\n",
    "bioenergy['Inedible Waste (tonnes)'] = bioenergy['Total Loss and Waste (tonnes)'] * INEDIBLE_WASTE_PERCENTAGE\n",
    "bioenergy['Biogas Potential (m³)'] = bioenergy['Inedible Waste (tonnes)'] * BIOGAS_YIELD_M3_PER_TONNE\n",
    "bioenergy['Methane Potential (m³)'] = bioenergy['Biogas Potential (m³)'] * METHANE_PERCENTAGE_IN_BIOGAS\n",
    "bioenergy['Gross Energy Potential (kWh)'] = bioenergy['Methane Potential (m³)'] * KWH_PER_M3_METHANE\n",
    "bioenergy['Net Electricity Generated (kWh)'] = bioenergy['Gross Energy Potential (kWh)'] * GENERATOR_EFFICIENCY\n",
    "\n",
    "bioenergy = bioenergy.sort_values('Net Electricity Generated (kWh)', ascending=False).reset_index(drop=True)\n",
    "\n",
    "# Format output\n",
    "bioenergy_fmt = bioenergy.copy()\n",
    "bioenergy_fmt['Total Loss and Waste (tonnes)'] = bioenergy['Total Loss and Waste (tonnes)'].map('{:,.0f}'.format)\n",
    "bioenergy_fmt['Net Electricity Generated (kWh)'] = bioenergy['Net Electricity Generated (kWh)'].map('{:,.0f}'.format)\n",
    "bioenergy_fmt['Inedible Waste (tonnes)'] = bioenergy['Inedible Waste (tonnes)'].map('{:,.0f}'.format)\n",
    "bioenergy_fmt['Biogas Potential (m³)'] = bioenergy['Biogas Potential (m³)'].map('{:,.0f}'.format)\n",
    "bioenergy_fmt['Methane Potential (m³)'] = bioenergy['Methane Potential (m³)'].map('{:,.0f}'.format)\n",
    "bioenergy_fmt['Gross Energy Potential (kWh)'] = bioenergy['Gross Energy Potential (kWh)'].map('{:,.0f}'.format)\n",
    "\n",
    "print(\"--- Estimated Annual Electricity Generation Potential from Inedible Food Waste ---\")\n",
    "bioenergy_fmt"
   ]
  },
  {
   "cell_type": "markdown",
   "id": "d43d0ea4",
   "metadata": {},
   "source": [
    "## Regulations (Questionable)"
   ]
  },
  {
   "cell_type": "code",
   "execution_count": 370,
   "id": "06fc7252",
   "metadata": {},
   "outputs": [
    {
     "name": "stdout",
     "output_type": "stream",
     "text": [
      "--- ASEAN Country Performance Scorecard ---\n"
     ]
    },
    {
     "data": {
      "application/vnd.microsoft.datawrangler.viewer.v0+json": {
       "columns": [
        {
         "name": "index",
         "rawType": "int64",
         "type": "integer"
        },
        {
         "name": "Country",
         "rawType": "object",
         "type": "string"
        },
        {
         "name": "Household Waste (kg/capita/yr)",
         "rawType": "int64",
         "type": "integer"
        },
        {
         "name": "Food Insecurity (%)",
         "rawType": "object",
         "type": "unknown"
        },
        {
         "name": "Waste GHG Emissions (tonnes CO2eq/capita)",
         "rawType": "float64",
         "type": "float"
        }
       ],
       "ref": "564b8d86-3f67-42f9-9ab7-ae9e59c395a4",
       "rows": [
        [
         "0",
         "Viet Nam",
         "72",
         "12.3",
         "0.28"
        ],
        [
         "1",
         "Malaysia",
         "81",
         "14.2",
         "0.5"
        ],
        [
         "2",
         "Myanmar",
         "78",
         "36.9",
         "0.2"
        ],
        [
         "3",
         "Lao People's Democratic Republic",
         "89",
         "39.1",
         "0.22"
        ],
        [
         "4",
         "Philippines",
         "26",
         "45.6",
         "0.21"
        ],
        [
         "5",
         "Indonesia",
         "53",
         "5.4",
         "0.33"
        ],
        [
         "6",
         "Cambodia",
         "85",
         "53.5",
         "0.2"
        ],
        [
         "7",
         "Thailand",
         "86",
         "6.7",
         "0.44"
        ],
        [
         "8",
         "Singapore",
         "68",
         "8.4",
         "0.85"
        ],
        [
         "9",
         "Brunei Darussalam",
         "76",
         null,
         "0.35"
        ]
       ],
       "shape": {
        "columns": 4,
        "rows": 10
       }
      },
      "text/html": [
       "<div>\n",
       "<style scoped>\n",
       "    .dataframe tbody tr th:only-of-type {\n",
       "        vertical-align: middle;\n",
       "    }\n",
       "\n",
       "    .dataframe tbody tr th {\n",
       "        vertical-align: top;\n",
       "    }\n",
       "\n",
       "    .dataframe thead th {\n",
       "        text-align: right;\n",
       "    }\n",
       "</style>\n",
       "<table border=\"1\" class=\"dataframe\">\n",
       "  <thead>\n",
       "    <tr style=\"text-align: right;\">\n",
       "      <th></th>\n",
       "      <th>Country</th>\n",
       "      <th>Household Waste (kg/capita/yr)</th>\n",
       "      <th>Food Insecurity (%)</th>\n",
       "      <th>Waste GHG Emissions (tonnes CO2eq/capita)</th>\n",
       "    </tr>\n",
       "  </thead>\n",
       "  <tbody>\n",
       "    <tr>\n",
       "      <th>0</th>\n",
       "      <td>Viet Nam</td>\n",
       "      <td>72</td>\n",
       "      <td>12.3</td>\n",
       "      <td>0.28</td>\n",
       "    </tr>\n",
       "    <tr>\n",
       "      <th>1</th>\n",
       "      <td>Malaysia</td>\n",
       "      <td>81</td>\n",
       "      <td>14.2</td>\n",
       "      <td>0.50</td>\n",
       "    </tr>\n",
       "    <tr>\n",
       "      <th>2</th>\n",
       "      <td>Myanmar</td>\n",
       "      <td>78</td>\n",
       "      <td>36.9</td>\n",
       "      <td>0.20</td>\n",
       "    </tr>\n",
       "    <tr>\n",
       "      <th>3</th>\n",
       "      <td>Lao People's Democratic Republic</td>\n",
       "      <td>89</td>\n",
       "      <td>39.1</td>\n",
       "      <td>0.22</td>\n",
       "    </tr>\n",
       "    <tr>\n",
       "      <th>4</th>\n",
       "      <td>Philippines</td>\n",
       "      <td>26</td>\n",
       "      <td>45.6</td>\n",
       "      <td>0.21</td>\n",
       "    </tr>\n",
       "    <tr>\n",
       "      <th>5</th>\n",
       "      <td>Indonesia</td>\n",
       "      <td>53</td>\n",
       "      <td>5.4</td>\n",
       "      <td>0.33</td>\n",
       "    </tr>\n",
       "    <tr>\n",
       "      <th>6</th>\n",
       "      <td>Cambodia</td>\n",
       "      <td>85</td>\n",
       "      <td>53.5</td>\n",
       "      <td>0.20</td>\n",
       "    </tr>\n",
       "    <tr>\n",
       "      <th>7</th>\n",
       "      <td>Thailand</td>\n",
       "      <td>86</td>\n",
       "      <td>6.7</td>\n",
       "      <td>0.44</td>\n",
       "    </tr>\n",
       "    <tr>\n",
       "      <th>8</th>\n",
       "      <td>Singapore</td>\n",
       "      <td>68</td>\n",
       "      <td>8.4</td>\n",
       "      <td>0.85</td>\n",
       "    </tr>\n",
       "    <tr>\n",
       "      <th>9</th>\n",
       "      <td>Brunei Darussalam</td>\n",
       "      <td>76</td>\n",
       "      <td>NaN</td>\n",
       "      <td>0.35</td>\n",
       "    </tr>\n",
       "  </tbody>\n",
       "</table>\n",
       "</div>"
      ],
      "text/plain": [
       "                            Country  Household Waste (kg/capita/yr)  \\\n",
       "0                          Viet Nam                              72   \n",
       "1                          Malaysia                              81   \n",
       "2                           Myanmar                              78   \n",
       "3  Lao People's Democratic Republic                              89   \n",
       "4                       Philippines                              26   \n",
       "5                         Indonesia                              53   \n",
       "6                          Cambodia                              85   \n",
       "7                          Thailand                              86   \n",
       "8                         Singapore                              68   \n",
       "9                 Brunei Darussalam                              76   \n",
       "\n",
       "  Food Insecurity (%)  Waste GHG Emissions (tonnes CO2eq/capita)  \n",
       "0                12.3                                       0.28  \n",
       "1                14.2                                       0.50  \n",
       "2                36.9                                       0.20  \n",
       "3                39.1                                       0.22  \n",
       "4                45.6                                       0.21  \n",
       "5                 5.4                                       0.33  \n",
       "6                53.5                                       0.20  \n",
       "7                 6.7                                       0.44  \n",
       "8                 8.4                                       0.85  \n",
       "9                 NaN                                       0.35  "
      ]
     },
     "execution_count": 370,
     "metadata": {},
     "output_type": "execute_result"
    }
   ],
   "source": [
    "asean_countries = [\n",
    "    'Brunei Darussalam', 'Cambodia', 'Indonesia', 'Lao People\\'s Democratic Republic',\n",
    "    'Malaysia', 'Myanmar', 'Philippines', 'Singapore', 'Thailand', 'Viet Nam'\n",
    "]\n",
    "\n",
    "# Household Waste per Capita\n",
    "waste_per_capita = f_waste[f_waste['Country'].isin(asean_countries)][['Country', 'Household estimate (kg/capita/year)']].rename(\n",
    "    columns={'Household estimate (kg/capita/year)': 'Household Waste (kg/capita/yr)'}\n",
    ")\n",
    "\n",
    "# Food Insecurity Prevalence\n",
    "fs_insecurity = fao_fs[\n",
    "    (fao_fs['Area'].isin(asean_countries)) &\n",
    "    (fao_fs['Item'] == 'Prevalence of moderate or severe food insecurity in the total population (percent) (3-year average)')\n",
    "].sort_values('Year').drop_duplicates('Area', keep='last')[['Area', 'Value']].rename(\n",
    "    columns={'Area': 'Country', 'Value': 'Food Insecurity (%)'}\n",
    ")\n",
    "\n",
    "# GHG Emissions per Capita\n",
    "emissions_pc = fao_emissions[\n",
    "    (fao_emissions['Area'].isin(asean_countries)) &\n",
    "    (fao_emissions['Item'] == 'Waste') &\n",
    "    (fao_emissions['Element'] == 'Emissions per capita')\n",
    "].sort_values('Year').drop_duplicates('Area', keep='last')[['Area', 'Value']].rename(\n",
    "    columns={'Area': 'Country', 'Value': 'Waste GHG Emissions (tonnes CO2eq/capita)'}\n",
    ")\n",
    "\n",
    "# Assemble the Country Performance Scorecard\n",
    "scorecard_df = waste_per_capita.merge(fs_insecurity, on='Country', how='left').merge(emissions_pc, on='Country', how='left')\n",
    "scorecard_df = scorecard_df.sort_values('Food Insecurity (%)').reset_index(drop=True)\n",
    "\n",
    "print(\"--- ASEAN Country Performance Scorecard ---\")\n",
    "scorecard_df"
   ]
  },
  {
   "cell_type": "code",
   "execution_count": 372,
   "id": "31aa1534",
   "metadata": {},
   "outputs": [
    {
     "name": "stdout",
     "output_type": "stream",
     "text": [
      "\n",
      "--- GFSI Profile of Countries with Lower Food Insecurity ---\n"
     ]
    },
    {
     "data": {
      "application/vnd.microsoft.datawrangler.viewer.v0+json": {
       "columns": [
        {
         "name": "Indicator",
         "rawType": "object",
         "type": "string"
        },
        {
         "name": "Malaysia",
         "rawType": "object",
         "type": "unknown"
        },
        {
         "name": "Myanmar",
         "rawType": "object",
         "type": "unknown"
        }
       ],
       "ref": "f353d8c5-91d0-49d5-9b23-017a8939fb0b",
       "rows": [
        [
         "1.5.1) Presence of food safety net programmes",
         "1.0",
         "1.0"
        ],
        [
         "2.3.1) Crop storage facilities",
         "1.0",
         "0.0"
        ],
        [
         "2.5) Food loss",
         "1.66",
         "6.34"
        ],
        [
         "2.6.2) Road infrastructure",
         "2.0",
         "0.0"
        ],
        [
         "2.9.1) Food security strategy",
         "1.0",
         "1.0"
        ]
       ],
       "shape": {
        "columns": 2,
        "rows": 5
       }
      },
      "text/html": [
       "<div>\n",
       "<style scoped>\n",
       "    .dataframe tbody tr th:only-of-type {\n",
       "        vertical-align: middle;\n",
       "    }\n",
       "\n",
       "    .dataframe tbody tr th {\n",
       "        vertical-align: top;\n",
       "    }\n",
       "\n",
       "    .dataframe thead th {\n",
       "        text-align: right;\n",
       "    }\n",
       "</style>\n",
       "<table border=\"1\" class=\"dataframe\">\n",
       "  <thead>\n",
       "    <tr style=\"text-align: right;\">\n",
       "      <th>Country</th>\n",
       "      <th>Malaysia</th>\n",
       "      <th>Myanmar</th>\n",
       "    </tr>\n",
       "    <tr>\n",
       "      <th>Indicator</th>\n",
       "      <th></th>\n",
       "      <th></th>\n",
       "    </tr>\n",
       "  </thead>\n",
       "  <tbody>\n",
       "    <tr>\n",
       "      <th>1.5.1) Presence of food safety net programmes</th>\n",
       "      <td>1.0</td>\n",
       "      <td>1.0</td>\n",
       "    </tr>\n",
       "    <tr>\n",
       "      <th>2.3.1) Crop storage facilities</th>\n",
       "      <td>1.0</td>\n",
       "      <td>0.0</td>\n",
       "    </tr>\n",
       "    <tr>\n",
       "      <th>2.5) Food loss</th>\n",
       "      <td>1.66</td>\n",
       "      <td>6.34</td>\n",
       "    </tr>\n",
       "    <tr>\n",
       "      <th>2.6.2) Road infrastructure</th>\n",
       "      <td>2.0</td>\n",
       "      <td>0.0</td>\n",
       "    </tr>\n",
       "    <tr>\n",
       "      <th>2.9.1) Food security strategy</th>\n",
       "      <td>1.0</td>\n",
       "      <td>1.0</td>\n",
       "    </tr>\n",
       "  </tbody>\n",
       "</table>\n",
       "</div>"
      ],
      "text/plain": [
       "Country                                       Malaysia Myanmar\n",
       "Indicator                                                     \n",
       "1.5.1) Presence of food safety net programmes      1.0     1.0\n",
       "2.3.1) Crop storage facilities                     1.0     0.0\n",
       "2.5) Food loss                                    1.66    6.34\n",
       "2.6.2) Road infrastructure                         2.0     0.0\n",
       "2.9.1) Food security strategy                      1.0     1.0"
      ]
     },
     "execution_count": 372,
     "metadata": {},
     "output_type": "execute_result"
    }
   ],
   "source": [
    "# Load GFSI Data for Profiling\n",
    "asean_gfsi_countries = ['Cambodia', 'Indonesia', 'Malaysia', 'Myanmar', 'Philippines', 'Singapore', 'Thailand']\n",
    "gfsi_asean = gfsi_data[gfsi_data['Country'].isin(asean_gfsi_countries)]\n",
    "gfsi_asean.loc[:, 'Value'] = gfsi_asean['Value'].astype(float)\n",
    "\n",
    "# Display key GFSI indicators for top-performing countries\n",
    "top_performers = scorecard_df.head(4)['Country'].tolist()\n",
    "key_gfsi_indicators = [\n",
    "    '1.5.1) Presence of food safety net programmes',\n",
    "    '2.3.1) Crop storage facilities',\n",
    "    '2.6.2) Road infrastructure',\n",
    "    '2.9.1) Food security strategy',\n",
    "    '2.5) Food loss'\n",
    "]\n",
    "\n",
    "profiling_df = gfsi_asean[\n",
    "    (gfsi_asean['Country'].isin(top_performers)) &\n",
    "    (gfsi_asean['Indicator'].isin(key_gfsi_indicators))\n",
    "]\n",
    "\n",
    "# Pivot table for comparison\n",
    "profiling_pivot = profiling_df.pivot_table(index='Indicator', columns='Country', values='Value')\n",
    "\n",
    "print(\"\\n--- GFSI Profile of Countries with Lower Food Insecurity ---\")\n",
    "profiling_pivot"
   ]
  }
 ],
 "metadata": {
  "kernelspec": {
   "display_name": ".venv",
   "language": "python",
   "name": "python3"
  },
  "language_info": {
   "codemirror_mode": {
    "name": "ipython",
    "version": 3
   },
   "file_extension": ".py",
   "mimetype": "text/x-python",
   "name": "python",
   "nbconvert_exporter": "python",
   "pygments_lexer": "ipython3",
   "version": "3.12.10"
  }
 },
 "nbformat": 4,
 "nbformat_minor": 5
}
